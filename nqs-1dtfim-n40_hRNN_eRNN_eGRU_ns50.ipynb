{
 "cells": [
  {
   "cell_type": "code",
   "execution_count": 1,
   "id": "25915fd8",
   "metadata": {
    "_cell_guid": "b1076dfc-b9ad-4769-8c92-a6c4dae69d19",
    "_uuid": "8f2839f25d086af736a60e9eeb907d3b93b6e0e5",
    "execution": {
     "iopub.execute_input": "2024-10-15T14:55:08.085704Z",
     "iopub.status.busy": "2024-10-15T14:55:08.084825Z",
     "iopub.status.idle": "2024-10-15T14:55:08.106049Z",
     "shell.execute_reply": "2024-10-15T14:55:08.104853Z"
    },
    "papermill": {
     "duration": 0.02821,
     "end_time": "2024-10-15T14:55:08.107973",
     "exception": false,
     "start_time": "2024-10-15T14:55:08.079763",
     "status": "completed"
    },
    "tags": []
   },
   "outputs": [
    {
     "name": "stdout",
     "output_type": "stream",
     "text": [
      "/kaggle/input/nqs-rnn/rnn_impl_tf2.py\n",
      "/kaggle/input/nqs-rnn/nqs_TrainingLoop_hyp_tf2.py\n",
      "/kaggle/input/nqs-rnn/util_v2.py\n",
      "/kaggle/input/nqs-rnn/nqs_RNNwavefunction_hyp.py\n"
     ]
    }
   ],
   "source": [
    "import numpy as np \n",
    "import matplotlib.pyplot as plt\n",
    "\n",
    "import os\n",
    "for dirname, _, filenames in os.walk('/kaggle/input'):\n",
    "    for filename in filenames:\n",
    "        print(os.path.join(dirname, filename))\n"
   ]
  },
  {
   "cell_type": "code",
   "execution_count": 2,
   "id": "ff5f83de",
   "metadata": {
    "execution": {
     "iopub.execute_input": "2024-10-15T14:55:08.116363Z",
     "iopub.status.busy": "2024-10-15T14:55:08.115555Z",
     "iopub.status.idle": "2024-10-15T14:55:20.843766Z",
     "shell.execute_reply": "2024-10-15T14:55:20.842939Z"
    },
    "papermill": {
     "duration": 12.734697,
     "end_time": "2024-10-15T14:55:20.846146",
     "exception": false,
     "start_time": "2024-10-15T14:55:08.111449",
     "status": "completed"
    },
    "tags": []
   },
   "outputs": [],
   "source": [
    "#https://www.kaggle.com/discussions/product-feedback/91185\n",
    "import sys\n",
    "sys.path.insert(1,'/kaggle/input/nqs-rnn/')\n",
    "from nqs_TrainingLoop_hyp_tf2 import *"
   ]
  },
  {
   "cell_type": "code",
   "execution_count": 3,
   "id": "55dce36d",
   "metadata": {
    "execution": {
     "iopub.execute_input": "2024-10-15T14:55:20.854179Z",
     "iopub.status.busy": "2024-10-15T14:55:20.853670Z",
     "iopub.status.idle": "2024-10-15T14:55:21.058946Z",
     "shell.execute_reply": "2024-10-15T14:55:21.057829Z"
    },
    "papermill": {
     "duration": 0.211331,
     "end_time": "2024-10-15T14:55:21.060901",
     "exception": false,
     "start_time": "2024-10-15T14:55:20.849570",
     "status": "completed"
    },
    "tags": []
   },
   "outputs": [
    {
     "name": "stdout",
     "output_type": "stream",
     "text": [
      "Num GPUs Available:  1\n"
     ]
    }
   ],
   "source": [
    "print(\"Num GPUs Available: \", len(tf.config.list_physical_devices('GPU')))"
   ]
  },
  {
   "cell_type": "code",
   "execution_count": 4,
   "id": "4cc7a9e4",
   "metadata": {
    "execution": {
     "iopub.execute_input": "2024-10-15T14:55:21.068755Z",
     "iopub.status.busy": "2024-10-15T14:55:21.068432Z",
     "iopub.status.idle": "2024-10-15T14:55:21.073081Z",
     "shell.execute_reply": "2024-10-15T14:55:21.072174Z"
    },
    "papermill": {
     "duration": 0.011389,
     "end_time": "2024-10-15T14:55:21.075658",
     "exception": false,
     "start_time": "2024-10-15T14:55:21.064269",
     "status": "completed"
    },
    "tags": []
   },
   "outputs": [],
   "source": [
    "N=40\n",
    "numunits = 50\n",
    "Jz = np.ones(N)\n",
    "Bx = 1\n",
    "E_exact = -50.5694337844"
   ]
  },
  {
   "cell_type": "code",
   "execution_count": 5,
   "id": "587803b6",
   "metadata": {
    "execution": {
     "iopub.execute_input": "2024-10-15T14:55:21.083147Z",
     "iopub.status.busy": "2024-10-15T14:55:21.082832Z",
     "iopub.status.idle": "2024-10-15T14:55:21.087042Z",
     "shell.execute_reply": "2024-10-15T14:55:21.086238Z"
    },
    "papermill": {
     "duration": 0.009998,
     "end_time": "2024-10-15T14:55:21.088862",
     "exception": false,
     "start_time": "2024-10-15T14:55:21.078864",
     "status": "completed"
    },
    "tags": []
   },
   "outputs": [],
   "source": [
    "if not os.path.exists('/kaggle/working/results'):\n",
    "    os.mkdir('/kaggle/working/results')"
   ]
  },
  {
   "cell_type": "code",
   "execution_count": 6,
   "id": "72551c0f",
   "metadata": {
    "execution": {
     "iopub.execute_input": "2024-10-15T14:55:21.096221Z",
     "iopub.status.busy": "2024-10-15T14:55:21.095921Z",
     "iopub.status.idle": "2024-10-15T16:58:29.008482Z",
     "shell.execute_reply": "2024-10-15T16:58:29.007431Z"
    },
    "papermill": {
     "duration": 7387.918996,
     "end_time": "2024-10-15T16:58:29.011004",
     "exception": false,
     "start_time": "2024-10-15T14:55:21.092008",
     "status": "completed"
    },
    "tags": []
   },
   "outputs": [
    {
     "name": "stdout",
     "output_type": "stream",
     "text": [
      "step: 0, loss: 0.19407967810889204, mean energy: -39.37707361429086, varE: 30.279444209620856\n",
      "step: 10, loss: 0.15854756149610694, mean energy: -38.989729222173935, varE: 31.263887431511613\n",
      "step: 20, loss: -1.582623511622387, mean energy: -40.1110514838532, varE: 36.11364860352746\n",
      "step: 30, loss: -1.623846556449962, mean energy: -40.23910545538426, varE: 37.735933034693225\n",
      "step: 40, loss: -3.548300710010153, mean energy: -40.62488577377221, varE: 29.606080554390946\n",
      "step: 50, loss: -4.837555043352268, mean energy: -44.26478622038721, varE: 27.609243945356102\n",
      "step: 60, loss: -0.247891896811268, mean energy: -49.25256749409662, varE: 2.9926615721373797\n",
      "step: 70, loss: 2.0909355886039407, mean energy: -49.08234726285953, varE: 1.7506857904810544\n",
      "step: 80, loss: -2.035205264016156, mean energy: -49.32156177911069, varE: 3.917958225695823\n",
      "step: 90, loss: -4.876896249837614, mean energy: -48.961874204195475, varE: 3.277966979599439\n",
      "step: 100, loss: 0.30891362474238804, mean energy: -49.32650616161258, varE: 1.797957755259072\n",
      "step: 110, loss: 1.1096054420198698, mean energy: -49.5398326701768, varE: 4.604039118782067\n",
      "step: 120, loss: -1.3228468990159854, mean energy: -49.366091436361856, varE: 3.387095210842614\n",
      "step: 130, loss: 0.454759929513898, mean energy: -49.234803114134, varE: 2.54801618581862\n",
      "step: 140, loss: -1.5785147485037214, mean energy: -49.03966866262138, varE: 1.8627030027566616\n",
      "step: 150, loss: -0.8200036035472067, mean energy: -49.33975573125986, varE: 3.086139664065069\n",
      "step: 160, loss: 3.451202955251233, mean energy: -49.47717781832842, varE: 4.417780348048996\n",
      "step: 170, loss: 0.2825334924544336, mean energy: -49.46666248645101, varE: 3.2289245932375206\n",
      "step: 180, loss: -1.8275506811013429, mean energy: -49.20818860216795, varE: 2.697991893163969\n",
      "step: 190, loss: 0.5599619640208289, mean energy: -49.311247405398284, varE: 1.8662879542083906\n"
     ]
    }
   ],
   "source": [
    "#HypRNN\n",
    "mE_hrnn, vE_hrnn = run_1DTFIM(numsteps = 200,cell_type = 'HypRNN', systemsize = N, num_units = numunits, \n",
    "                              Bx = Bx, numsamples = 50, learningrate=1e-2, seed = 111)"
   ]
  },
  {
   "cell_type": "code",
   "execution_count": 7,
   "id": "51516b69",
   "metadata": {
    "execution": {
     "iopub.execute_input": "2024-10-15T16:58:29.022663Z",
     "iopub.status.busy": "2024-10-15T16:58:29.021862Z",
     "iopub.status.idle": "2024-10-15T16:58:29.026022Z",
     "shell.execute_reply": "2024-10-15T16:58:29.025152Z"
    },
    "papermill": {
     "duration": 0.01182,
     "end_time": "2024-10-15T16:58:29.027912",
     "exception": false,
     "start_time": "2024-10-15T16:58:29.016092",
     "status": "completed"
    },
    "tags": []
   },
   "outputs": [],
   "source": [
    "#HypGRU\n",
    "#mE_hgru, vE_hgru = run_1DTFIM(numsteps = 200,cell_type = 'HypGRU', systemsize = N, num_units = numunits, Bx = Bx, \n",
    "#                numsamples = 50, learningrate=1e-2, seed = 111)"
   ]
  },
  {
   "cell_type": "code",
   "execution_count": 8,
   "id": "45cb55e2",
   "metadata": {
    "execution": {
     "iopub.execute_input": "2024-10-15T16:58:29.038320Z",
     "iopub.status.busy": "2024-10-15T16:58:29.038008Z",
     "iopub.status.idle": "2024-10-15T17:31:14.725861Z",
     "shell.execute_reply": "2024-10-15T17:31:14.724898Z"
    },
    "papermill": {
     "duration": 1965.695924,
     "end_time": "2024-10-15T17:31:14.728523",
     "exception": false,
     "start_time": "2024-10-15T16:58:29.032599",
     "status": "completed"
    },
    "tags": []
   },
   "outputs": [
    {
     "name": "stdout",
     "output_type": "stream",
     "text": [
      "step: 0, loss: -0.990318404122263, mean energy: -40.733291562731694, varE: 34.50042674348791\n",
      "step: 10, loss: -3.1994513802276288, mean energy: -49.96493000572423, varE: 1.6578829958877808\n",
      "step: 20, loss: 2.3398124312885784, mean energy: -50.225542469305225, varE: 0.7321232438275372\n",
      "step: 30, loss: -1.3564259400851597, mean energy: -50.34866899220323, varE: 0.3438589263195552\n",
      "step: 40, loss: 0.8226765085128136, mean energy: -50.58924863851965, varE: 0.36278640769613363\n",
      "step: 50, loss: -0.15318172781735484, mean energy: -50.539511595476725, varE: 0.13208896423358651\n",
      "step: 60, loss: 0.31897423847783557, mean energy: -50.43550549121817, varE: 0.16881494451272105\n",
      "step: 70, loss: -0.07121853622447816, mean energy: -50.46204082031882, varE: 0.18133523688205982\n",
      "step: 80, loss: -0.44252294145564974, mean energy: -50.47928690029131, varE: 0.08059471106164122\n",
      "step: 90, loss: -0.31935902332543264, mean energy: -50.5371489649563, varE: 0.11927731801764162\n",
      "step: 100, loss: 0.2534107550018234, mean energy: -50.50053862857517, varE: 0.07562552423383004\n",
      "step: 110, loss: 0.10265509986606958, mean energy: -50.570241047118735, varE: 0.07693576202603007\n",
      "step: 120, loss: -0.10352805285629074, mean energy: -50.544772576569656, varE: 0.04713114264697146\n",
      "step: 130, loss: 0.014305283140743086, mean energy: -50.524069248784514, varE: 0.06261457282892971\n",
      "step: 140, loss: 0.2664959052987115, mean energy: -50.51765000469813, varE: 0.06320687136598142\n",
      "step: 150, loss: 0.004145705275732325, mean energy: -50.52687559174511, varE: 0.056830882409774394\n",
      "step: 160, loss: -0.41503029092848465, mean energy: -50.53190453105064, varE: 0.0620644648310105\n",
      "step: 170, loss: 0.23524987125813368, mean energy: -50.53124586685375, varE: 0.09955296873728246\n",
      "step: 180, loss: 0.12274761827416114, mean energy: -50.48296875327827, varE: 0.048118047421504294\n",
      "step: 190, loss: -0.05159247070878337, mean energy: -50.560397073377, varE: 0.03941301520626819\n"
     ]
    }
   ],
   "source": [
    "#EuclGRU\n",
    "mE_egru, vE_egru = run_1DTFIM(numsteps = 200,cell_type = 'EuclGRU', systemsize = N, num_units = numunits, Bx = Bx, \n",
    "               numsamples = 50, learningrate=1e-2, seed = 111)"
   ]
  },
  {
   "cell_type": "code",
   "execution_count": 9,
   "id": "e05efaed",
   "metadata": {
    "execution": {
     "iopub.execute_input": "2024-10-15T17:31:14.743610Z",
     "iopub.status.busy": "2024-10-15T17:31:14.743307Z",
     "iopub.status.idle": "2024-10-15T17:49:42.608082Z",
     "shell.execute_reply": "2024-10-15T17:49:42.607087Z"
    },
    "papermill": {
     "duration": 1107.875184,
     "end_time": "2024-10-15T17:49:42.610519",
     "exception": false,
     "start_time": "2024-10-15T17:31:14.735335",
     "status": "completed"
    },
    "tags": []
   },
   "outputs": [
    {
     "name": "stdout",
     "output_type": "stream",
     "text": [
      "step: 0, loss: 1.0030681720897974, mean energy: -38.717871590665126, varE: 33.07637507348365\n",
      "step: 10, loss: 1.5638938158931524, mean energy: -50.09689166815198, varE: 0.7774452996355197\n",
      "step: 20, loss: 1.0683487429143952, mean energy: -50.30924683718507, varE: 0.6220775489353131\n",
      "step: 30, loss: -1.5687240999596952, mean energy: -50.4842172090297, varE: 0.6933463900409955\n",
      "step: 40, loss: 0.3704257219028477, mean energy: -50.49301497604169, varE: 0.27171059856708046\n",
      "step: 50, loss: -0.6685763158327518, mean energy: -50.47622243265657, varE: 0.440333756916117\n",
      "step: 60, loss: -0.26055646463635185, mean energy: -50.4706482005929, varE: 0.24728064832661098\n",
      "step: 70, loss: 0.8253499524996641, mean energy: -50.3076644456895, varE: 0.25378206681864607\n",
      "step: 80, loss: 0.5983984246790897, mean energy: -50.42257338201992, varE: 0.1569415207595032\n",
      "step: 90, loss: -0.6255849894440644, mean energy: -50.58488538024164, varE: 0.20551317191817284\n",
      "step: 100, loss: -0.33725853101873327, mean energy: -50.36705017699283, varE: 0.20562414371625312\n",
      "step: 110, loss: 0.39071170934948896, mean energy: -50.58825733015146, varE: 0.23970801447948545\n",
      "step: 120, loss: 0.478770510703157, mean energy: -50.48681617210282, varE: 0.1687814286126082\n",
      "step: 130, loss: 0.1483107654601099, mean energy: -50.47637259595067, varE: 0.09957024997262691\n",
      "step: 140, loss: 0.09837630868582892, mean energy: -50.505942619609314, varE: 0.1712067742210467\n",
      "step: 150, loss: -0.23860992888251076, mean energy: -50.50623791738832, varE: 0.11790570494964978\n",
      "step: 160, loss: 0.1053286708372525, mean energy: -50.609415684842695, varE: 0.11910352076834961\n",
      "step: 170, loss: 0.4332529185786598, mean energy: -50.527193592655365, varE: 0.11289880434781224\n",
      "step: 180, loss: 0.31187702777708637, mean energy: -50.52632656729277, varE: 0.0670931908457098\n",
      "step: 190, loss: -0.29579429703005644, mean energy: -50.54962481203961, varE: 0.08480468247141239\n"
     ]
    }
   ],
   "source": [
    "#EuclRNN\n",
    "mE_ernn, vE_ernn = run_1DTFIM(numsteps = 200,cell_type = 'EuclRNN', systemsize = N, num_units = numunits, Bx = Bx, \n",
    "                numsamples = 50, learningrate=1e-2, seed = 111)"
   ]
  }
 ],
 "metadata": {
  "kaggle": {
   "accelerator": "gpu",
   "dataSources": [
    {
     "datasetId": 5870685,
     "sourceId": 9619225,
     "sourceType": "datasetVersion"
    }
   ],
   "dockerImageVersionId": 30787,
   "isGpuEnabled": true,
   "isInternetEnabled": true,
   "language": "python",
   "sourceType": "notebook"
  },
  "kernelspec": {
   "display_name": "Python 3",
   "language": "python",
   "name": "python3"
  },
  "language_info": {
   "codemirror_mode": {
    "name": "ipython",
    "version": 3
   },
   "file_extension": ".py",
   "mimetype": "text/x-python",
   "name": "python",
   "nbconvert_exporter": "python",
   "pygments_lexer": "ipython3",
   "version": "3.10.14"
  },
  "papermill": {
   "default_parameters": {},
   "duration": 10479.591936,
   "end_time": "2024-10-15T17:49:44.904882",
   "environment_variables": {},
   "exception": null,
   "input_path": "__notebook__.ipynb",
   "output_path": "__notebook__.ipynb",
   "parameters": {},
   "start_time": "2024-10-15T14:55:05.312946",
   "version": "2.6.0"
  }
 },
 "nbformat": 4,
 "nbformat_minor": 5
}
