{
 "cells": [
  {
   "cell_type": "code",
   "execution_count": 1,
   "id": "a9abff75",
   "metadata": {
    "scrolled": true
   },
   "outputs": [
    {
     "name": "stderr",
     "output_type": "stream",
     "text": [
      "2025-03-29 17:49:03.755514: I tensorflow/core/platform/cpu_feature_guard.cc:210] This TensorFlow binary is optimized to use available CPU instructions in performance-critical operations.\n",
      "To enable the following instructions: AVX2 FMA, in other operations, rebuild TensorFlow with the appropriate compiler flags.\n"
     ]
    },
    {
     "name": "stdout",
     "output_type": "stream",
     "text": [
      "Num GPUs Available:  0\n"
     ]
    }
   ],
   "source": [
    "import sys\n",
    "sys.path.append('../utility')\n",
    "from j1j2_hyprnn_train_loop import *"
   ]
  },
  {
   "cell_type": "code",
   "execution_count": 2,
   "id": "f4fd866c",
   "metadata": {},
   "outputs": [],
   "source": [
    "E_exact = -18.75\n",
    "syssize = 50\n",
    "nssamples = 50\n",
    "J1 = 1.0\n",
    "J2 = 0.5\n",
    "nsteps = 401\n",
    "var_tol = 1.0"
   ]
  },
  {
   "cell_type": "markdown",
   "id": "1cc2f89e",
   "metadata": {},
   "source": [
    "# EuclGRU"
   ]
  },
  {
   "cell_type": "code",
   "execution_count": 3,
   "id": "b34c24ce",
   "metadata": {},
   "outputs": [
    {
     "data": {
      "text/plain": [
       "<j1j2_hyprnn_wf.rnn_eucl_wf at 0x7fe24ee228b0>"
      ]
     },
     "execution_count": 3,
     "metadata": {},
     "output_type": "execute_result"
    }
   ],
   "source": [
    "cell_type = 'EuclGRU'\n",
    "hidden_units = 75\n",
    "wf_egru = rnn_eucl_wf(syssize, cell_type, hidden_units)\n",
    "wf_egru"
   ]
  },
  {
   "cell_type": "code",
   "execution_count": 4,
   "id": "861fa0ba",
   "metadata": {},
   "outputs": [
    {
     "name": "stdout",
     "output_type": "stream",
     "text": [
      "step: 0, loss: -1.05695, mean energy: 18.03808+0.09419j, varE: 0.64345\n",
      "step: 10, loss: 6.26545, mean energy: -3.97439-0.10438j, varE: 8.30990\n",
      "step: 20, loss: -1.85503, mean energy: -8.21628+0.16715j, varE: 7.35705\n",
      "step: 30, loss: 1.29303, mean energy: -10.88922+0.28300j, varE: 4.20429\n",
      "step: 40, loss: 6.60262, mean energy: -12.38313+0.20841j, varE: 8.55869\n",
      "step: 50, loss: -1.03365, mean energy: -12.30937-0.00931j, varE: 6.99241\n",
      "step: 60, loss: 1.72647, mean energy: -11.95549+0.05593j, varE: 6.07525\n",
      "step: 70, loss: -1.71693, mean energy: -12.13071-0.16867j, varE: 9.59125\n",
      "step: 80, loss: 7.19331, mean energy: -13.34061+0.01164j, varE: 2.32562\n",
      "step: 90, loss: 2.31699, mean energy: -13.84770+0.04827j, varE: 2.20753\n",
      "step: 100, loss: -4.45923, mean energy: -14.04661-0.09611j, varE: 1.51437\n",
      "step: 110, loss: 5.61501, mean energy: -14.14051-0.00964j, varE: 1.78223\n",
      "step: 120, loss: -7.22223, mean energy: -12.14592-0.18675j, varE: 9.98252\n",
      "Best model saved at epoch 128 with best E=-14.18525-0.16667j, varE=0.96790\n",
      "step: 130, loss: -3.65480, mean energy: -13.89970-0.07923j, varE: 1.43179\n",
      "step: 140, loss: -5.73024, mean energy: -13.85176-0.09966j, varE: 2.44041\n",
      "step: 150, loss: -4.45895, mean energy: -8.81077-0.12122j, varE: 6.76129\n",
      "step: 160, loss: 6.75112, mean energy: -9.22802-0.10590j, varE: 10.95817\n",
      "step: 170, loss: 7.36360, mean energy: -12.89840-0.01109j, varE: 5.21658\n",
      "Best model saved at epoch 179 with best E=-14.25053-0.02213j, varE=0.97434\n",
      "step: 180, loss: 3.26100, mean energy: -14.52328-0.00181j, varE: 1.22378\n",
      "Best model saved at epoch 189 with best E=-14.63562+0.02741j, varE=0.42793\n",
      "step: 190, loss: 5.43823, mean energy: -14.32886+0.04885j, varE: 2.14165\n",
      "Best model saved at epoch 198 with best E=-14.99284+0.09367j, varE=0.92271\n",
      "step: 200, loss: 3.07864, mean energy: -14.67663+0.05635j, varE: 0.82893\n",
      "Best model saved at epoch 201 with best E=-15.08492-0.03607j, varE=0.95353\n",
      "step: 210, loss: 2.46948, mean energy: -15.47133-0.06387j, varE: 2.62458\n",
      "Best model saved at epoch 215 with best E=-16.12029-0.04499j, varE=0.89092\n",
      "step: 220, loss: 15.28694, mean energy: -12.43080+0.01563j, varE: 10.60935\n",
      "step: 230, loss: -6.51212, mean energy: -16.10460+0.27832j, varE: 3.63428\n",
      "step: 240, loss: -1.97742, mean energy: -17.17336+0.02704j, varE: 1.88677\n",
      "step: 250, loss: 9.35198, mean energy: -10.34656+0.10888j, varE: 8.51170\n",
      "step: 260, loss: -4.28746, mean energy: -11.80327+0.00135j, varE: 6.09830\n",
      "step: 270, loss: 6.04123, mean energy: -13.14969+0.22036j, varE: 3.56785\n",
      "step: 280, loss: -1.83942, mean energy: -15.44902+0.23290j, varE: 6.85715\n",
      "step: 290, loss: 1.10603, mean energy: -15.43671+0.05797j, varE: 2.80386\n",
      "step: 300, loss: 1.06436, mean energy: -15.47908-0.17612j, varE: 1.99971\n",
      "step: 310, loss: -2.68417, mean energy: -14.04433+0.01633j, varE: 10.40028\n",
      "step: 320, loss: -3.84125, mean energy: -15.79744-0.05163j, varE: 3.29492\n",
      "step: 330, loss: 6.16217, mean energy: -16.23602+0.07629j, varE: 2.75828\n",
      "step: 340, loss: 3.28082, mean energy: -15.63407+0.04203j, varE: 4.28340\n",
      "step: 350, loss: -1.89896, mean energy: -15.78119+0.08258j, varE: 2.11796\n",
      "step: 360, loss: 0.35582, mean energy: -16.11197-0.02402j, varE: 3.76034\n",
      "step: 370, loss: -3.27277, mean energy: -16.36045+0.06346j, varE: 2.54425\n",
      "step: 380, loss: 1.51648, mean energy: -16.63274-0.12947j, varE: 2.04351\n",
      "Best model saved at epoch 382 with best E=-17.08642-0.05486j, varE=0.58276\n",
      "step: 390, loss: -1.09595, mean energy: -17.04692+0.02587j, varE: 0.95999\n",
      "Best model saved at epoch 391 with best E=-17.10684-0.01057j, varE=0.93815\n",
      "Best model saved at epoch 392 with best E=-17.11467-0.08834j, varE=0.96136\n",
      "Best model saved at epoch 393 with best E=-17.31725-0.03659j, varE=0.86897\n",
      "Best model saved at epoch 398 with best E=-17.48760+0.01687j, varE=0.50358\n",
      "step: 400, loss: 9.31061, mean energy: -13.16883-0.22316j, varE: 10.19024\n",
      "Total time taken: 3.345\n"
     ]
    }
   ],
   "source": [
    "nsteps = 401\n",
    "start = time.time()\n",
    "\n",
    "mE, vE = run_J1J2(wf=wf_egru, numsteps=nsteps, systemsize=syssize, var_tol= 1.0, J1_  = J1, \n",
    "                   J2_ = J2, Marshall_sign = True, \n",
    "                  numsamples = nssamples, learningrate = 1e-2, seed = 111, fname = 'results')\n",
    "finish = time.time()\n",
    "duration = finish-start\n",
    "print(f'Total time taken: {np.round(duration/3600,3)}')"
   ]
  },
  {
   "cell_type": "markdown",
   "id": "a587abf4",
   "metadata": {},
   "source": [
    "# HypGRU"
   ]
  },
  {
   "cell_type": "code",
   "execution_count": 3,
   "id": "b991462c",
   "metadata": {},
   "outputs": [
    {
     "data": {
      "text/plain": [
       "<j1j2_hyprnn_wf.rnn_hyp_wf at 0x7f88eccb6b20>"
      ]
     },
     "execution_count": 3,
     "metadata": {},
     "output_type": "execute_result"
    }
   ],
   "source": [
    "cell_type = 'HypGRU'\n",
    "hidden_units = 70\n",
    "wf_hgru = rnn_hyp_wf(syssize, cell_type, 'hyp', 'id', hidden_units)\n",
    "wf_hgru"
   ]
  },
  {
   "cell_type": "code",
   "execution_count": 4,
   "id": "9dfc9bf9",
   "metadata": {},
   "outputs": [
    {
     "name": "stdout",
     "output_type": "stream",
     "text": [
      "step: 0, loss: -2.03650, mean energy: 17.50668-0.35098j, varE: 1.58106\n",
      "step: 10, loss: 1.77698, mean energy: -2.41737+0.21426j, varE: 10.51818\n",
      "step: 20, loss: -0.17918, mean energy: -3.62105+0.00802j, varE: 13.37337\n",
      "step: 30, loss: -0.57536, mean energy: -6.97623+0.04984j, varE: 9.35391\n",
      "step: 40, loss: -0.86969, mean energy: -7.91884+0.01327j, varE: 8.56101\n",
      "step: 50, loss: -13.84029, mean energy: -9.77025-0.77116j, varE: 10.29447\n",
      "step: 60, loss: 0.27380, mean energy: -11.32603-0.25297j, varE: 6.58634\n",
      "step: 70, loss: -3.91599, mean energy: -13.35884+0.24383j, varE: 5.84760\n",
      "step: 80, loss: -3.76614, mean energy: -13.64775-0.25852j, varE: 3.91111\n",
      "step: 90, loss: 5.40735, mean energy: -14.65660+0.13743j, varE: 6.07031\n",
      "step: 100, loss: -13.16647, mean energy: -15.23525+0.03523j, varE: 5.97112\n",
      "step: 110, loss: 1.22281, mean energy: -16.09338+0.12285j, varE: 3.08350\n",
      "step: 120, loss: 3.10577, mean energy: -16.17319-0.10365j, varE: 4.42243\n",
      "step: 130, loss: -4.07657, mean energy: -16.82370-0.00492j, varE: 4.61847\n",
      "step: 140, loss: -10.04300, mean energy: -16.27476-0.00046j, varE: 3.34031\n",
      "Best model saved at epoch 143 with best E=-16.88605+0.21995j, varE=1.94626\n",
      "step: 150, loss: -5.89630, mean energy: -16.79513-0.17855j, varE: 2.66819\n",
      "Best model saved at epoch 151 with best E=-17.23630-0.20274j, varE=1.61291\n",
      "Best model saved at epoch 157 with best E=-17.45771-0.04765j, varE=1.41345\n",
      "step: 160, loss: 2.57135, mean energy: -16.79129+0.20799j, varE: 3.76865\n",
      "Best model saved at epoch 166 with best E=-17.49560+0.03049j, varE=1.79200\n",
      "Best model saved at epoch 170 with best E=-17.52229+0.06756j, varE=1.31739\n",
      "step: 170, loss: 2.38815, mean energy: -17.52229+0.06756j, varE: 1.31739\n",
      "Best model saved at epoch 179 with best E=-17.53842+0.08535j, varE=1.41112\n",
      "step: 180, loss: -7.61255, mean energy: -17.34175+0.00443j, varE: 1.87022\n",
      "Best model saved at epoch 182 with best E=-17.68279+0.05336j, varE=1.14200\n",
      "step: 190, loss: 9.64261, mean energy: -17.58114-0.04433j, varE: 2.06006\n",
      "step: 200, loss: -2.17801, mean energy: -17.56441-0.12857j, varE: 1.80016\n",
      "Best model saved at epoch 203 with best E=-17.84169+0.04530j, varE=1.14986\n",
      "step: 210, loss: -5.89438, mean energy: -17.55374-0.06281j, varE: 1.96060\n",
      "Best model saved at epoch 215 with best E=-18.02596+0.21653j, varE=0.82138\n",
      "step: 220, loss: -1.95114, mean energy: -17.77372+0.07649j, varE: 2.09094\n",
      "Best model saved at epoch 226 with best E=-18.03531+0.29324j, varE=1.15951\n",
      "Best model saved at epoch 227 with best E=-18.07759-0.13499j, varE=0.89703\n",
      "step: 230, loss: 2.90573, mean energy: -17.80727+0.28645j, varE: 1.36196\n",
      "Best model saved at epoch 235 with best E=-18.13347-0.08622j, varE=1.15613\n",
      "Best model saved at epoch 237 with best E=-18.19191-0.08389j, varE=0.82417\n",
      "Best model saved at epoch 238 with best E=-18.29785-0.16838j, varE=0.74070\n",
      "step: 240, loss: -2.10110, mean energy: -18.06454+0.00742j, varE: 1.25102\n",
      "Best model saved at epoch 241 with best E=-18.31530-0.14094j, varE=0.76399\n",
      "Best model saved at epoch 247 with best E=-18.35728-0.05725j, varE=1.30209\n",
      "step: 250, loss: -0.57065, mean energy: -18.32133+0.19630j, varE: 0.95572\n",
      "Best model saved at epoch 254 with best E=-18.44555-0.02783j, varE=0.61919\n",
      "Best model saved at epoch 258 with best E=-18.54344-0.14751j, varE=0.93555\n",
      "step: 260, loss: -1.67966, mean energy: -18.25119-0.04570j, varE: 1.66349\n",
      "step: 270, loss: -1.43951, mean energy: -18.23578-0.09761j, varE: 1.15522\n",
      "Best model saved at epoch 272 with best E=-18.56540-0.06866j, varE=0.62729\n",
      "step: 280, loss: -1.57550, mean energy: -18.53835+0.05901j, varE: 0.51556\n",
      "step: 290, loss: -0.72693, mean energy: -18.56485-0.07035j, varE: 0.43935\n",
      "step: 300, loss: -3.65851, mean energy: -18.45297+0.07014j, varE: 0.64597\n",
      "Best model saved at epoch 305 with best E=-18.62821-0.01600j, varE=0.26703\n",
      "step: 310, loss: -0.38965, mean energy: -18.58971+0.00691j, varE: 0.23456\n",
      "Best model saved at epoch 317 with best E=-18.66438+0.01752j, varE=0.28287\n",
      "Best model saved at epoch 318 with best E=-18.72189-0.01043j, varE=0.20868\n",
      "step: 320, loss: -0.15143, mean energy: -18.47968+0.07090j, varE: 0.71873\n",
      "step: 330, loss: 4.43933, mean energy: -18.32482-0.02603j, varE: 0.55315\n",
      "Best model saved at epoch 339 with best E=-18.72438+0.15829j, varE=0.89745\n",
      "step: 340, loss: 3.59192, mean energy: -18.50939+0.13229j, varE: 0.50652\n",
      "step: 350, loss: 0.59171, mean energy: -18.53131+0.01524j, varE: 0.31588\n",
      "step: 360, loss: 0.16364, mean energy: -18.65597+0.08318j, varE: 0.33736\n",
      "step: 370, loss: 1.73987, mean energy: -18.56543-0.06336j, varE: 0.42408\n"
     ]
    },
    {
     "ename": "KeyboardInterrupt",
     "evalue": "",
     "output_type": "error",
     "traceback": [
      "\u001b[0;31m---------------------------------------------------------------------------\u001b[0m",
      "\u001b[0;31mKeyboardInterrupt\u001b[0m                         Traceback (most recent call last)",
      "Input \u001b[0;32mIn [4]\u001b[0m, in \u001b[0;36m<cell line: 3>\u001b[0;34m()\u001b[0m\n\u001b[1;32m      1\u001b[0m nsteps\u001b[38;5;241m=\u001b[39m\u001b[38;5;241m451\u001b[39m\n\u001b[1;32m      2\u001b[0m start \u001b[38;5;241m=\u001b[39m time\u001b[38;5;241m.\u001b[39mtime()\n\u001b[0;32m----> 3\u001b[0m mE, vE \u001b[38;5;241m=\u001b[39m \u001b[43mrun_J1J2_hypvars\u001b[49m\u001b[43m(\u001b[49m\u001b[43mwf\u001b[49m\u001b[38;5;241;43m=\u001b[39;49m\u001b[43mwf_hgru\u001b[49m\u001b[43m,\u001b[49m\u001b[43m \u001b[49m\u001b[43mnumsteps\u001b[49m\u001b[38;5;241;43m=\u001b[39;49m\u001b[43mnsteps\u001b[49m\u001b[43m,\u001b[49m\u001b[43m \u001b[49m\u001b[43msystemsize\u001b[49m\u001b[38;5;241;43m=\u001b[39;49m\u001b[43msyssize\u001b[49m\u001b[43m,\u001b[49m\u001b[43m \u001b[49m\u001b[43mvar_tol\u001b[49m\u001b[38;5;241;43m=\u001b[39;49m\u001b[38;5;241;43m2.0\u001b[39;49m\u001b[43m,\u001b[49m\n\u001b[1;32m      4\u001b[0m \u001b[43m                          \u001b[49m\u001b[43mJ1_\u001b[49m\u001b[43m \u001b[49m\u001b[38;5;241;43m=\u001b[39;49m\u001b[43m \u001b[49m\u001b[43mJ1\u001b[49m\u001b[43m,\u001b[49m\u001b[43m \u001b[49m\u001b[43mJ2_\u001b[49m\u001b[43m \u001b[49m\u001b[38;5;241;43m=\u001b[39;49m\u001b[43m \u001b[49m\u001b[43mJ2\u001b[49m\u001b[43m,\u001b[49m\u001b[43m \u001b[49m\u001b[43mMarshall_sign\u001b[49m\u001b[43m \u001b[49m\u001b[38;5;241;43m=\u001b[39;49m\u001b[43m \u001b[49m\u001b[38;5;28;43;01mTrue\u001b[39;49;00m\u001b[43m,\u001b[49m\u001b[43m \u001b[49m\n\u001b[1;32m      5\u001b[0m \u001b[43m                           \u001b[49m\u001b[43mnumsamples\u001b[49m\u001b[43m \u001b[49m\u001b[38;5;241;43m=\u001b[39;49m\u001b[43m \u001b[49m\u001b[43mnssamples\u001b[49m\u001b[43m,\u001b[49m\u001b[43m  \u001b[49m\u001b[43mlr1\u001b[49m\u001b[38;5;241;43m=\u001b[39;49m\u001b[38;5;241;43m1e-2\u001b[39;49m\u001b[43m,\u001b[49m\u001b[43m \u001b[49m\u001b[43mlr2\u001b[49m\u001b[38;5;241;43m=\u001b[39;49m\u001b[38;5;241;43m1e-2\u001b[39;49m\u001b[43m,\u001b[49m\u001b[43m \u001b[49m\u001b[43mseed\u001b[49m\u001b[43m \u001b[49m\u001b[38;5;241;43m=\u001b[39;49m\u001b[43m \u001b[49m\u001b[38;5;241;43m111\u001b[39;49m\u001b[43m,\u001b[49m\u001b[43m \u001b[49m\u001b[43mfname\u001b[49m\u001b[43m \u001b[49m\u001b[38;5;241;43m=\u001b[39;49m\u001b[43m \u001b[49m\u001b[38;5;124;43m'\u001b[39;49m\u001b[38;5;124;43mresults\u001b[39;49m\u001b[38;5;124;43m'\u001b[39;49m\u001b[43m)\u001b[49m\n\u001b[1;32m      6\u001b[0m finish \u001b[38;5;241m=\u001b[39m time\u001b[38;5;241m.\u001b[39mtime()\n\u001b[1;32m      7\u001b[0m duration \u001b[38;5;241m=\u001b[39m finish\u001b[38;5;241m-\u001b[39mstart\n",
      "File \u001b[0;32m~/Library/CloudStorage/Dropbox/2025-Projects/2_Hyperbolic_RNN_NQS/1D_J1J2_hyp_bias/../utility/j1j2_hyprnn_train_loop.py:261\u001b[0m, in \u001b[0;36mrun_J1J2_hypvars\u001b[0;34m(wf, numsteps, systemsize, var_tol, J1_, J2_, Marshall_sign, numsamples, lr1, lr2, seed, fname)\u001b[0m\n\u001b[1;32m    259\u001b[0m best_E_list \u001b[38;5;241m=\u001b[39m []\n\u001b[1;32m    260\u001b[0m \u001b[38;5;28;01mfor\u001b[39;00m step \u001b[38;5;129;01min\u001b[39;00m \u001b[38;5;28mrange\u001b[39m(numsteps):\n\u001b[0;32m--> 261\u001b[0m     cost, E, wfmodel \u001b[38;5;241m=\u001b[39m \u001b[43mtrain_step_with_hypvars\u001b[49m\u001b[43m(\u001b[49m\u001b[43mwf\u001b[49m\u001b[43m,\u001b[49m\u001b[43m \u001b[49m\u001b[43mnumsamples\u001b[49m\u001b[43m,\u001b[49m\u001b[43m \u001b[49m\u001b[43minput_dim\u001b[49m\u001b[43m,\u001b[49m\u001b[43m \u001b[49m\u001b[43mJ1\u001b[49m\u001b[43m,\u001b[49m\u001b[43m \u001b[49m\u001b[43mJ2\u001b[49m\u001b[43m,\u001b[49m\u001b[43m \u001b[49m\u001b[43mBz\u001b[49m\u001b[43m,\u001b[49m\u001b[43m \u001b[49m\u001b[43mMarshall_sign\u001b[49m\u001b[43m,\u001b[49m\u001b[43m \u001b[49m\u001b[43mopt_eucl\u001b[49m\u001b[43m,\u001b[49m\u001b[43m \u001b[49m\u001b[43mopt_hyp\u001b[49m\u001b[43m)\u001b[49m\n\u001b[1;32m    262\u001b[0m     meanE \u001b[38;5;241m=\u001b[39m np\u001b[38;5;241m.\u001b[39mmean(E)\n\u001b[1;32m    263\u001b[0m     varE \u001b[38;5;241m=\u001b[39m np\u001b[38;5;241m.\u001b[39mvar(E)\n",
      "File \u001b[0;32m~/Library/CloudStorage/Dropbox/2025-Projects/2_Hyperbolic_RNN_NQS/1D_J1J2_hyp_bias/../utility/j1j2_hyprnn_train_loop.py:167\u001b[0m, in \u001b[0;36mtrain_step_with_hypvars\u001b[0;34m(wf, numsamples, input_dim, J1, J2, Bz, Marshall_sign, opt_eucl, opt_hyp)\u001b[0m\n\u001b[1;32m    165\u001b[0m log_amplitudes_ \u001b[38;5;241m=\u001b[39m wf\u001b[38;5;241m.\u001b[39mlog_amplitude(tsamp,input_dim)\n\u001b[1;32m    166\u001b[0m N \u001b[38;5;241m=\u001b[39m tsamp\u001b[38;5;241m.\u001b[39mshape[\u001b[38;5;241m1\u001b[39m]\n\u001b[0;32m--> 167\u001b[0m Eloc \u001b[38;5;241m=\u001b[39m \u001b[43mJ1J2_local_energies\u001b[49m\u001b[43m(\u001b[49m\u001b[43mwf\u001b[49m\u001b[43m,\u001b[49m\u001b[43mN\u001b[49m\u001b[43m,\u001b[49m\u001b[43mJ1\u001b[49m\u001b[43m,\u001b[49m\u001b[43mJ2\u001b[49m\u001b[43m,\u001b[49m\u001b[43mBz\u001b[49m\u001b[43m,\u001b[49m\u001b[43mnumsamples\u001b[49m\u001b[43m,\u001b[49m\u001b[43m \u001b[49m\u001b[43mtsamp\u001b[49m\u001b[43m,\u001b[49m\u001b[43m \u001b[49m\u001b[43mMarshall_sign\u001b[49m\u001b[43m)\u001b[49m\n\u001b[1;32m    168\u001b[0m loss_value \u001b[38;5;241m=\u001b[39m cost_fn(Eloc, log_amplitudes_)\n\u001b[1;32m    170\u001b[0m wf_hyp_vars \u001b[38;5;241m=\u001b[39m wfmodel\u001b[38;5;241m.\u001b[39mrnn\u001b[38;5;241m.\u001b[39mhyp_vars\n",
      "File \u001b[0;32m~/Library/CloudStorage/Dropbox/2025-Projects/2_Hyperbolic_RNN_NQS/1D_J1J2_hyp_bias/../utility/j1j2_hyprnn_train_loop.py:129\u001b[0m, in \u001b[0;36mJ1J2_local_energies\u001b[0;34m(wf, N, J1, J2, Bz, numsamples, samples, Marshall_sign)\u001b[0m\n\u001b[1;32m    127\u001b[0m     \u001b[38;5;28;01melse\u001b[39;00m:\n\u001b[1;32m    128\u001b[0m         cut \u001b[38;5;241m=\u001b[39m \u001b[38;5;28mslice\u001b[39m((i\u001b[38;5;241m*\u001b[39mlen_sigmas)\u001b[38;5;241m/\u001b[39m\u001b[38;5;241m/\u001b[39msteps,len_sigmas)\n\u001b[0;32m--> 129\u001b[0m     log_amps\u001b[38;5;241m=\u001b[39m\u001b[43mwf\u001b[49m\u001b[38;5;241;43m.\u001b[39;49m\u001b[43mlog_amplitude\u001b[49m\u001b[43m(\u001b[49m\u001b[43msigmas\u001b[49m\u001b[43m[\u001b[49m\u001b[43mcut\u001b[49m\u001b[43m]\u001b[49m\u001b[43m,\u001b[49m\u001b[43minputdim\u001b[49m\u001b[38;5;241;43m=\u001b[39;49m\u001b[38;5;241;43m2\u001b[39;49m\u001b[43m)\u001b[49m    \n\u001b[1;32m    130\u001b[0m     log_amplitudes[cut] \u001b[38;5;241m=\u001b[39m log_amps\n\u001b[1;32m    132\u001b[0m \u001b[38;5;66;03m#Generating the local energies\u001b[39;00m\n",
      "File \u001b[0;32m~/Library/CloudStorage/Dropbox/2025-Projects/2_Hyperbolic_RNN_NQS/1D_J1J2_hyp_bias/../utility/j1j2_hyprnn_wf.py:319\u001b[0m, in \u001b[0;36mrnn_hyp_wf.log_amplitude\u001b[0;34m(self, samples, inputdim)\u001b[0m\n\u001b[1;32m    316\u001b[0m o2, rs2 \u001b[38;5;241m=\u001b[39m \u001b[38;5;28mself\u001b[39m\u001b[38;5;241m.\u001b[39mrnn(inputs_ampl, rnn_state)\n\u001b[1;32m    318\u001b[0m \u001b[38;5;28;01mfor\u001b[39;00m n \u001b[38;5;129;01min\u001b[39;00m \u001b[38;5;28mrange\u001b[39m(\u001b[38;5;28mself\u001b[39m\u001b[38;5;241m.\u001b[39mN):\n\u001b[0;32m--> 319\u001b[0m     output_ampl, output_phase, rnn_state \u001b[38;5;241m=\u001b[39m \u001b[38;5;28;43mself\u001b[39;49m\u001b[38;5;241;43m.\u001b[39;49m\u001b[43mmodel\u001b[49m\u001b[38;5;241;43m.\u001b[39;49m\u001b[43mcall\u001b[49m\u001b[43m(\u001b[49m\u001b[43minputs_ampl\u001b[49m\u001b[43m,\u001b[49m\u001b[43m \u001b[49m\u001b[43mrnn_state\u001b[49m\u001b[43m,\u001b[49m\u001b[43m \u001b[49m\u001b[43mcompute_phase\u001b[49m\u001b[38;5;241;43m=\u001b[39;49m\u001b[38;5;28;43;01mTrue\u001b[39;49;00m\u001b[43m)\u001b[49m\n\u001b[1;32m    321\u001b[0m     \u001b[38;5;28;01mif\u001b[39;00m n\u001b[38;5;241m>\u001b[39m\u001b[38;5;241m=\u001b[39m\u001b[38;5;28mself\u001b[39m\u001b[38;5;241m.\u001b[39mN\u001b[38;5;241m/\u001b[39m\u001b[38;5;241m2\u001b[39m: \u001b[38;5;66;03m#Enforcing zero magnetization\u001b[39;00m\n\u001b[1;32m    322\u001b[0m         num_up \u001b[38;5;241m=\u001b[39m tf\u001b[38;5;241m.\u001b[39mcast(tf\u001b[38;5;241m.\u001b[39mreduce_sum(tf\u001b[38;5;241m.\u001b[39mslice(samples,begin\u001b[38;5;241m=\u001b[39m[np\u001b[38;5;241m.\u001b[39mint32(\u001b[38;5;241m0\u001b[39m),np\u001b[38;5;241m.\u001b[39mint32(\u001b[38;5;241m0\u001b[39m)],size\u001b[38;5;241m=\u001b[39m[np\u001b[38;5;241m.\u001b[39mint32(\u001b[38;5;241m-\u001b[39m\u001b[38;5;241m1\u001b[39m),np\u001b[38;5;241m.\u001b[39mint32(n)]),axis\u001b[38;5;241m=\u001b[39m\u001b[38;5;241m1\u001b[39m), tf\u001b[38;5;241m.\u001b[39mfloat32)\n",
      "File \u001b[0;32m~/Library/CloudStorage/Dropbox/2025-Projects/2_Hyperbolic_RNN_NQS/1D_J1J2_hyp_bias/../utility/j1j2_hyprnn_wf.py:33\u001b[0m, in \u001b[0;36mwfModel.call\u001b[0;34m(self, inputs, rnn_state, compute_phase)\u001b[0m\n\u001b[1;32m     31\u001b[0m     rnn_output, rnn_state \u001b[38;5;241m=\u001b[39m \u001b[38;5;28mself\u001b[39m\u001b[38;5;241m.\u001b[39mrnn(inputs, rnn_state) \n\u001b[1;32m     32\u001b[0m \u001b[38;5;28;01mif\u001b[39;00m \u001b[38;5;28mself\u001b[39m\u001b[38;5;241m.\u001b[39mhyp:\n\u001b[0;32m---> 33\u001b[0m     rnn_outp, rnn_state \u001b[38;5;241m=\u001b[39m \u001b[38;5;28;43mself\u001b[39;49m\u001b[38;5;241;43m.\u001b[39;49m\u001b[43mrnn\u001b[49m\u001b[43m(\u001b[49m\u001b[43minputs\u001b[49m\u001b[43m,\u001b[49m\u001b[43m \u001b[49m\u001b[43mrnn_state\u001b[49m\u001b[43m)\u001b[49m\n\u001b[1;32m     34\u001b[0m     rnn_output \u001b[38;5;241m=\u001b[39m tf_log_map_zero(rnn_outp, \u001b[38;5;241m1.0\u001b[39m)\n\u001b[1;32m     36\u001b[0m output_a\u001b[38;5;241m=\u001b[39m\u001b[38;5;28mself\u001b[39m\u001b[38;5;241m.\u001b[39mdense_a(rnn_output) \n",
      "File \u001b[0;32m~/opt/anaconda3/lib/python3.9/site-packages/keras/src/utils/traceback_utils.py:117\u001b[0m, in \u001b[0;36mfilter_traceback.<locals>.error_handler\u001b[0;34m(*args, **kwargs)\u001b[0m\n\u001b[1;32m    115\u001b[0m filtered_tb \u001b[38;5;241m=\u001b[39m \u001b[38;5;28;01mNone\u001b[39;00m\n\u001b[1;32m    116\u001b[0m \u001b[38;5;28;01mtry\u001b[39;00m:\n\u001b[0;32m--> 117\u001b[0m     \u001b[38;5;28;01mreturn\u001b[39;00m \u001b[43mfn\u001b[49m\u001b[43m(\u001b[49m\u001b[38;5;241;43m*\u001b[39;49m\u001b[43margs\u001b[49m\u001b[43m,\u001b[49m\u001b[43m \u001b[49m\u001b[38;5;241;43m*\u001b[39;49m\u001b[38;5;241;43m*\u001b[39;49m\u001b[43mkwargs\u001b[49m\u001b[43m)\u001b[49m\n\u001b[1;32m    118\u001b[0m \u001b[38;5;28;01mexcept\u001b[39;00m \u001b[38;5;167;01mException\u001b[39;00m \u001b[38;5;28;01mas\u001b[39;00m e:\n\u001b[1;32m    119\u001b[0m     filtered_tb \u001b[38;5;241m=\u001b[39m _process_traceback_frames(e\u001b[38;5;241m.\u001b[39m__traceback__)\n",
      "File \u001b[0;32m~/opt/anaconda3/lib/python3.9/site-packages/keras/src/layers/layer.py:901\u001b[0m, in \u001b[0;36mLayer.__call__\u001b[0;34m(self, *args, **kwargs)\u001b[0m\n\u001b[1;32m    899\u001b[0m         outputs \u001b[38;5;241m=\u001b[39m \u001b[38;5;28msuper\u001b[39m()\u001b[38;5;241m.\u001b[39m\u001b[38;5;21m__call__\u001b[39m(\u001b[38;5;241m*\u001b[39margs, \u001b[38;5;241m*\u001b[39m\u001b[38;5;241m*\u001b[39mkwargs)\n\u001b[1;32m    900\u001b[0m \u001b[38;5;28;01melse\u001b[39;00m:\n\u001b[0;32m--> 901\u001b[0m     outputs \u001b[38;5;241m=\u001b[39m \u001b[38;5;28;43msuper\u001b[39;49m\u001b[43m(\u001b[49m\u001b[43m)\u001b[49m\u001b[38;5;241;43m.\u001b[39;49m\u001b[38;5;21;43m__call__\u001b[39;49m\u001b[43m(\u001b[49m\u001b[38;5;241;43m*\u001b[39;49m\u001b[43margs\u001b[49m\u001b[43m,\u001b[49m\u001b[43m \u001b[49m\u001b[38;5;241;43m*\u001b[39;49m\u001b[38;5;241;43m*\u001b[39;49m\u001b[43mkwargs\u001b[49m\u001b[43m)\u001b[49m\n\u001b[1;32m    902\u001b[0m \u001b[38;5;66;03m# Change the layout for the layer output if needed.\u001b[39;00m\n\u001b[1;32m    903\u001b[0m \u001b[38;5;66;03m# This is useful for relayout intermediate tensor in the model\u001b[39;00m\n\u001b[1;32m    904\u001b[0m \u001b[38;5;66;03m# to achieve the optimal performance.\u001b[39;00m\n\u001b[1;32m    905\u001b[0m distribution \u001b[38;5;241m=\u001b[39m distribution_lib\u001b[38;5;241m.\u001b[39mdistribution()\n",
      "File \u001b[0;32m~/opt/anaconda3/lib/python3.9/site-packages/keras/src/utils/traceback_utils.py:117\u001b[0m, in \u001b[0;36mfilter_traceback.<locals>.error_handler\u001b[0;34m(*args, **kwargs)\u001b[0m\n\u001b[1;32m    115\u001b[0m filtered_tb \u001b[38;5;241m=\u001b[39m \u001b[38;5;28;01mNone\u001b[39;00m\n\u001b[1;32m    116\u001b[0m \u001b[38;5;28;01mtry\u001b[39;00m:\n\u001b[0;32m--> 117\u001b[0m     \u001b[38;5;28;01mreturn\u001b[39;00m \u001b[43mfn\u001b[49m\u001b[43m(\u001b[49m\u001b[38;5;241;43m*\u001b[39;49m\u001b[43margs\u001b[49m\u001b[43m,\u001b[49m\u001b[43m \u001b[49m\u001b[38;5;241;43m*\u001b[39;49m\u001b[38;5;241;43m*\u001b[39;49m\u001b[43mkwargs\u001b[49m\u001b[43m)\u001b[49m\n\u001b[1;32m    118\u001b[0m \u001b[38;5;28;01mexcept\u001b[39;00m \u001b[38;5;167;01mException\u001b[39;00m \u001b[38;5;28;01mas\u001b[39;00m e:\n\u001b[1;32m    119\u001b[0m     filtered_tb \u001b[38;5;241m=\u001b[39m _process_traceback_frames(e\u001b[38;5;241m.\u001b[39m__traceback__)\n",
      "File \u001b[0;32m~/opt/anaconda3/lib/python3.9/site-packages/keras/src/ops/operation.py:46\u001b[0m, in \u001b[0;36mOperation.__call__\u001b[0;34m(self, *args, **kwargs)\u001b[0m\n\u001b[1;32m     41\u001b[0m             call_fn \u001b[38;5;241m=\u001b[39m \u001b[38;5;28mself\u001b[39m\u001b[38;5;241m.\u001b[39mcall\n\u001b[1;32m     42\u001b[0m     call_fn \u001b[38;5;241m=\u001b[39m traceback_utils\u001b[38;5;241m.\u001b[39minject_argument_info_in_traceback(\n\u001b[1;32m     43\u001b[0m         call_fn,\n\u001b[1;32m     44\u001b[0m         object_name\u001b[38;5;241m=\u001b[39m(\u001b[38;5;124mf\u001b[39m\u001b[38;5;124m\"\u001b[39m\u001b[38;5;132;01m{\u001b[39;00m\u001b[38;5;28mself\u001b[39m\u001b[38;5;241m.\u001b[39m\u001b[38;5;18m__class__\u001b[39m\u001b[38;5;241m.\u001b[39m\u001b[38;5;18m__name__\u001b[39m\u001b[38;5;132;01m}\u001b[39;00m\u001b[38;5;124m.call()\u001b[39m\u001b[38;5;124m\"\u001b[39m),\n\u001b[1;32m     45\u001b[0m     )\n\u001b[0;32m---> 46\u001b[0m     \u001b[38;5;28;01mreturn\u001b[39;00m \u001b[43mcall_fn\u001b[49m\u001b[43m(\u001b[49m\u001b[38;5;241;43m*\u001b[39;49m\u001b[43margs\u001b[49m\u001b[43m,\u001b[49m\u001b[43m \u001b[49m\u001b[38;5;241;43m*\u001b[39;49m\u001b[38;5;241;43m*\u001b[39;49m\u001b[43mkwargs\u001b[49m\u001b[43m)\u001b[49m\n\u001b[1;32m     48\u001b[0m \u001b[38;5;66;03m# Plain flow.\u001b[39;00m\n\u001b[1;32m     49\u001b[0m \u001b[38;5;28;01mif\u001b[39;00m any_symbolic_tensors(args, kwargs):\n",
      "File \u001b[0;32m~/opt/anaconda3/lib/python3.9/site-packages/keras/src/utils/traceback_utils.py:156\u001b[0m, in \u001b[0;36minject_argument_info_in_traceback.<locals>.error_handler\u001b[0;34m(*args, **kwargs)\u001b[0m\n\u001b[1;32m    154\u001b[0m bound_signature \u001b[38;5;241m=\u001b[39m \u001b[38;5;28;01mNone\u001b[39;00m\n\u001b[1;32m    155\u001b[0m \u001b[38;5;28;01mtry\u001b[39;00m:\n\u001b[0;32m--> 156\u001b[0m     \u001b[38;5;28;01mreturn\u001b[39;00m \u001b[43mfn\u001b[49m\u001b[43m(\u001b[49m\u001b[38;5;241;43m*\u001b[39;49m\u001b[43margs\u001b[49m\u001b[43m,\u001b[49m\u001b[43m \u001b[49m\u001b[38;5;241;43m*\u001b[39;49m\u001b[38;5;241;43m*\u001b[39;49m\u001b[43mkwargs\u001b[49m\u001b[43m)\u001b[49m\n\u001b[1;32m    157\u001b[0m \u001b[38;5;28;01mexcept\u001b[39;00m \u001b[38;5;167;01mException\u001b[39;00m \u001b[38;5;28;01mas\u001b[39;00m e:\n\u001b[1;32m    158\u001b[0m     \u001b[38;5;28;01mif\u001b[39;00m \u001b[38;5;28mhasattr\u001b[39m(e, \u001b[38;5;124m\"\u001b[39m\u001b[38;5;124m_keras_call_info_injected\u001b[39m\u001b[38;5;124m\"\u001b[39m):\n\u001b[1;32m    159\u001b[0m         \u001b[38;5;66;03m# Only inject info for the innermost failing call\u001b[39;00m\n",
      "File \u001b[0;32m~/Library/CloudStorage/Dropbox/2025-Projects/2_Hyperbolic_RNN_NQS/1D_J1J2_hyp_bias/../utility/hyprnn_impl.py:313\u001b[0m, in \u001b[0;36mHypGRU.call\u001b[0;34m(self, inputs, state)\u001b[0m\n\u001b[1;32m    306\u001b[0m     hyp_x \u001b[38;5;241m=\u001b[39m util\u001b[38;5;241m.\u001b[39mtf_exp_map_zero(inputs, \u001b[38;5;28mself\u001b[39m\u001b[38;5;241m.\u001b[39mc_val)\n\u001b[1;32m    308\u001b[0m z \u001b[38;5;241m=\u001b[39m util\u001b[38;5;241m.\u001b[39mtf_hyp_non_lin(\u001b[38;5;28mself\u001b[39m\u001b[38;5;241m.\u001b[39mone_rnn_transform(\u001b[38;5;28mself\u001b[39m\u001b[38;5;241m.\u001b[39mWz, state, \u001b[38;5;28mself\u001b[39m\u001b[38;5;241m.\u001b[39mUz, hyp_x, \u001b[38;5;28mself\u001b[39m\u001b[38;5;241m.\u001b[39mbz),\n\u001b[1;32m    309\u001b[0m                             non_lin\u001b[38;5;241m=\u001b[39m\u001b[38;5;124m'\u001b[39m\u001b[38;5;124msigmoid\u001b[39m\u001b[38;5;124m'\u001b[39m,\n\u001b[1;32m    310\u001b[0m                             hyp_output\u001b[38;5;241m=\u001b[39m\u001b[38;5;28;01mFalse\u001b[39;00m,\n\u001b[1;32m    311\u001b[0m                             c \u001b[38;5;241m=\u001b[39m \u001b[38;5;28mself\u001b[39m\u001b[38;5;241m.\u001b[39mc_val)\n\u001b[0;32m--> 313\u001b[0m r \u001b[38;5;241m=\u001b[39m util\u001b[38;5;241m.\u001b[39mtf_hyp_non_lin(\u001b[38;5;28;43mself\u001b[39;49m\u001b[38;5;241;43m.\u001b[39;49m\u001b[43mone_rnn_transform\u001b[49m\u001b[43m(\u001b[49m\u001b[38;5;28;43mself\u001b[39;49m\u001b[38;5;241;43m.\u001b[39;49m\u001b[43mWr\u001b[49m\u001b[43m,\u001b[49m\u001b[43m \u001b[49m\u001b[43mstate\u001b[49m\u001b[43m,\u001b[49m\u001b[43m \u001b[49m\u001b[38;5;28;43mself\u001b[39;49m\u001b[38;5;241;43m.\u001b[39;49m\u001b[43mUr\u001b[49m\u001b[43m,\u001b[49m\u001b[43m \u001b[49m\u001b[43mhyp_x\u001b[49m\u001b[43m,\u001b[49m\u001b[43m \u001b[49m\u001b[38;5;28;43mself\u001b[39;49m\u001b[38;5;241;43m.\u001b[39;49m\u001b[43mbr\u001b[49m\u001b[43m)\u001b[49m,\n\u001b[1;32m    314\u001b[0m                             non_lin\u001b[38;5;241m=\u001b[39m\u001b[38;5;124m'\u001b[39m\u001b[38;5;124msigmoid\u001b[39m\u001b[38;5;124m'\u001b[39m,\n\u001b[1;32m    315\u001b[0m                             hyp_output\u001b[38;5;241m=\u001b[39m\u001b[38;5;28;01mFalse\u001b[39;00m,\n\u001b[1;32m    316\u001b[0m                             c \u001b[38;5;241m=\u001b[39m \u001b[38;5;28mself\u001b[39m\u001b[38;5;241m.\u001b[39mc_val)\n\u001b[1;32m    318\u001b[0m r_point_h \u001b[38;5;241m=\u001b[39m util\u001b[38;5;241m.\u001b[39mtf_mob_pointwise_prod(state, r, \u001b[38;5;28mself\u001b[39m\u001b[38;5;241m.\u001b[39mc_val)\n\u001b[1;32m    319\u001b[0m h_tilde \u001b[38;5;241m=\u001b[39m util\u001b[38;5;241m.\u001b[39mtf_hyp_non_lin(\u001b[38;5;28mself\u001b[39m\u001b[38;5;241m.\u001b[39mone_rnn_transform(\u001b[38;5;28mself\u001b[39m\u001b[38;5;241m.\u001b[39mWh, r_point_h, \u001b[38;5;28mself\u001b[39m\u001b[38;5;241m.\u001b[39mUh, hyp_x, \u001b[38;5;28mself\u001b[39m\u001b[38;5;241m.\u001b[39mbh),\n\u001b[1;32m    320\u001b[0m                                   non_lin\u001b[38;5;241m=\u001b[39m\u001b[38;5;28mself\u001b[39m\u001b[38;5;241m.\u001b[39mnon_lin,\n\u001b[1;32m    321\u001b[0m                                   hyp_output\u001b[38;5;241m=\u001b[39m\u001b[38;5;28;01mTrue\u001b[39;00m,\n\u001b[1;32m    322\u001b[0m                                   c\u001b[38;5;241m=\u001b[39m\u001b[38;5;28mself\u001b[39m\u001b[38;5;241m.\u001b[39mc_val)\n",
      "File \u001b[0;32m~/Library/CloudStorage/Dropbox/2025-Projects/2_Hyperbolic_RNN_NQS/1D_J1J2_hyp_bias/../utility/hyprnn_impl.py:232\u001b[0m, in \u001b[0;36mHypGRU.one_rnn_transform\u001b[0;34m(self, W, h, U, x, b)\u001b[0m\n\u001b[1;32m    230\u001b[0m U_otimes_x \u001b[38;5;241m=\u001b[39m util\u001b[38;5;241m.\u001b[39mtf_mob_mat_mul(U, x, \u001b[38;5;28mself\u001b[39m\u001b[38;5;241m.\u001b[39mc_val)\n\u001b[1;32m    231\u001b[0m Wh_plus_Ux \u001b[38;5;241m=\u001b[39m util\u001b[38;5;241m.\u001b[39mtf_mob_add(W_otimes_h, U_otimes_x, \u001b[38;5;28mself\u001b[39m\u001b[38;5;241m.\u001b[39mc_val)\n\u001b[0;32m--> 232\u001b[0m \u001b[38;5;28;01mreturn\u001b[39;00m \u001b[43mutil\u001b[49m\u001b[38;5;241;43m.\u001b[39;49m\u001b[43mtf_mob_add\u001b[49m\u001b[43m(\u001b[49m\u001b[43mWh_plus_Ux\u001b[49m\u001b[43m,\u001b[49m\u001b[43m \u001b[49m\u001b[43mhyp_b\u001b[49m\u001b[43m,\u001b[49m\u001b[43m \u001b[49m\u001b[38;5;28;43mself\u001b[39;49m\u001b[38;5;241;43m.\u001b[39;49m\u001b[43mc_val\u001b[49m\u001b[43m)\u001b[49m\n",
      "File \u001b[0;32m~/Library/CloudStorage/Dropbox/2025-Projects/2_Hyperbolic_RNN_NQS/1D_J1J2_hyp_bias/../utility/hyp_util.py:37\u001b[0m, in \u001b[0;36mtf_mob_add\u001b[0;34m(u, v, c)\u001b[0m\n\u001b[1;32m     36\u001b[0m \u001b[38;5;28;01mdef\u001b[39;00m \u001b[38;5;21mtf_mob_add\u001b[39m(u, v, c):\n\u001b[0;32m---> 37\u001b[0m     v \u001b[38;5;241m=\u001b[39m \u001b[43mv\u001b[49m\u001b[43m \u001b[49m\u001b[38;5;241;43m+\u001b[39;49m\u001b[43m \u001b[49m\u001b[43mEPS\u001b[49m\n\u001b[1;32m     38\u001b[0m     tf_dot_u_v \u001b[38;5;241m=\u001b[39m \u001b[38;5;241m2.\u001b[39m \u001b[38;5;241m*\u001b[39m c \u001b[38;5;241m*\u001b[39m tf_dot(u, v)\n\u001b[1;32m     39\u001b[0m     tf_norm_u_sq \u001b[38;5;241m=\u001b[39m c \u001b[38;5;241m*\u001b[39m tf_dot(u,u)\n",
      "File \u001b[0;32m~/opt/anaconda3/lib/python3.9/site-packages/keras/src/backend/common/variables.py:404\u001b[0m, in \u001b[0;36mKerasVariable.__add__\u001b[0;34m(self, other)\u001b[0m\n\u001b[1;32m    403\u001b[0m \u001b[38;5;28;01mdef\u001b[39;00m \u001b[38;5;21m__add__\u001b[39m(\u001b[38;5;28mself\u001b[39m, other):\n\u001b[0;32m--> 404\u001b[0m     \u001b[38;5;28;01mreturn\u001b[39;00m \u001b[43mbackend\u001b[49m\u001b[38;5;241;43m.\u001b[39;49m\u001b[43mnumpy\u001b[49m\u001b[38;5;241;43m.\u001b[39;49m\u001b[43madd\u001b[49m\u001b[43m(\u001b[49m\u001b[38;5;28;43mself\u001b[39;49m\u001b[38;5;241;43m.\u001b[39;49m\u001b[43mvalue\u001b[49m\u001b[43m,\u001b[49m\u001b[43m \u001b[49m\u001b[43mother\u001b[49m\u001b[43m)\u001b[49m\n",
      "File \u001b[0;32m~/opt/anaconda3/lib/python3.9/site-packages/keras/src/backend/tensorflow/sparse.py:493\u001b[0m, in \u001b[0;36melementwise_binary_union.<locals>.wrap_elementwise_binary_union.<locals>.sparse_wrapper\u001b[0;34m(x1, x2)\u001b[0m\n\u001b[1;32m    490\u001b[0m \u001b[38;5;28;01melif\u001b[39;00m \u001b[38;5;28misinstance\u001b[39m(x2, tf\u001b[38;5;241m.\u001b[39mIndexedSlices):\n\u001b[1;32m    491\u001b[0m     \u001b[38;5;66;03m# x2 is an IndexedSlices, densify.\u001b[39;00m\n\u001b[1;32m    492\u001b[0m     x2 \u001b[38;5;241m=\u001b[39m tf\u001b[38;5;241m.\u001b[39mconvert_to_tensor(x2)\n\u001b[0;32m--> 493\u001b[0m \u001b[38;5;28;01mreturn\u001b[39;00m \u001b[43mfunc\u001b[49m\u001b[43m(\u001b[49m\u001b[43mx1\u001b[49m\u001b[43m,\u001b[49m\u001b[43m \u001b[49m\u001b[43mx2\u001b[49m\u001b[43m)\u001b[49m\n",
      "File \u001b[0;32m~/opt/anaconda3/lib/python3.9/site-packages/keras/src/backend/tensorflow/numpy.py:32\u001b[0m, in \u001b[0;36madd\u001b[0;34m(x1, x2)\u001b[0m\n\u001b[1;32m     30\u001b[0m \u001b[38;5;28;01mif\u001b[39;00m \u001b[38;5;129;01mnot\u001b[39;00m \u001b[38;5;28misinstance\u001b[39m(x2, (\u001b[38;5;28mint\u001b[39m, \u001b[38;5;28mfloat\u001b[39m)):\n\u001b[1;32m     31\u001b[0m     x2 \u001b[38;5;241m=\u001b[39m convert_to_tensor(x2)\n\u001b[0;32m---> 32\u001b[0m dtype \u001b[38;5;241m=\u001b[39m \u001b[43mdtypes\u001b[49m\u001b[38;5;241;43m.\u001b[39;49m\u001b[43mresult_type\u001b[49m\u001b[43m(\u001b[49m\n\u001b[1;32m     33\u001b[0m \u001b[43m    \u001b[49m\u001b[38;5;28;43mgetattr\u001b[39;49m\u001b[43m(\u001b[49m\u001b[43mx1\u001b[49m\u001b[43m,\u001b[49m\u001b[43m \u001b[49m\u001b[38;5;124;43m\"\u001b[39;49m\u001b[38;5;124;43mdtype\u001b[39;49m\u001b[38;5;124;43m\"\u001b[39;49m\u001b[43m,\u001b[49m\u001b[43m \u001b[49m\u001b[38;5;28;43mtype\u001b[39;49m\u001b[43m(\u001b[49m\u001b[43mx1\u001b[49m\u001b[43m)\u001b[49m\u001b[43m)\u001b[49m\u001b[43m,\u001b[49m\n\u001b[1;32m     34\u001b[0m \u001b[43m    \u001b[49m\u001b[38;5;28;43mgetattr\u001b[39;49m\u001b[43m(\u001b[49m\u001b[43mx2\u001b[49m\u001b[43m,\u001b[49m\u001b[43m \u001b[49m\u001b[38;5;124;43m\"\u001b[39;49m\u001b[38;5;124;43mdtype\u001b[39;49m\u001b[38;5;124;43m\"\u001b[39;49m\u001b[43m,\u001b[49m\u001b[43m \u001b[49m\u001b[38;5;28;43mtype\u001b[39;49m\u001b[43m(\u001b[49m\u001b[43mx2\u001b[49m\u001b[43m)\u001b[49m\u001b[43m)\u001b[49m\u001b[43m,\u001b[49m\n\u001b[1;32m     35\u001b[0m \u001b[43m\u001b[49m\u001b[43m)\u001b[49m\n\u001b[1;32m     36\u001b[0m x1 \u001b[38;5;241m=\u001b[39m convert_to_tensor(x1, dtype)\n\u001b[1;32m     37\u001b[0m x2 \u001b[38;5;241m=\u001b[39m convert_to_tensor(x2, dtype)\n",
      "File \u001b[0;32m~/opt/anaconda3/lib/python3.9/site-packages/keras/src/backend/common/dtypes.py:309\u001b[0m, in \u001b[0;36mresult_type\u001b[0;34m(*dtypes)\u001b[0m\n\u001b[1;32m    304\u001b[0m     \u001b[38;5;28;01mif\u001b[39;00m dtype \u001b[38;5;129;01min\u001b[39;00m FLOAT8_TYPES:\n\u001b[1;32m    305\u001b[0m         \u001b[38;5;28;01mraise\u001b[39;00m \u001b[38;5;167;01mValueError\u001b[39;00m(\n\u001b[1;32m    306\u001b[0m             \u001b[38;5;124m\"\u001b[39m\u001b[38;5;124mThere is no implicit conversions from float8 dtypes to others.\u001b[39m\u001b[38;5;124m\"\u001b[39m\n\u001b[1;32m    307\u001b[0m             \u001b[38;5;124mf\u001b[39m\u001b[38;5;124m\"\u001b[39m\u001b[38;5;124m You must cast it internally. Received: \u001b[39m\u001b[38;5;132;01m{\u001b[39;00mdtypes\u001b[38;5;132;01m}\u001b[39;00m\u001b[38;5;124m\"\u001b[39m\n\u001b[1;32m    308\u001b[0m         )\n\u001b[0;32m--> 309\u001b[0m \u001b[38;5;28;01mreturn\u001b[39;00m \u001b[43m_lattice_result_type\u001b[49m\u001b[43m(\u001b[49m\n\u001b[1;32m    310\u001b[0m \u001b[43m    \u001b[49m\u001b[38;5;241;43m*\u001b[39;49m\u001b[43m(\u001b[49m\u001b[43mconfig\u001b[49m\u001b[38;5;241;43m.\u001b[39;49m\u001b[43mfloatx\u001b[49m\u001b[43m(\u001b[49m\u001b[43m)\u001b[49m\u001b[43m \u001b[49m\u001b[38;5;28;43;01mif\u001b[39;49;00m\u001b[43m \u001b[49m\u001b[43marg\u001b[49m\u001b[43m \u001b[49m\u001b[38;5;129;43;01mis\u001b[39;49;00m\u001b[43m \u001b[49m\u001b[38;5;28;43;01mNone\u001b[39;49;00m\u001b[43m \u001b[49m\u001b[38;5;28;43;01melse\u001b[39;49;00m\u001b[43m \u001b[49m\u001b[43marg\u001b[49m\u001b[43m \u001b[49m\u001b[38;5;28;43;01mfor\u001b[39;49;00m\u001b[43m \u001b[49m\u001b[43marg\u001b[49m\u001b[43m \u001b[49m\u001b[38;5;129;43;01min\u001b[39;49;00m\u001b[43m \u001b[49m\u001b[43mdtypes\u001b[49m\u001b[43m)\u001b[49m\u001b[43m,\u001b[49m\n\u001b[1;32m    311\u001b[0m \u001b[43m\u001b[49m\u001b[43m)\u001b[49m\n",
      "File \u001b[0;32m~/opt/anaconda3/lib/python3.9/site-packages/keras/src/backend/common/dtypes.py:242\u001b[0m, in \u001b[0;36m_lattice_result_type\u001b[0;34m(*args)\u001b[0m\n\u001b[1;32m    241\u001b[0m \u001b[38;5;28;01mdef\u001b[39;00m \u001b[38;5;21m_lattice_result_type\u001b[39m(\u001b[38;5;241m*\u001b[39margs):\n\u001b[0;32m--> 242\u001b[0m     dtypes, weak_types \u001b[38;5;241m=\u001b[39m \u001b[38;5;28;43mzip\u001b[39;49m\u001b[43m(\u001b[49m\u001b[38;5;241;43m*\u001b[39;49m\u001b[43m(\u001b[49m\u001b[43m_dtype_and_weaktype\u001b[49m\u001b[43m(\u001b[49m\u001b[43marg\u001b[49m\u001b[43m)\u001b[49m\u001b[43m \u001b[49m\u001b[38;5;28;43;01mfor\u001b[39;49;00m\u001b[43m \u001b[49m\u001b[43marg\u001b[49m\u001b[43m \u001b[49m\u001b[38;5;129;43;01min\u001b[39;49;00m\u001b[43m \u001b[49m\u001b[43margs\u001b[49m\u001b[43m)\u001b[49m\u001b[43m)\u001b[49m\n\u001b[1;32m    243\u001b[0m     \u001b[38;5;28;01mif\u001b[39;00m \u001b[38;5;28mlen\u001b[39m(dtypes) \u001b[38;5;241m==\u001b[39m \u001b[38;5;241m1\u001b[39m:\n\u001b[1;32m    244\u001b[0m         out_dtype \u001b[38;5;241m=\u001b[39m dtypes[\u001b[38;5;241m0\u001b[39m]\n",
      "\u001b[0;31mKeyboardInterrupt\u001b[0m: "
     ]
    }
   ],
   "source": [
    "nsteps=451\n",
    "start = time.time()\n",
    "mE, vE = run_J1J2_hypvars(wf=wf_hgru, numsteps=nsteps, systemsize=syssize, var_tol=2.0,\n",
    "                          J1_ = J1, J2_ = J2, Marshall_sign = True, \n",
    "                           numsamples = nssamples,  lr1=1e-2, lr2=1e-2, seed = 111, fname = 'results')\n",
    "finish = time.time()\n",
    "duration = finish-start\n",
    "print(f'Total time taken: {duration}')"
   ]
  },
  {
   "cell_type": "code",
   "execution_count": null,
   "id": "601b18bb",
   "metadata": {},
   "outputs": [],
   "source": []
  }
 ],
 "metadata": {
  "kernelspec": {
   "display_name": "Python 3 (ipykernel)",
   "language": "python",
   "name": "python3"
  },
  "language_info": {
   "codemirror_mode": {
    "name": "ipython",
    "version": 3
   },
   "file_extension": ".py",
   "mimetype": "text/x-python",
   "name": "python",
   "nbconvert_exporter": "python",
   "pygments_lexer": "ipython3",
   "version": "3.9.12"
  }
 },
 "nbformat": 4,
 "nbformat_minor": 5
}
