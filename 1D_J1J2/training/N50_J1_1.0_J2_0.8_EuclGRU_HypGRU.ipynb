{
 "cells": [
  {
   "cell_type": "code",
   "execution_count": 1,
   "id": "a9abff75",
   "metadata": {
    "scrolled": true
   },
   "outputs": [
    {
     "name": "stderr",
     "output_type": "stream",
     "text": [
      "2025-03-28 13:50:27.859784: I tensorflow/core/platform/cpu_feature_guard.cc:210] This TensorFlow binary is optimized to use available CPU instructions in performance-critical operations.\n",
      "To enable the following instructions: AVX2 FMA, in other operations, rebuild TensorFlow with the appropriate compiler flags.\n"
     ]
    },
    {
     "name": "stdout",
     "output_type": "stream",
     "text": [
      "Num GPUs Available:  0\n"
     ]
    }
   ],
   "source": [
    "import sys\n",
    "sys.path.append('../utility')\n",
    "from j1j2_hyprnn_train_loop import *"
   ]
  },
  {
   "cell_type": "code",
   "execution_count": 2,
   "id": "f4fd866c",
   "metadata": {},
   "outputs": [],
   "source": [
    "E_exact = -20.9841\n",
    "syssize = 50\n",
    "nssamples = 50\n",
    "J1 = 1.0\n",
    "J2 = 0.8\n",
    "var_tol = 2.0"
   ]
  },
  {
   "cell_type": "markdown",
   "id": "1cc2f89e",
   "metadata": {},
   "source": [
    "# EuclGRU"
   ]
  },
  {
   "cell_type": "code",
   "execution_count": 3,
   "id": "fdd289b8",
   "metadata": {},
   "outputs": [
    {
     "data": {
      "text/plain": [
       "<j1j2_hyprnn_wf.rnn_eucl_wf at 0x10fdcb610>"
      ]
     },
     "execution_count": 3,
     "metadata": {},
     "output_type": "execute_result"
    }
   ],
   "source": [
    "cell_type = 'EuclGRU'\n",
    "hidden_units = 75\n",
    "wf_egru = rnn_eucl_wf(syssize, cell_type, hidden_units)\n",
    "wf_egru"
   ]
  },
  {
   "cell_type": "code",
   "execution_count": 4,
   "id": "67fb0f78",
   "metadata": {},
   "outputs": [
    {
     "name": "stdout",
     "output_type": "stream",
     "text": [
      "step: 0, loss: -1.37457, mean energy: 21.62602+0.10530j, varE: 1.11107\n",
      "step: 10, loss: 15.83107, mean energy: -4.36127+0.08569j, varE: 12.45353\n",
      "step: 20, loss: -6.96927, mean energy: -9.08756+0.21213j, varE: 7.42716\n",
      "step: 30, loss: -0.52240, mean energy: -10.60168-0.03886j, varE: 3.21329\n",
      "step: 40, loss: 1.33092, mean energy: -11.01965+0.13000j, varE: 3.67929\n",
      "step: 50, loss: 2.82895, mean energy: -12.42198-0.18172j, varE: 6.18668\n",
      "step: 60, loss: 14.92245, mean energy: -11.83322+0.14970j, varE: 6.57137\n",
      "step: 70, loss: 0.46176, mean energy: -14.00080+0.30290j, varE: 3.38724\n",
      "step: 80, loss: -3.62878, mean energy: -14.01373-0.19882j, varE: 5.10690\n",
      "step: 90, loss: -8.17322, mean energy: -13.91591-0.09043j, varE: 8.29802\n",
      "step: 100, loss: -1.48264, mean energy: -15.16826-0.02803j, varE: 4.94679\n",
      "step: 110, loss: 11.65045, mean energy: -16.04950-0.10898j, varE: 5.10771\n",
      "step: 120, loss: 0.26553, mean energy: -13.91671+0.16586j, varE: 7.80850\n",
      "step: 130, loss: 11.70175, mean energy: -15.92788-0.04948j, varE: 28.76045\n",
      "step: 140, loss: 4.91718, mean energy: -16.08723+0.05802j, varE: 4.91542\n",
      "step: 150, loss: -3.92691, mean energy: -16.58515+0.03855j, varE: 5.12476\n",
      "step: 160, loss: 8.06137, mean energy: -16.96919+0.31622j, varE: 6.79573\n",
      "step: 170, loss: -3.73889, mean energy: -17.66905-0.20353j, varE: 4.12441\n",
      "step: 180, loss: -4.97153, mean energy: -17.40711+0.03413j, varE: 5.50773\n",
      "step: 190, loss: 0.11655, mean energy: -17.50118+0.08174j, varE: 6.18928\n",
      "step: 200, loss: 1.96667, mean energy: -14.96566-0.22836j, varE: 8.09031\n",
      "step: 210, loss: -1.69482, mean energy: -16.70155-0.05892j, varE: 6.93735\n",
      "step: 220, loss: -8.26947, mean energy: -17.03514+0.09933j, varE: 5.60812\n",
      "Best model saved at epoch 226 with best E=-17.84243-0.07872j, varE=1.84552\n",
      "step: 230, loss: 5.40274, mean energy: -17.87379-0.16242j, varE: 3.93865\n",
      "step: 240, loss: 9.17856, mean energy: -17.81841-0.05201j, varE: 3.49815\n",
      "Best model saved at epoch 245 with best E=-17.84356+0.21202j, varE=1.66523\n",
      "step: 250, loss: 1.84048, mean energy: -17.98304+0.03450j, varE: 4.42592\n",
      "step: 260, loss: 0.38678, mean energy: -18.07933+0.03114j, varE: 3.26745\n",
      "Best model saved at epoch 267 with best E=-18.23569-0.25730j, varE=1.33018\n",
      "step: 270, loss: -9.06024, mean energy: -17.91084-0.03082j, varE: 2.33921\n",
      "Best model saved at epoch 271 with best E=-18.54109-0.01181j, varE=1.60826\n",
      "step: 280, loss: 4.12292, mean energy: -18.49409-0.01408j, varE: 2.10478\n",
      "step: 290, loss: 4.93530, mean energy: -17.22617+0.00269j, varE: 8.98531\n",
      "step: 300, loss: 1.67465, mean energy: -18.41232+0.05447j, varE: 2.84693\n",
      "step: 310, loss: 10.03687, mean energy: -18.31002+0.44014j, varE: 11.20056\n",
      "step: 320, loss: 1.22281, mean energy: -17.94037-0.36918j, varE: 11.28390\n",
      "step: 330, loss: 0.03329, mean energy: -17.04351+0.01182j, varE: 3.59941\n",
      "Best model saved at epoch 332 with best E=-18.62635+0.13366j, varE=1.91692\n",
      "Best model saved at epoch 333 with best E=-18.64549+0.03020j, varE=1.78716\n",
      "step: 340, loss: -7.32162, mean energy: -17.78969-0.07036j, varE: 4.52000\n",
      "Best model saved at epoch 342 with best E=-18.90418-0.00514j, varE=1.62829\n",
      "step: 350, loss: 5.50586, mean energy: -17.35946+0.23058j, varE: 2.45704\n",
      "Best model saved at epoch 355 with best E=-19.02616-0.17728j, varE=1.88022\n",
      "step: 360, loss: -5.83127, mean energy: -18.93998-0.26726j, varE: 1.39149\n",
      "Best model saved at epoch 361 with best E=-19.04266-0.13193j, varE=1.13223\n",
      "Best model saved at epoch 368 with best E=-19.35857+0.07653j, varE=1.33962\n",
      "step: 370, loss: 1.69537, mean energy: -18.85507+0.00921j, varE: 1.47749\n",
      "Best model saved at epoch 376 with best E=-19.46825+0.04373j, varE=1.06126\n",
      "step: 380, loss: -2.27289, mean energy: -19.35326+0.10507j, varE: 0.98854\n",
      "Best model saved at epoch 388 with best E=-19.51596-0.15328j, varE=0.65211\n",
      "step: 390, loss: -5.60144, mean energy: -19.41072-0.18485j, varE: 2.95242\n",
      "Best model saved at epoch 391 with best E=-19.63041-0.11483j, varE=0.78065\n",
      "Best model saved at epoch 397 with best E=-19.63806+0.06850j, varE=0.70534\n",
      "step: 400, loss: 1.11035, mean energy: -19.54186-0.13572j, varE: 0.93190\n",
      "Total time taken: 4.437\n"
     ]
    }
   ],
   "source": [
    "nsteps = 401\n",
    "start = time.time()\n",
    "\n",
    "mE, vE = run_J1J2(wf=wf_egru, numsteps=nsteps, systemsize=syssize, var_tol= var_tol, J1_  = J1, \n",
    "                   J2_ = J2, Marshall_sign = True, \n",
    "                  numsamples = nssamples, learningrate = 1e-2, seed = 111, fname = 'results')\n",
    "finish = time.time()\n",
    "duration = finish-start\n",
    "print(f'Total time taken: {np.round(duration/3600,3)}')"
   ]
  },
  {
   "cell_type": "markdown",
   "id": "a587abf4",
   "metadata": {},
   "source": [
    "# HypGRU"
   ]
  },
  {
   "cell_type": "code",
   "execution_count": 3,
   "id": "be59df4b",
   "metadata": {},
   "outputs": [
    {
     "data": {
      "text/plain": [
       "<j1j2_hyprnn_wf.rnn_hyp_wf at 0x7f9dc5f13580>"
      ]
     },
     "execution_count": 3,
     "metadata": {},
     "output_type": "execute_result"
    }
   ],
   "source": [
    "cell_type = 'HypGRU'\n",
    "hidden_units = 75\n",
    "wf_hgru = rnn_hyp_wf(syssize, cell_type, 'hyp', 'id', hidden_units)\n",
    "wf_hgru"
   ]
  },
  {
   "cell_type": "code",
   "execution_count": 4,
   "id": "3af98a8f",
   "metadata": {},
   "outputs": [
    {
     "name": "stdout",
     "output_type": "stream",
     "text": [
      "step: 0, loss: -2.68951, mean energy: 18.92231+0.30570j, varE: 8.41262\n",
      "step: 10, loss: 8.60030, mean energy: -4.02757-0.23476j, varE: 16.10463\n",
      "step: 20, loss: 0.51860, mean energy: -5.60790-0.36112j, varE: 16.37456\n",
      "step: 30, loss: -0.45226, mean energy: -8.07581+0.07224j, varE: 10.33201\n",
      "step: 40, loss: -0.86856, mean energy: -9.96961+0.02248j, varE: 8.55314\n",
      "step: 50, loss: 8.85626, mean energy: -11.45854-0.06096j, varE: 6.36867\n",
      "step: 60, loss: 0.88971, mean energy: -11.68982+0.12247j, varE: 7.78862\n",
      "step: 70, loss: -5.00421, mean energy: -12.27751+0.10079j, varE: 12.32270\n",
      "step: 80, loss: -3.07727, mean energy: -12.93965+0.25148j, varE: 5.92276\n",
      "step: 90, loss: -2.40485, mean energy: -13.28392+0.04731j, varE: 6.60168\n",
      "step: 100, loss: -2.10748, mean energy: -14.10850+0.31021j, varE: 4.66457\n",
      "step: 110, loss: -12.28857, mean energy: -14.65724+0.08026j, varE: 20.65771\n",
      "step: 120, loss: -1.45386, mean energy: -14.94595+0.07429j, varE: 9.08405\n",
      "step: 130, loss: 8.68628, mean energy: -15.84654-0.10445j, varE: 10.32816\n",
      "step: 140, loss: -2.80368, mean energy: -16.61973+0.01673j, varE: 10.14065\n",
      "step: 150, loss: -3.12018, mean energy: -18.19823-0.11593j, varE: 3.85606\n",
      "step: 160, loss: 8.52327, mean energy: -10.65536+0.54398j, varE: 16.45938\n",
      "step: 170, loss: -4.51315, mean energy: -14.78169+0.21848j, varE: 7.87708\n",
      "step: 180, loss: -2.77167, mean energy: -15.57005-0.11016j, varE: 4.40104\n",
      "step: 190, loss: -5.96323, mean energy: -15.95551+0.12150j, varE: 4.54955\n",
      "step: 200, loss: 1.49033, mean energy: -15.79025-0.37503j, varE: 3.93867\n",
      "step: 210, loss: 3.47498, mean energy: -16.97800-0.10196j, varE: 3.62281\n",
      "Best model saved at epoch 218 with best E=-16.70464-0.21666j, varE=0.93592\n",
      "step: 220, loss: 4.39517, mean energy: -18.09078+0.07142j, varE: 22.32873\n",
      "step: 230, loss: -1.57666, mean energy: -18.00233+0.04120j, varE: 2.08318\n",
      "step: 240, loss: 0.92633, mean energy: -17.89243+0.09129j, varE: 7.91433\n",
      "Best model saved at epoch 245 with best E=-18.41537-0.04754j, varE=1.49620\n",
      "step: 250, loss: 1.31015, mean energy: -16.51429-0.11129j, varE: 10.80169\n",
      "step: 260, loss: -3.37787, mean energy: -14.04255-0.05092j, varE: 11.69444\n",
      "step: 270, loss: -4.51105, mean energy: -13.33876+0.03251j, varE: 9.94484\n",
      "step: 280, loss: 0.54843, mean energy: -17.47803+0.22295j, varE: 4.06226\n",
      "step: 290, loss: 1.57019, mean energy: -18.75513-0.22021j, varE: 5.28859\n",
      "step: 300, loss: -2.70776, mean energy: -18.88302-0.06261j, varE: 2.48853\n",
      "Best model saved at epoch 302 with best E=-19.11411-0.02777j, varE=1.81385\n",
      "step: 310, loss: 6.78436, mean energy: -19.10187-0.10084j, varE: 5.72867\n",
      "step: 320, loss: -3.26227, mean energy: -19.27861+0.15862j, varE: 5.17942\n",
      "Best model saved at epoch 325 with best E=-19.39815-0.05426j, varE=1.93372\n",
      "Best model saved at epoch 330 with best E=-19.48272-0.12235j, varE=1.59722\n",
      "step: 330, loss: 2.98071, mean energy: -19.48272-0.12235j, varE: 1.59722\n",
      "Best model saved at epoch 331 with best E=-19.50033-0.05274j, varE=1.60190\n",
      "Best model saved at epoch 333 with best E=-19.56833+0.00461j, varE=1.29864\n",
      "Best model saved at epoch 336 with best E=-19.72255-0.07704j, varE=1.08621\n",
      "step: 340, loss: -3.95935, mean energy: -19.60055-0.05264j, varE: 1.56621\n",
      "Best model saved at epoch 343 with best E=-19.80569+0.04848j, varE=1.11906\n",
      "step: 350, loss: 0.34964, mean energy: -19.70321-0.15330j, varE: 1.47993\n",
      "Best model saved at epoch 355 with best E=-19.89724-0.05274j, varE=1.12483\n",
      "Best model saved at epoch 358 with best E=-20.01871+0.08621j, varE=1.44179\n",
      "step: 360, loss: 0.17416, mean energy: -19.99910-0.10198j, varE: 1.29965\n",
      "Best model saved at epoch 364 with best E=-20.06223+0.13611j, varE=1.54119\n",
      "step: 370, loss: 3.77734, mean energy: -20.33992-0.01666j, varE: 3.16593\n",
      "Best model saved at epoch 376 with best E=-20.18195-0.05675j, varE=0.82932\n",
      "step: 380, loss: -0.48801, mean energy: -19.84115-0.09092j, varE: 3.12054\n",
      "step: 390, loss: 3.87881, mean energy: -19.80833-0.04949j, varE: 2.05540\n",
      "step: 400, loss: 5.64873, mean energy: 4.13427+0.64347j, varE: 15.43511\n"
     ]
    },
    {
     "ename": "KeyboardInterrupt",
     "evalue": "",
     "output_type": "error",
     "traceback": [
      "\u001b[0;31m---------------------------------------------------------------------------\u001b[0m",
      "\u001b[0;31mKeyboardInterrupt\u001b[0m                         Traceback (most recent call last)",
      "Input \u001b[0;32mIn [4]\u001b[0m, in \u001b[0;36m<cell line: 3>\u001b[0;34m()\u001b[0m\n\u001b[1;32m      1\u001b[0m nsteps\u001b[38;5;241m=\u001b[39m\u001b[38;5;241m451\u001b[39m\n\u001b[1;32m      2\u001b[0m start \u001b[38;5;241m=\u001b[39m time\u001b[38;5;241m.\u001b[39mtime()\n\u001b[0;32m----> 3\u001b[0m mE, vE \u001b[38;5;241m=\u001b[39m \u001b[43mrun_J1J2_hypvars\u001b[49m\u001b[43m(\u001b[49m\u001b[43mwf\u001b[49m\u001b[38;5;241;43m=\u001b[39;49m\u001b[43mwf_hgru\u001b[49m\u001b[43m,\u001b[49m\u001b[43m \u001b[49m\u001b[43mnumsteps\u001b[49m\u001b[38;5;241;43m=\u001b[39;49m\u001b[43mnsteps\u001b[49m\u001b[43m,\u001b[49m\u001b[43m \u001b[49m\u001b[43msystemsize\u001b[49m\u001b[38;5;241;43m=\u001b[39;49m\u001b[43msyssize\u001b[49m\u001b[43m,\u001b[49m\u001b[43m \u001b[49m\u001b[43mvar_tol\u001b[49m\u001b[38;5;241;43m=\u001b[39;49m\u001b[38;5;241;43m2.0\u001b[39;49m\u001b[43m,\u001b[49m\n\u001b[1;32m      4\u001b[0m \u001b[43m                          \u001b[49m\u001b[43mJ1_\u001b[49m\u001b[43m \u001b[49m\u001b[38;5;241;43m=\u001b[39;49m\u001b[43m \u001b[49m\u001b[43mJ1\u001b[49m\u001b[43m,\u001b[49m\u001b[43m \u001b[49m\u001b[43mJ2_\u001b[49m\u001b[43m \u001b[49m\u001b[38;5;241;43m=\u001b[39;49m\u001b[43m \u001b[49m\u001b[43mJ2\u001b[49m\u001b[43m,\u001b[49m\u001b[43m \u001b[49m\u001b[43mMarshall_sign\u001b[49m\u001b[43m \u001b[49m\u001b[38;5;241;43m=\u001b[39;49m\u001b[43m \u001b[49m\u001b[38;5;28;43;01mTrue\u001b[39;49;00m\u001b[43m,\u001b[49m\u001b[43m \u001b[49m\n\u001b[1;32m      5\u001b[0m \u001b[43m                           \u001b[49m\u001b[43mnumsamples\u001b[49m\u001b[43m \u001b[49m\u001b[38;5;241;43m=\u001b[39;49m\u001b[43m \u001b[49m\u001b[43mnssamples\u001b[49m\u001b[43m,\u001b[49m\u001b[43m  \u001b[49m\u001b[43mlr1\u001b[49m\u001b[38;5;241;43m=\u001b[39;49m\u001b[38;5;241;43m1e-2\u001b[39;49m\u001b[43m,\u001b[49m\u001b[43m \u001b[49m\u001b[43mlr2\u001b[49m\u001b[38;5;241;43m=\u001b[39;49m\u001b[38;5;241;43m1e-2\u001b[39;49m\u001b[43m,\u001b[49m\u001b[43m \u001b[49m\u001b[43mseed\u001b[49m\u001b[43m \u001b[49m\u001b[38;5;241;43m=\u001b[39;49m\u001b[43m \u001b[49m\u001b[38;5;241;43m111\u001b[39;49m\u001b[43m,\u001b[49m\u001b[43m \u001b[49m\u001b[43mfname\u001b[49m\u001b[43m \u001b[49m\u001b[38;5;241;43m=\u001b[39;49m\u001b[43m \u001b[49m\u001b[38;5;124;43m'\u001b[39;49m\u001b[38;5;124;43mresults\u001b[39;49m\u001b[38;5;124;43m'\u001b[39;49m\u001b[43m)\u001b[49m\n\u001b[1;32m      6\u001b[0m finish \u001b[38;5;241m=\u001b[39m time\u001b[38;5;241m.\u001b[39mtime()\n\u001b[1;32m      7\u001b[0m duration \u001b[38;5;241m=\u001b[39m finish\u001b[38;5;241m-\u001b[39mstart\n",
      "File \u001b[0;32m~/Library/CloudStorage/Dropbox/2025-Projects/2_Hyperbolic_RNN_NQS/1D_J1J2_hyp_bias/../utility/j1j2_hyprnn_train_loop.py:261\u001b[0m, in \u001b[0;36mrun_J1J2_hypvars\u001b[0;34m(wf, numsteps, systemsize, var_tol, J1_, J2_, Marshall_sign, numsamples, lr1, lr2, seed, fname)\u001b[0m\n\u001b[1;32m    259\u001b[0m best_E_list \u001b[38;5;241m=\u001b[39m []\n\u001b[1;32m    260\u001b[0m \u001b[38;5;28;01mfor\u001b[39;00m step \u001b[38;5;129;01min\u001b[39;00m \u001b[38;5;28mrange\u001b[39m(numsteps):\n\u001b[0;32m--> 261\u001b[0m     cost, E, wfmodel \u001b[38;5;241m=\u001b[39m \u001b[43mtrain_step_with_hypvars\u001b[49m\u001b[43m(\u001b[49m\u001b[43mwf\u001b[49m\u001b[43m,\u001b[49m\u001b[43m \u001b[49m\u001b[43mnumsamples\u001b[49m\u001b[43m,\u001b[49m\u001b[43m \u001b[49m\u001b[43minput_dim\u001b[49m\u001b[43m,\u001b[49m\u001b[43m \u001b[49m\u001b[43mJ1\u001b[49m\u001b[43m,\u001b[49m\u001b[43m \u001b[49m\u001b[43mJ2\u001b[49m\u001b[43m,\u001b[49m\u001b[43m \u001b[49m\u001b[43mBz\u001b[49m\u001b[43m,\u001b[49m\u001b[43m \u001b[49m\u001b[43mMarshall_sign\u001b[49m\u001b[43m,\u001b[49m\u001b[43m \u001b[49m\u001b[43mopt_eucl\u001b[49m\u001b[43m,\u001b[49m\u001b[43m \u001b[49m\u001b[43mopt_hyp\u001b[49m\u001b[43m)\u001b[49m\n\u001b[1;32m    262\u001b[0m     meanE \u001b[38;5;241m=\u001b[39m np\u001b[38;5;241m.\u001b[39mmean(E)\n\u001b[1;32m    263\u001b[0m     varE \u001b[38;5;241m=\u001b[39m np\u001b[38;5;241m.\u001b[39mvar(E)\n",
      "File \u001b[0;32m~/Library/CloudStorage/Dropbox/2025-Projects/2_Hyperbolic_RNN_NQS/1D_J1J2_hyp_bias/../utility/j1j2_hyprnn_train_loop.py:167\u001b[0m, in \u001b[0;36mtrain_step_with_hypvars\u001b[0;34m(wf, numsamples, input_dim, J1, J2, Bz, Marshall_sign, opt_eucl, opt_hyp)\u001b[0m\n\u001b[1;32m    165\u001b[0m log_amplitudes_ \u001b[38;5;241m=\u001b[39m wf\u001b[38;5;241m.\u001b[39mlog_amplitude(tsamp,input_dim)\n\u001b[1;32m    166\u001b[0m N \u001b[38;5;241m=\u001b[39m tsamp\u001b[38;5;241m.\u001b[39mshape[\u001b[38;5;241m1\u001b[39m]\n\u001b[0;32m--> 167\u001b[0m Eloc \u001b[38;5;241m=\u001b[39m \u001b[43mJ1J2_local_energies\u001b[49m\u001b[43m(\u001b[49m\u001b[43mwf\u001b[49m\u001b[43m,\u001b[49m\u001b[43mN\u001b[49m\u001b[43m,\u001b[49m\u001b[43mJ1\u001b[49m\u001b[43m,\u001b[49m\u001b[43mJ2\u001b[49m\u001b[43m,\u001b[49m\u001b[43mBz\u001b[49m\u001b[43m,\u001b[49m\u001b[43mnumsamples\u001b[49m\u001b[43m,\u001b[49m\u001b[43m \u001b[49m\u001b[43mtsamp\u001b[49m\u001b[43m,\u001b[49m\u001b[43m \u001b[49m\u001b[43mMarshall_sign\u001b[49m\u001b[43m)\u001b[49m\n\u001b[1;32m    168\u001b[0m loss_value \u001b[38;5;241m=\u001b[39m cost_fn(Eloc, log_amplitudes_)\n\u001b[1;32m    170\u001b[0m wf_hyp_vars \u001b[38;5;241m=\u001b[39m wfmodel\u001b[38;5;241m.\u001b[39mrnn\u001b[38;5;241m.\u001b[39mhyp_vars\n",
      "File \u001b[0;32m~/Library/CloudStorage/Dropbox/2025-Projects/2_Hyperbolic_RNN_NQS/1D_J1J2_hyp_bias/../utility/j1j2_hyprnn_train_loop.py:129\u001b[0m, in \u001b[0;36mJ1J2_local_energies\u001b[0;34m(wf, N, J1, J2, Bz, numsamples, samples, Marshall_sign)\u001b[0m\n\u001b[1;32m    127\u001b[0m     \u001b[38;5;28;01melse\u001b[39;00m:\n\u001b[1;32m    128\u001b[0m         cut \u001b[38;5;241m=\u001b[39m \u001b[38;5;28mslice\u001b[39m((i\u001b[38;5;241m*\u001b[39mlen_sigmas)\u001b[38;5;241m/\u001b[39m\u001b[38;5;241m/\u001b[39msteps,len_sigmas)\n\u001b[0;32m--> 129\u001b[0m     log_amps\u001b[38;5;241m=\u001b[39m\u001b[43mwf\u001b[49m\u001b[38;5;241;43m.\u001b[39;49m\u001b[43mlog_amplitude\u001b[49m\u001b[43m(\u001b[49m\u001b[43msigmas\u001b[49m\u001b[43m[\u001b[49m\u001b[43mcut\u001b[49m\u001b[43m]\u001b[49m\u001b[43m,\u001b[49m\u001b[43minputdim\u001b[49m\u001b[38;5;241;43m=\u001b[39;49m\u001b[38;5;241;43m2\u001b[39;49m\u001b[43m)\u001b[49m    \n\u001b[1;32m    130\u001b[0m     log_amplitudes[cut] \u001b[38;5;241m=\u001b[39m log_amps\n\u001b[1;32m    132\u001b[0m \u001b[38;5;66;03m#Generating the local energies\u001b[39;00m\n",
      "File \u001b[0;32m~/Library/CloudStorage/Dropbox/2025-Projects/2_Hyperbolic_RNN_NQS/1D_J1J2_hyp_bias/../utility/j1j2_hyprnn_wf.py:319\u001b[0m, in \u001b[0;36mrnn_hyp_wf.log_amplitude\u001b[0;34m(self, samples, inputdim)\u001b[0m\n\u001b[1;32m    316\u001b[0m o2, rs2 \u001b[38;5;241m=\u001b[39m \u001b[38;5;28mself\u001b[39m\u001b[38;5;241m.\u001b[39mrnn(inputs_ampl, rnn_state)\n\u001b[1;32m    318\u001b[0m \u001b[38;5;28;01mfor\u001b[39;00m n \u001b[38;5;129;01min\u001b[39;00m \u001b[38;5;28mrange\u001b[39m(\u001b[38;5;28mself\u001b[39m\u001b[38;5;241m.\u001b[39mN):\n\u001b[0;32m--> 319\u001b[0m     output_ampl, output_phase, rnn_state \u001b[38;5;241m=\u001b[39m \u001b[38;5;28;43mself\u001b[39;49m\u001b[38;5;241;43m.\u001b[39;49m\u001b[43mmodel\u001b[49m\u001b[38;5;241;43m.\u001b[39;49m\u001b[43mcall\u001b[49m\u001b[43m(\u001b[49m\u001b[43minputs_ampl\u001b[49m\u001b[43m,\u001b[49m\u001b[43m \u001b[49m\u001b[43mrnn_state\u001b[49m\u001b[43m,\u001b[49m\u001b[43m \u001b[49m\u001b[43mcompute_phase\u001b[49m\u001b[38;5;241;43m=\u001b[39;49m\u001b[38;5;28;43;01mTrue\u001b[39;49;00m\u001b[43m)\u001b[49m\n\u001b[1;32m    321\u001b[0m     \u001b[38;5;28;01mif\u001b[39;00m n\u001b[38;5;241m>\u001b[39m\u001b[38;5;241m=\u001b[39m\u001b[38;5;28mself\u001b[39m\u001b[38;5;241m.\u001b[39mN\u001b[38;5;241m/\u001b[39m\u001b[38;5;241m2\u001b[39m: \u001b[38;5;66;03m#Enforcing zero magnetization\u001b[39;00m\n\u001b[1;32m    322\u001b[0m         num_up \u001b[38;5;241m=\u001b[39m tf\u001b[38;5;241m.\u001b[39mcast(tf\u001b[38;5;241m.\u001b[39mreduce_sum(tf\u001b[38;5;241m.\u001b[39mslice(samples,begin\u001b[38;5;241m=\u001b[39m[np\u001b[38;5;241m.\u001b[39mint32(\u001b[38;5;241m0\u001b[39m),np\u001b[38;5;241m.\u001b[39mint32(\u001b[38;5;241m0\u001b[39m)],size\u001b[38;5;241m=\u001b[39m[np\u001b[38;5;241m.\u001b[39mint32(\u001b[38;5;241m-\u001b[39m\u001b[38;5;241m1\u001b[39m),np\u001b[38;5;241m.\u001b[39mint32(n)]),axis\u001b[38;5;241m=\u001b[39m\u001b[38;5;241m1\u001b[39m), tf\u001b[38;5;241m.\u001b[39mfloat32)\n",
      "File \u001b[0;32m~/Library/CloudStorage/Dropbox/2025-Projects/2_Hyperbolic_RNN_NQS/1D_J1J2_hyp_bias/../utility/j1j2_hyprnn_wf.py:33\u001b[0m, in \u001b[0;36mwfModel.call\u001b[0;34m(self, inputs, rnn_state, compute_phase)\u001b[0m\n\u001b[1;32m     31\u001b[0m     rnn_output, rnn_state \u001b[38;5;241m=\u001b[39m \u001b[38;5;28mself\u001b[39m\u001b[38;5;241m.\u001b[39mrnn(inputs, rnn_state) \n\u001b[1;32m     32\u001b[0m \u001b[38;5;28;01mif\u001b[39;00m \u001b[38;5;28mself\u001b[39m\u001b[38;5;241m.\u001b[39mhyp:\n\u001b[0;32m---> 33\u001b[0m     rnn_outp, rnn_state \u001b[38;5;241m=\u001b[39m \u001b[38;5;28;43mself\u001b[39;49m\u001b[38;5;241;43m.\u001b[39;49m\u001b[43mrnn\u001b[49m\u001b[43m(\u001b[49m\u001b[43minputs\u001b[49m\u001b[43m,\u001b[49m\u001b[43m \u001b[49m\u001b[43mrnn_state\u001b[49m\u001b[43m)\u001b[49m\n\u001b[1;32m     34\u001b[0m     rnn_output \u001b[38;5;241m=\u001b[39m tf_log_map_zero(rnn_outp, \u001b[38;5;241m1.0\u001b[39m)\n\u001b[1;32m     36\u001b[0m output_a\u001b[38;5;241m=\u001b[39m\u001b[38;5;28mself\u001b[39m\u001b[38;5;241m.\u001b[39mdense_a(rnn_output) \n",
      "File \u001b[0;32m~/opt/anaconda3/lib/python3.9/site-packages/keras/src/utils/traceback_utils.py:117\u001b[0m, in \u001b[0;36mfilter_traceback.<locals>.error_handler\u001b[0;34m(*args, **kwargs)\u001b[0m\n\u001b[1;32m    115\u001b[0m filtered_tb \u001b[38;5;241m=\u001b[39m \u001b[38;5;28;01mNone\u001b[39;00m\n\u001b[1;32m    116\u001b[0m \u001b[38;5;28;01mtry\u001b[39;00m:\n\u001b[0;32m--> 117\u001b[0m     \u001b[38;5;28;01mreturn\u001b[39;00m \u001b[43mfn\u001b[49m\u001b[43m(\u001b[49m\u001b[38;5;241;43m*\u001b[39;49m\u001b[43margs\u001b[49m\u001b[43m,\u001b[49m\u001b[43m \u001b[49m\u001b[38;5;241;43m*\u001b[39;49m\u001b[38;5;241;43m*\u001b[39;49m\u001b[43mkwargs\u001b[49m\u001b[43m)\u001b[49m\n\u001b[1;32m    118\u001b[0m \u001b[38;5;28;01mexcept\u001b[39;00m \u001b[38;5;167;01mException\u001b[39;00m \u001b[38;5;28;01mas\u001b[39;00m e:\n\u001b[1;32m    119\u001b[0m     filtered_tb \u001b[38;5;241m=\u001b[39m _process_traceback_frames(e\u001b[38;5;241m.\u001b[39m__traceback__)\n",
      "File \u001b[0;32m~/opt/anaconda3/lib/python3.9/site-packages/keras/src/layers/layer.py:901\u001b[0m, in \u001b[0;36mLayer.__call__\u001b[0;34m(self, *args, **kwargs)\u001b[0m\n\u001b[1;32m    899\u001b[0m         outputs \u001b[38;5;241m=\u001b[39m \u001b[38;5;28msuper\u001b[39m()\u001b[38;5;241m.\u001b[39m\u001b[38;5;21m__call__\u001b[39m(\u001b[38;5;241m*\u001b[39margs, \u001b[38;5;241m*\u001b[39m\u001b[38;5;241m*\u001b[39mkwargs)\n\u001b[1;32m    900\u001b[0m \u001b[38;5;28;01melse\u001b[39;00m:\n\u001b[0;32m--> 901\u001b[0m     outputs \u001b[38;5;241m=\u001b[39m \u001b[38;5;28;43msuper\u001b[39;49m\u001b[43m(\u001b[49m\u001b[43m)\u001b[49m\u001b[38;5;241;43m.\u001b[39;49m\u001b[38;5;21;43m__call__\u001b[39;49m\u001b[43m(\u001b[49m\u001b[38;5;241;43m*\u001b[39;49m\u001b[43margs\u001b[49m\u001b[43m,\u001b[49m\u001b[43m \u001b[49m\u001b[38;5;241;43m*\u001b[39;49m\u001b[38;5;241;43m*\u001b[39;49m\u001b[43mkwargs\u001b[49m\u001b[43m)\u001b[49m\n\u001b[1;32m    902\u001b[0m \u001b[38;5;66;03m# Change the layout for the layer output if needed.\u001b[39;00m\n\u001b[1;32m    903\u001b[0m \u001b[38;5;66;03m# This is useful for relayout intermediate tensor in the model\u001b[39;00m\n\u001b[1;32m    904\u001b[0m \u001b[38;5;66;03m# to achieve the optimal performance.\u001b[39;00m\n\u001b[1;32m    905\u001b[0m distribution \u001b[38;5;241m=\u001b[39m distribution_lib\u001b[38;5;241m.\u001b[39mdistribution()\n",
      "File \u001b[0;32m~/opt/anaconda3/lib/python3.9/site-packages/keras/src/utils/traceback_utils.py:117\u001b[0m, in \u001b[0;36mfilter_traceback.<locals>.error_handler\u001b[0;34m(*args, **kwargs)\u001b[0m\n\u001b[1;32m    115\u001b[0m filtered_tb \u001b[38;5;241m=\u001b[39m \u001b[38;5;28;01mNone\u001b[39;00m\n\u001b[1;32m    116\u001b[0m \u001b[38;5;28;01mtry\u001b[39;00m:\n\u001b[0;32m--> 117\u001b[0m     \u001b[38;5;28;01mreturn\u001b[39;00m \u001b[43mfn\u001b[49m\u001b[43m(\u001b[49m\u001b[38;5;241;43m*\u001b[39;49m\u001b[43margs\u001b[49m\u001b[43m,\u001b[49m\u001b[43m \u001b[49m\u001b[38;5;241;43m*\u001b[39;49m\u001b[38;5;241;43m*\u001b[39;49m\u001b[43mkwargs\u001b[49m\u001b[43m)\u001b[49m\n\u001b[1;32m    118\u001b[0m \u001b[38;5;28;01mexcept\u001b[39;00m \u001b[38;5;167;01mException\u001b[39;00m \u001b[38;5;28;01mas\u001b[39;00m e:\n\u001b[1;32m    119\u001b[0m     filtered_tb \u001b[38;5;241m=\u001b[39m _process_traceback_frames(e\u001b[38;5;241m.\u001b[39m__traceback__)\n",
      "File \u001b[0;32m~/opt/anaconda3/lib/python3.9/site-packages/keras/src/ops/operation.py:46\u001b[0m, in \u001b[0;36mOperation.__call__\u001b[0;34m(self, *args, **kwargs)\u001b[0m\n\u001b[1;32m     41\u001b[0m             call_fn \u001b[38;5;241m=\u001b[39m \u001b[38;5;28mself\u001b[39m\u001b[38;5;241m.\u001b[39mcall\n\u001b[1;32m     42\u001b[0m     call_fn \u001b[38;5;241m=\u001b[39m traceback_utils\u001b[38;5;241m.\u001b[39minject_argument_info_in_traceback(\n\u001b[1;32m     43\u001b[0m         call_fn,\n\u001b[1;32m     44\u001b[0m         object_name\u001b[38;5;241m=\u001b[39m(\u001b[38;5;124mf\u001b[39m\u001b[38;5;124m\"\u001b[39m\u001b[38;5;132;01m{\u001b[39;00m\u001b[38;5;28mself\u001b[39m\u001b[38;5;241m.\u001b[39m\u001b[38;5;18m__class__\u001b[39m\u001b[38;5;241m.\u001b[39m\u001b[38;5;18m__name__\u001b[39m\u001b[38;5;132;01m}\u001b[39;00m\u001b[38;5;124m.call()\u001b[39m\u001b[38;5;124m\"\u001b[39m),\n\u001b[1;32m     45\u001b[0m     )\n\u001b[0;32m---> 46\u001b[0m     \u001b[38;5;28;01mreturn\u001b[39;00m \u001b[43mcall_fn\u001b[49m\u001b[43m(\u001b[49m\u001b[38;5;241;43m*\u001b[39;49m\u001b[43margs\u001b[49m\u001b[43m,\u001b[49m\u001b[43m \u001b[49m\u001b[38;5;241;43m*\u001b[39;49m\u001b[38;5;241;43m*\u001b[39;49m\u001b[43mkwargs\u001b[49m\u001b[43m)\u001b[49m\n\u001b[1;32m     48\u001b[0m \u001b[38;5;66;03m# Plain flow.\u001b[39;00m\n\u001b[1;32m     49\u001b[0m \u001b[38;5;28;01mif\u001b[39;00m any_symbolic_tensors(args, kwargs):\n",
      "File \u001b[0;32m~/opt/anaconda3/lib/python3.9/site-packages/keras/src/utils/traceback_utils.py:156\u001b[0m, in \u001b[0;36minject_argument_info_in_traceback.<locals>.error_handler\u001b[0;34m(*args, **kwargs)\u001b[0m\n\u001b[1;32m    154\u001b[0m bound_signature \u001b[38;5;241m=\u001b[39m \u001b[38;5;28;01mNone\u001b[39;00m\n\u001b[1;32m    155\u001b[0m \u001b[38;5;28;01mtry\u001b[39;00m:\n\u001b[0;32m--> 156\u001b[0m     \u001b[38;5;28;01mreturn\u001b[39;00m \u001b[43mfn\u001b[49m\u001b[43m(\u001b[49m\u001b[38;5;241;43m*\u001b[39;49m\u001b[43margs\u001b[49m\u001b[43m,\u001b[49m\u001b[43m \u001b[49m\u001b[38;5;241;43m*\u001b[39;49m\u001b[38;5;241;43m*\u001b[39;49m\u001b[43mkwargs\u001b[49m\u001b[43m)\u001b[49m\n\u001b[1;32m    157\u001b[0m \u001b[38;5;28;01mexcept\u001b[39;00m \u001b[38;5;167;01mException\u001b[39;00m \u001b[38;5;28;01mas\u001b[39;00m e:\n\u001b[1;32m    158\u001b[0m     \u001b[38;5;28;01mif\u001b[39;00m \u001b[38;5;28mhasattr\u001b[39m(e, \u001b[38;5;124m\"\u001b[39m\u001b[38;5;124m_keras_call_info_injected\u001b[39m\u001b[38;5;124m\"\u001b[39m):\n\u001b[1;32m    159\u001b[0m         \u001b[38;5;66;03m# Only inject info for the innermost failing call\u001b[39;00m\n",
      "File \u001b[0;32m~/Library/CloudStorage/Dropbox/2025-Projects/2_Hyperbolic_RNN_NQS/1D_J1J2_hyp_bias/../utility/hyprnn_impl.py:325\u001b[0m, in \u001b[0;36mHypGRU.call\u001b[0;34m(self, inputs, state)\u001b[0m\n\u001b[1;32m    319\u001b[0m h_tilde \u001b[38;5;241m=\u001b[39m util\u001b[38;5;241m.\u001b[39mtf_hyp_non_lin(\u001b[38;5;28mself\u001b[39m\u001b[38;5;241m.\u001b[39mone_rnn_transform(\u001b[38;5;28mself\u001b[39m\u001b[38;5;241m.\u001b[39mWh, r_point_h, \u001b[38;5;28mself\u001b[39m\u001b[38;5;241m.\u001b[39mUh, hyp_x, \u001b[38;5;28mself\u001b[39m\u001b[38;5;241m.\u001b[39mbh),\n\u001b[1;32m    320\u001b[0m                                   non_lin\u001b[38;5;241m=\u001b[39m\u001b[38;5;28mself\u001b[39m\u001b[38;5;241m.\u001b[39mnon_lin,\n\u001b[1;32m    321\u001b[0m                                   hyp_output\u001b[38;5;241m=\u001b[39m\u001b[38;5;28;01mTrue\u001b[39;00m,\n\u001b[1;32m    322\u001b[0m                                   c\u001b[38;5;241m=\u001b[39m\u001b[38;5;28mself\u001b[39m\u001b[38;5;241m.\u001b[39mc_val)\n\u001b[1;32m    324\u001b[0m minus_h_oplus_htilde \u001b[38;5;241m=\u001b[39m util\u001b[38;5;241m.\u001b[39mtf_mob_add(\u001b[38;5;241m-\u001b[39mstate, h_tilde, \u001b[38;5;28mself\u001b[39m\u001b[38;5;241m.\u001b[39mc_val)\n\u001b[0;32m--> 325\u001b[0m new_h \u001b[38;5;241m=\u001b[39m \u001b[43mutil\u001b[49m\u001b[38;5;241;43m.\u001b[39;49m\u001b[43mtf_mob_add\u001b[49m\u001b[43m(\u001b[49m\u001b[43mstate\u001b[49m\u001b[43m,\u001b[49m\n\u001b[1;32m    326\u001b[0m \u001b[43m                            \u001b[49m\u001b[43mutil\u001b[49m\u001b[38;5;241;43m.\u001b[39;49m\u001b[43mtf_mob_pointwise_prod\u001b[49m\u001b[43m(\u001b[49m\u001b[43mminus_h_oplus_htilde\u001b[49m\u001b[43m,\u001b[49m\u001b[43m \u001b[49m\u001b[43mz\u001b[49m\u001b[43m,\u001b[49m\u001b[43m \u001b[49m\u001b[38;5;28;43mself\u001b[39;49m\u001b[38;5;241;43m.\u001b[39;49m\u001b[43mc_val\u001b[49m\u001b[43m)\u001b[49m\u001b[43m,\u001b[49m\n\u001b[1;32m    327\u001b[0m \u001b[43m                            \u001b[49m\u001b[38;5;28;43mself\u001b[39;49m\u001b[38;5;241;43m.\u001b[39;49m\u001b[43mc_val\u001b[49m\u001b[43m)\u001b[49m\n\u001b[1;32m    328\u001b[0m \u001b[38;5;28;01mreturn\u001b[39;00m new_h, new_h\n",
      "File \u001b[0;32m~/Library/CloudStorage/Dropbox/2025-Projects/2_Hyperbolic_RNN_NQS/1D_J1J2_hyp_bias/../utility/hyp_util.py:43\u001b[0m, in \u001b[0;36mtf_mob_add\u001b[0;34m(u, v, c)\u001b[0m\n\u001b[1;32m     41\u001b[0m denominator \u001b[38;5;241m=\u001b[39m \u001b[38;5;241m1.\u001b[39m \u001b[38;5;241m+\u001b[39m tf_dot_u_v \u001b[38;5;241m+\u001b[39m tf_norm_v_sq \u001b[38;5;241m*\u001b[39m tf_norm_u_sq\n\u001b[1;32m     42\u001b[0m result \u001b[38;5;241m=\u001b[39m (\u001b[38;5;241m1.\u001b[39m \u001b[38;5;241m+\u001b[39m tf_dot_u_v \u001b[38;5;241m+\u001b[39m tf_norm_v_sq) \u001b[38;5;241m/\u001b[39m denominator \u001b[38;5;241m*\u001b[39m u \u001b[38;5;241m+\u001b[39m (\u001b[38;5;241m1.\u001b[39m \u001b[38;5;241m-\u001b[39m tf_norm_u_sq) \u001b[38;5;241m/\u001b[39m denominator \u001b[38;5;241m*\u001b[39m v\n\u001b[0;32m---> 43\u001b[0m \u001b[38;5;28;01mreturn\u001b[39;00m \u001b[43mtf_project_hyp_vecs\u001b[49m\u001b[43m(\u001b[49m\u001b[43mresult\u001b[49m\u001b[43m,\u001b[49m\u001b[43m \u001b[49m\u001b[43mc\u001b[49m\u001b[43m)\u001b[49m\n",
      "File \u001b[0;32m~/Library/CloudStorage/Dropbox/2025-Projects/2_Hyperbolic_RNN_NQS/1D_J1J2_hyp_bias/../utility/hyp_util.py:16\u001b[0m, in \u001b[0;36mtf_project_hyp_vecs\u001b[0;34m(x, c)\u001b[0m\n\u001b[1;32m     14\u001b[0m \u001b[38;5;28;01mdef\u001b[39;00m \u001b[38;5;21mtf_project_hyp_vecs\u001b[39m(x, c):\n\u001b[1;32m     15\u001b[0m     \u001b[38;5;66;03m# Projection op. Need to make sure hyperbolic embeddings are inside the unit ball.\u001b[39;00m\n\u001b[0;32m---> 16\u001b[0m     \u001b[38;5;28;01mreturn\u001b[39;00m \u001b[43mtf\u001b[49m\u001b[38;5;241;43m.\u001b[39;49m\u001b[43mclip_by_norm\u001b[49m\u001b[43m(\u001b[49m\u001b[43mt\u001b[49m\u001b[38;5;241;43m=\u001b[39;49m\u001b[43mx\u001b[49m\u001b[43m,\u001b[49m\u001b[43m \u001b[49m\u001b[43mclip_norm\u001b[49m\u001b[38;5;241;43m=\u001b[39;49m\u001b[43m(\u001b[49m\u001b[38;5;241;43m1.\u001b[39;49m\u001b[43m \u001b[49m\u001b[38;5;241;43m-\u001b[39;49m\u001b[43m \u001b[49m\u001b[43mPROJ_EPS\u001b[49m\u001b[43m)\u001b[49m\u001b[43m \u001b[49m\u001b[38;5;241;43m/\u001b[39;49m\u001b[43m \u001b[49m\u001b[43mnp\u001b[49m\u001b[38;5;241;43m.\u001b[39;49m\u001b[43msqrt\u001b[49m\u001b[43m(\u001b[49m\u001b[43mc\u001b[49m\u001b[43m)\u001b[49m\u001b[43m,\u001b[49m\u001b[43m \u001b[49m\u001b[43maxes\u001b[49m\u001b[38;5;241;43m=\u001b[39;49m\u001b[43m[\u001b[49m\u001b[38;5;241;43m1\u001b[39;49m\u001b[43m]\u001b[49m\u001b[43m)\u001b[49m\n",
      "File \u001b[0;32m~/opt/anaconda3/lib/python3.9/site-packages/tensorflow/python/util/traceback_utils.py:150\u001b[0m, in \u001b[0;36mfilter_traceback.<locals>.error_handler\u001b[0;34m(*args, **kwargs)\u001b[0m\n\u001b[1;32m    148\u001b[0m filtered_tb \u001b[38;5;241m=\u001b[39m \u001b[38;5;28;01mNone\u001b[39;00m\n\u001b[1;32m    149\u001b[0m \u001b[38;5;28;01mtry\u001b[39;00m:\n\u001b[0;32m--> 150\u001b[0m   \u001b[38;5;28;01mreturn\u001b[39;00m \u001b[43mfn\u001b[49m\u001b[43m(\u001b[49m\u001b[38;5;241;43m*\u001b[39;49m\u001b[43margs\u001b[49m\u001b[43m,\u001b[49m\u001b[43m \u001b[49m\u001b[38;5;241;43m*\u001b[39;49m\u001b[38;5;241;43m*\u001b[39;49m\u001b[43mkwargs\u001b[49m\u001b[43m)\u001b[49m\n\u001b[1;32m    151\u001b[0m \u001b[38;5;28;01mexcept\u001b[39;00m \u001b[38;5;167;01mException\u001b[39;00m \u001b[38;5;28;01mas\u001b[39;00m e:\n\u001b[1;32m    152\u001b[0m   filtered_tb \u001b[38;5;241m=\u001b[39m _process_traceback_frames(e\u001b[38;5;241m.\u001b[39m__traceback__)\n",
      "File \u001b[0;32m~/opt/anaconda3/lib/python3.9/site-packages/tensorflow/python/util/dispatch.py:1260\u001b[0m, in \u001b[0;36madd_dispatch_support.<locals>.decorator.<locals>.op_dispatch_handler\u001b[0;34m(*args, **kwargs)\u001b[0m\n\u001b[1;32m   1258\u001b[0m \u001b[38;5;66;03m# Fallback dispatch system (dispatch v1):\u001b[39;00m\n\u001b[1;32m   1259\u001b[0m \u001b[38;5;28;01mtry\u001b[39;00m:\n\u001b[0;32m-> 1260\u001b[0m   \u001b[38;5;28;01mreturn\u001b[39;00m \u001b[43mdispatch_target\u001b[49m\u001b[43m(\u001b[49m\u001b[38;5;241;43m*\u001b[39;49m\u001b[43margs\u001b[49m\u001b[43m,\u001b[49m\u001b[43m \u001b[49m\u001b[38;5;241;43m*\u001b[39;49m\u001b[38;5;241;43m*\u001b[39;49m\u001b[43mkwargs\u001b[49m\u001b[43m)\u001b[49m\n\u001b[1;32m   1261\u001b[0m \u001b[38;5;28;01mexcept\u001b[39;00m (\u001b[38;5;167;01mTypeError\u001b[39;00m, \u001b[38;5;167;01mValueError\u001b[39;00m):\n\u001b[1;32m   1262\u001b[0m   \u001b[38;5;66;03m# Note: convert_to_eager_tensor currently raises a ValueError, not a\u001b[39;00m\n\u001b[1;32m   1263\u001b[0m   \u001b[38;5;66;03m# TypeError, when given unexpected types.  So we need to catch both.\u001b[39;00m\n\u001b[1;32m   1264\u001b[0m   result \u001b[38;5;241m=\u001b[39m dispatch(op_dispatch_handler, args, kwargs)\n",
      "File \u001b[0;32m~/opt/anaconda3/lib/python3.9/site-packages/tensorflow/python/ops/clip_ops.py:236\u001b[0m, in \u001b[0;36mclip_by_norm\u001b[0;34m(t, clip_norm, axes, name)\u001b[0m\n\u001b[1;32m    233\u001b[0m \u001b[38;5;66;03m# Assert that the shape is compatible with the initial shape,\u001b[39;00m\n\u001b[1;32m    234\u001b[0m \u001b[38;5;66;03m# to prevent unintentional broadcasting.\u001b[39;00m\n\u001b[1;32m    235\u001b[0m values\u001b[38;5;241m.\u001b[39mshape\u001b[38;5;241m.\u001b[39massert_is_compatible_with(intermediate\u001b[38;5;241m.\u001b[39mshape)\n\u001b[0;32m--> 236\u001b[0m values_clip \u001b[38;5;241m=\u001b[39m \u001b[43marray_ops\u001b[49m\u001b[38;5;241;43m.\u001b[39;49m\u001b[43midentity\u001b[49m\u001b[43m(\u001b[49m\n\u001b[1;32m    237\u001b[0m \u001b[43m    \u001b[49m\u001b[43mintermediate\u001b[49m\u001b[43m \u001b[49m\u001b[38;5;241;43m/\u001b[39;49m\u001b[43m \u001b[49m\u001b[43mmath_ops\u001b[49m\u001b[38;5;241;43m.\u001b[39;49m\u001b[43mmaximum\u001b[49m\u001b[43m(\u001b[49m\u001b[43ml2norm\u001b[49m\u001b[43m,\u001b[49m\u001b[43m \u001b[49m\u001b[43mclip_norm\u001b[49m\u001b[43m)\u001b[49m\u001b[43m,\u001b[49m\u001b[43m \u001b[49m\u001b[43mname\u001b[49m\u001b[38;5;241;43m=\u001b[39;49m\u001b[43mname\u001b[49m\u001b[43m)\u001b[49m\n\u001b[1;32m    239\u001b[0m \u001b[38;5;28;01mif\u001b[39;00m \u001b[38;5;28misinstance\u001b[39m(t, indexed_slices\u001b[38;5;241m.\u001b[39mIndexedSlices):\n\u001b[1;32m    240\u001b[0m   \u001b[38;5;28;01mreturn\u001b[39;00m indexed_slices\u001b[38;5;241m.\u001b[39mIndexedSlices(values_clip, t\u001b[38;5;241m.\u001b[39mindices, t\u001b[38;5;241m.\u001b[39mdense_shape)\n",
      "File \u001b[0;32m~/opt/anaconda3/lib/python3.9/site-packages/tensorflow/python/ops/weak_tensor_ops.py:88\u001b[0m, in \u001b[0;36mweak_tensor_unary_op_wrapper.<locals>.wrapper\u001b[0;34m(*args, **kwargs)\u001b[0m\n\u001b[1;32m     86\u001b[0m \u001b[38;5;28;01mdef\u001b[39;00m \u001b[38;5;21mwrapper\u001b[39m(\u001b[38;5;241m*\u001b[39margs, \u001b[38;5;241m*\u001b[39m\u001b[38;5;241m*\u001b[39mkwargs):\n\u001b[1;32m     87\u001b[0m   \u001b[38;5;28;01mif\u001b[39;00m \u001b[38;5;129;01mnot\u001b[39;00m ops\u001b[38;5;241m.\u001b[39mis_auto_dtype_conversion_enabled():\n\u001b[0;32m---> 88\u001b[0m     \u001b[38;5;28;01mreturn\u001b[39;00m \u001b[43mop\u001b[49m\u001b[43m(\u001b[49m\u001b[38;5;241;43m*\u001b[39;49m\u001b[43margs\u001b[49m\u001b[43m,\u001b[49m\u001b[43m \u001b[49m\u001b[38;5;241;43m*\u001b[39;49m\u001b[38;5;241;43m*\u001b[39;49m\u001b[43mkwargs\u001b[49m\u001b[43m)\u001b[49m\n\u001b[1;32m     89\u001b[0m   bound_arguments \u001b[38;5;241m=\u001b[39m signature\u001b[38;5;241m.\u001b[39mbind(\u001b[38;5;241m*\u001b[39margs, \u001b[38;5;241m*\u001b[39m\u001b[38;5;241m*\u001b[39mkwargs)\n\u001b[1;32m     90\u001b[0m   bound_arguments\u001b[38;5;241m.\u001b[39mapply_defaults()\n",
      "File \u001b[0;32m~/opt/anaconda3/lib/python3.9/site-packages/tensorflow/python/util/traceback_utils.py:150\u001b[0m, in \u001b[0;36mfilter_traceback.<locals>.error_handler\u001b[0;34m(*args, **kwargs)\u001b[0m\n\u001b[1;32m    148\u001b[0m filtered_tb \u001b[38;5;241m=\u001b[39m \u001b[38;5;28;01mNone\u001b[39;00m\n\u001b[1;32m    149\u001b[0m \u001b[38;5;28;01mtry\u001b[39;00m:\n\u001b[0;32m--> 150\u001b[0m   \u001b[38;5;28;01mreturn\u001b[39;00m \u001b[43mfn\u001b[49m\u001b[43m(\u001b[49m\u001b[38;5;241;43m*\u001b[39;49m\u001b[43margs\u001b[49m\u001b[43m,\u001b[49m\u001b[43m \u001b[49m\u001b[38;5;241;43m*\u001b[39;49m\u001b[38;5;241;43m*\u001b[39;49m\u001b[43mkwargs\u001b[49m\u001b[43m)\u001b[49m\n\u001b[1;32m    151\u001b[0m \u001b[38;5;28;01mexcept\u001b[39;00m \u001b[38;5;167;01mException\u001b[39;00m \u001b[38;5;28;01mas\u001b[39;00m e:\n\u001b[1;32m    152\u001b[0m   filtered_tb \u001b[38;5;241m=\u001b[39m _process_traceback_frames(e\u001b[38;5;241m.\u001b[39m__traceback__)\n",
      "File \u001b[0;32m~/opt/anaconda3/lib/python3.9/site-packages/tensorflow/python/util/dispatch.py:1260\u001b[0m, in \u001b[0;36madd_dispatch_support.<locals>.decorator.<locals>.op_dispatch_handler\u001b[0;34m(*args, **kwargs)\u001b[0m\n\u001b[1;32m   1258\u001b[0m \u001b[38;5;66;03m# Fallback dispatch system (dispatch v1):\u001b[39;00m\n\u001b[1;32m   1259\u001b[0m \u001b[38;5;28;01mtry\u001b[39;00m:\n\u001b[0;32m-> 1260\u001b[0m   \u001b[38;5;28;01mreturn\u001b[39;00m \u001b[43mdispatch_target\u001b[49m\u001b[43m(\u001b[49m\u001b[38;5;241;43m*\u001b[39;49m\u001b[43margs\u001b[49m\u001b[43m,\u001b[49m\u001b[43m \u001b[49m\u001b[38;5;241;43m*\u001b[39;49m\u001b[38;5;241;43m*\u001b[39;49m\u001b[43mkwargs\u001b[49m\u001b[43m)\u001b[49m\n\u001b[1;32m   1261\u001b[0m \u001b[38;5;28;01mexcept\u001b[39;00m (\u001b[38;5;167;01mTypeError\u001b[39;00m, \u001b[38;5;167;01mValueError\u001b[39;00m):\n\u001b[1;32m   1262\u001b[0m   \u001b[38;5;66;03m# Note: convert_to_eager_tensor currently raises a ValueError, not a\u001b[39;00m\n\u001b[1;32m   1263\u001b[0m   \u001b[38;5;66;03m# TypeError, when given unexpected types.  So we need to catch both.\u001b[39;00m\n\u001b[1;32m   1264\u001b[0m   result \u001b[38;5;241m=\u001b[39m dispatch(op_dispatch_handler, args, kwargs)\n",
      "File \u001b[0;32m~/opt/anaconda3/lib/python3.9/site-packages/tensorflow/python/ops/array_ops.py:310\u001b[0m, in \u001b[0;36midentity\u001b[0;34m(input, name)\u001b[0m\n\u001b[1;32m    306\u001b[0m \u001b[38;5;28;01mif\u001b[39;00m context\u001b[38;5;241m.\u001b[39mexecuting_eagerly() \u001b[38;5;129;01mand\u001b[39;00m \u001b[38;5;129;01mnot\u001b[39;00m \u001b[38;5;28mhasattr\u001b[39m(\u001b[38;5;28minput\u001b[39m, \u001b[38;5;124m\"\u001b[39m\u001b[38;5;124mgraph\u001b[39m\u001b[38;5;124m\"\u001b[39m):\n\u001b[1;32m    307\u001b[0m   \u001b[38;5;66;03m# Make sure we get an input with handle data attached from resource\u001b[39;00m\n\u001b[1;32m    308\u001b[0m   \u001b[38;5;66;03m# variables. Variables have correct handle data when graph building.\u001b[39;00m\n\u001b[1;32m    309\u001b[0m   \u001b[38;5;28minput\u001b[39m \u001b[38;5;241m=\u001b[39m ops\u001b[38;5;241m.\u001b[39mconvert_to_tensor(\u001b[38;5;28minput\u001b[39m)\n\u001b[0;32m--> 310\u001b[0m ret \u001b[38;5;241m=\u001b[39m \u001b[43mgen_array_ops\u001b[49m\u001b[38;5;241;43m.\u001b[39;49m\u001b[43midentity\u001b[49m\u001b[43m(\u001b[49m\u001b[38;5;28;43minput\u001b[39;49m\u001b[43m,\u001b[49m\u001b[43m \u001b[49m\u001b[43mname\u001b[49m\u001b[38;5;241;43m=\u001b[39;49m\u001b[43mname\u001b[49m\u001b[43m)\u001b[49m\n\u001b[1;32m    311\u001b[0m \u001b[38;5;66;03m# Propagate handle data for happier shape inference for resource variables.\u001b[39;00m\n\u001b[1;32m    312\u001b[0m \u001b[38;5;28;01mif\u001b[39;00m \u001b[38;5;28mhasattr\u001b[39m(\u001b[38;5;28minput\u001b[39m, \u001b[38;5;124m\"\u001b[39m\u001b[38;5;124m_handle_data\u001b[39m\u001b[38;5;124m\"\u001b[39m):\n",
      "File \u001b[0;32m~/opt/anaconda3/lib/python3.9/site-packages/tensorflow/python/ops/gen_array_ops.py:4184\u001b[0m, in \u001b[0;36midentity\u001b[0;34m(input, name)\u001b[0m\n\u001b[1;32m   4182\u001b[0m \u001b[38;5;28;01mif\u001b[39;00m tld\u001b[38;5;241m.\u001b[39mis_eager:\n\u001b[1;32m   4183\u001b[0m   \u001b[38;5;28;01mtry\u001b[39;00m:\n\u001b[0;32m-> 4184\u001b[0m     _result \u001b[38;5;241m=\u001b[39m \u001b[43mpywrap_tfe\u001b[49m\u001b[38;5;241;43m.\u001b[39;49m\u001b[43mTFE_Py_FastPathExecute\u001b[49m\u001b[43m(\u001b[49m\n\u001b[1;32m   4185\u001b[0m \u001b[43m      \u001b[49m\u001b[43m_ctx\u001b[49m\u001b[43m,\u001b[49m\u001b[43m \u001b[49m\u001b[38;5;124;43m\"\u001b[39;49m\u001b[38;5;124;43mIdentity\u001b[39;49m\u001b[38;5;124;43m\"\u001b[39;49m\u001b[43m,\u001b[49m\u001b[43m \u001b[49m\u001b[43mname\u001b[49m\u001b[43m,\u001b[49m\u001b[43m \u001b[49m\u001b[38;5;28;43minput\u001b[39;49m\u001b[43m)\u001b[49m\n\u001b[1;32m   4186\u001b[0m     \u001b[38;5;28;01mreturn\u001b[39;00m _result\n\u001b[1;32m   4187\u001b[0m   \u001b[38;5;28;01mexcept\u001b[39;00m _core\u001b[38;5;241m.\u001b[39m_NotOkStatusException \u001b[38;5;28;01mas\u001b[39;00m e:\n",
      "\u001b[0;31mKeyboardInterrupt\u001b[0m: "
     ]
    }
   ],
   "source": [
    "nsteps=451\n",
    "start = time.time()\n",
    "mE, vE = run_J1J2_hypvars(wf=wf_hgru, numsteps=nsteps, systemsize=syssize, var_tol=2.0,\n",
    "                          J1_ = J1, J2_ = J2, Marshall_sign = True, \n",
    "                           numsamples = nssamples,  lr1=1e-2, lr2=1e-2, seed = 111, fname = 'results')\n",
    "finish = time.time()\n",
    "duration = finish-start\n",
    "print(f'Total time taken: {duration}')"
   ]
  }
 ],
 "metadata": {
  "kernelspec": {
   "display_name": "Python 3 (ipykernel)",
   "language": "python",
   "name": "python3"
  },
  "language_info": {
   "codemirror_mode": {
    "name": "ipython",
    "version": 3
   },
   "file_extension": ".py",
   "mimetype": "text/x-python",
   "name": "python",
   "nbconvert_exporter": "python",
   "pygments_lexer": "ipython3",
   "version": "3.9.12"
  }
 },
 "nbformat": 4,
 "nbformat_minor": 5
}
