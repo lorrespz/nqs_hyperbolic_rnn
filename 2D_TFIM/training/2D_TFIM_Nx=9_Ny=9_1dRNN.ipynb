{
 "cells": [
  {
   "cell_type": "markdown",
   "id": "bbb653aa-63e9-4bc7-8f2f-5f753a1d9a45",
   "metadata": {},
   "source": [
    "# 2d TFIM, Nx=9, Ny=9: RNN wavefunction"
   ]
  },
  {
   "cell_type": "code",
   "execution_count": 1,
   "id": "7affa059-8897-4797-b886-67902add0059",
   "metadata": {},
   "outputs": [],
   "source": [
    "import time\n",
    "import numpy as np\n",
    "import pandas as pd\n",
    "import matplotlib.pyplot as plt"
   ]
  },
  {
   "cell_type": "code",
   "execution_count": 2,
   "id": "8e6cd7bf-cb6d-4618-9631-4dc5c6f8313f",
   "metadata": {},
   "outputs": [],
   "source": [
    "import sys\n",
    "sys.path.append('../utility')\n",
    "nx=9\n",
    "ny=9"
   ]
  },
  {
   "cell_type": "markdown",
   "id": "ad4d87ce-9c95-41c8-8434-35b7bef0ab01",
   "metadata": {},
   "source": [
    "# 1D Euclidean RNN wavefunction"
   ]
  },
  {
   "cell_type": "code",
   "execution_count": 3,
   "id": "d199a7af-a3fe-4c87-9cb1-0f8d6827ba0f",
   "metadata": {},
   "outputs": [
    {
     "name": "stderr",
     "output_type": "stream",
     "text": [
      "2025-05-24 00:08:33.428738: I tensorflow/core/platform/cpu_feature_guard.cc:210] This TensorFlow binary is optimized to use available CPU instructions in performance-critical operations.\n",
      "To enable the following instructions: AVX2 FMA, in other operations, rebuild TensorFlow with the appropriate compiler flags.\n"
     ]
    }
   ],
   "source": [
    "from tfim2d_1drnn_train_loop import run_2DTFIM"
   ]
  },
  {
   "cell_type": "code",
   "execution_count": 4,
   "id": "29e02ae2",
   "metadata": {},
   "outputs": [
    {
     "name": "stdout",
     "output_type": "stream",
     "text": [
      "step: 0, loss: -0.51016, mean energy: -245.71197, varE: 128.13189\n",
      "step: 10, loss: 3.40228, mean energy: -248.40427, varE: 102.59118\n",
      "step: 20, loss: -1.42331, mean energy: -251.28219, varE: 61.56010\n",
      "step: 30, loss: -1.51005, mean energy: -252.47683, varE: 50.81019\n",
      "step: 40, loss: 2.12135, mean energy: -249.93183, varE: 64.59997\n",
      "step: 50, loss: -3.95401, mean energy: -251.86409, varE: 40.10135\n",
      "step: 60, loss: 5.59662, mean energy: -252.13659, varE: 32.67581\n",
      "step: 70, loss: -4.31528, mean energy: -251.19209, varE: 37.93549\n",
      "step: 80, loss: -5.45262, mean energy: -250.49800, varE: 45.61074\n",
      "step: 90, loss: 1.13526, mean energy: -252.99065, varE: 43.15196\n",
      "step: 100, loss: -2.76128, mean energy: -253.02993, varE: 33.86696\n",
      "Best model saved at epoch 104 with best E=-252.91547, varE=26.83528\n",
      "step: 110, loss: 4.50165, mean energy: -252.38361, varE: 34.49164\n",
      "step: 120, loss: -4.32775, mean energy: -254.19025, varE: 56.28700\n",
      "Best model saved at epoch 126 with best E=-253.62618, varE=26.52008\n",
      "step: 130, loss: -1.23846, mean energy: -252.57292, varE: 30.15422\n",
      "step: 140, loss: 2.02564, mean energy: -253.93084, varE: 31.07938\n",
      "step: 150, loss: -3.16274, mean energy: -253.89479, varE: 49.38417\n",
      "step: 160, loss: -0.72198, mean energy: -254.00874, varE: 48.77507\n",
      "Best model saved at epoch 163 with best E=-254.03467, varE=26.30722\n",
      "step: 170, loss: -0.12460, mean energy: -253.41049, varE: 31.96695\n",
      "step: 180, loss: 1.15156, mean energy: -253.72248, varE: 38.60327\n",
      "Best model saved at epoch 184 with best E=-254.40880, varE=27.25413\n",
      "step: 190, loss: 1.61747, mean energy: -254.09126, varE: 37.25967\n",
      "Best model saved at epoch 196 with best E=-254.56774, varE=21.78164\n",
      "Best model saved at epoch 197 with best E=-255.08307, varE=23.55799\n",
      "step: 200, loss: -2.34949, mean energy: -253.99481, varE: 26.70007\n",
      "step: 210, loss: 3.66471, mean energy: -254.22795, varE: 38.38702\n",
      "step: 220, loss: 4.21435, mean energy: -254.19386, varE: 31.35962\n",
      "step: 230, loss: 0.72923, mean energy: -253.77588, varE: 34.19283\n",
      "step: 240, loss: -1.23806, mean energy: -253.54279, varE: 38.25794\n",
      "step: 250, loss: 1.70413, mean energy: -253.36130, varE: 37.04802\n",
      "step: 260, loss: -0.03120, mean energy: -253.47043, varE: 23.18184\n",
      "Best model saved at epoch 262 with best E=-255.21922, varE=26.28941\n",
      "Best model saved at epoch 269 with best E=-255.26298, varE=20.24422\n",
      "step: 270, loss: -3.89306, mean energy: -253.70742, varE: 31.72329\n",
      "step: 280, loss: -1.92190, mean energy: -254.15802, varE: 29.73826\n",
      "step: 290, loss: 0.21941, mean energy: -255.55698, varE: 33.64705\n",
      "step: 300, loss: 5.33230, mean energy: -253.48112, varE: 31.40467\n",
      "Best model saved at epoch 308 with best E=-255.44117, varE=21.79632\n",
      "step: 310, loss: -2.37062, mean energy: -253.93386, varE: 25.34199\n",
      "step: 320, loss: 0.98520, mean energy: -253.59259, varE: 26.81704\n",
      "Best model saved at epoch 324 with best E=-255.64838, varE=19.37323\n",
      "step: 330, loss: -3.40843, mean energy: -252.82015, varE: 23.92551\n",
      "step: 340, loss: 1.06966, mean energy: -253.96559, varE: 30.40060\n",
      "step: 350, loss: -3.14307, mean energy: -253.31019, varE: 40.15000\n",
      "Training took 2.651 hours\n"
     ]
    }
   ],
   "source": [
    "#DMRG results:-256.55347963709767\n",
    "t0 = time.time()\n",
    "RNNEnergy, varRNNEnergy = run_2DTFIM(numsteps = 351, Nx = nx, Ny = ny,\n",
    "                                     Bx = 3, cell = 'EuclGRU', num_units = 50, numsamples = 50, \n",
    "                                     learningrate = 1e-2, var_tol=28.0, seed = 111)\n",
    "t1 = time.time()\n",
    "print(f'Training took {np.round((t1-t0)/3600,3)} hours')"
   ]
  },
  {
   "cell_type": "markdown",
   "id": "bfcb291d-b23c-4daf-82c3-6e1e6f852f73",
   "metadata": {},
   "source": [
    "# 1D hyperbolic GRU wavefunction"
   ]
  },
  {
   "cell_type": "code",
   "execution_count": 5,
   "id": "2abed6cf-cc47-40c3-bb56-f6fca9d01d83",
   "metadata": {},
   "outputs": [],
   "source": [
    "from tfim2d_1drnn_train_loop import run_2DTFIM_hyp"
   ]
  },
  {
   "cell_type": "code",
   "execution_count": 6,
   "id": "24dae8bd",
   "metadata": {},
   "outputs": [
    {
     "name": "stdout",
     "output_type": "stream",
     "text": [
      "step: 0, loss: -0.30588, mean energy: -241.37277, varE: 87.86110\n",
      "step: 10, loss: 2.52603, mean energy: -248.58428, varE: 71.70976\n",
      "step: 20, loss: 4.66833, mean energy: -251.86162, varE: 46.35461\n",
      "step: 30, loss: 8.90820, mean energy: -252.78627, varE: 62.29004\n",
      "step: 40, loss: 5.17102, mean energy: -249.97877, varE: 55.87772\n",
      "step: 50, loss: 3.64720, mean energy: -253.19119, varE: 55.23134\n",
      "step: 60, loss: -0.55638, mean energy: -253.66457, varE: 42.98892\n",
      "step: 70, loss: 1.22180, mean energy: -251.66647, varE: 58.45471\n",
      "step: 80, loss: -1.58199, mean energy: -252.05347, varE: 41.93660\n",
      "step: 90, loss: 0.97012, mean energy: -252.79295, varE: 41.18383\n",
      "step: 100, loss: 3.29697, mean energy: -253.18459, varE: 53.87741\n",
      "step: 110, loss: 7.10863, mean energy: -252.80666, varE: 35.70465\n",
      "step: 120, loss: 3.06788, mean energy: -254.02900, varE: 35.54804\n",
      "step: 130, loss: -1.11477, mean energy: -252.94875, varE: 34.85239\n",
      "step: 140, loss: -1.84032, mean energy: -255.02729, varE: 26.73623\n",
      "step: 150, loss: 0.84179, mean energy: -253.60014, varE: 30.29667\n",
      "Best model saved at epoch 151 with best E=-253.15333, varE=21.31989\n",
      "step: 160, loss: -2.71168, mean energy: -254.50886, varE: 27.97008\n",
      "step: 170, loss: 1.21403, mean energy: -254.53429, varE: 37.02776\n",
      "Best model saved at epoch 177 with best E=-253.27297, varE=23.36749\n",
      "Best model saved at epoch 180 with best E=-254.13053, varE=24.49762\n",
      "step: 180, loss: -4.62120, mean energy: -254.13053, varE: 24.49762\n",
      "step: 190, loss: -1.17879, mean energy: -253.60184, varE: 43.78860\n",
      "Best model saved at epoch 194 with best E=-254.97562, varE=20.53597\n",
      "step: 200, loss: -1.97045, mean energy: -253.58167, varE: 27.94121\n",
      "Best model saved at epoch 203 with best E=-255.08808, varE=23.34166\n",
      "Best model saved at epoch 210 with best E=-255.54352, varE=21.91274\n",
      "step: 210, loss: 1.76692, mean energy: -255.54352, varE: 21.91274\n",
      "step: 220, loss: -0.18017, mean energy: -254.90833, varE: 25.43586\n",
      "step: 230, loss: -1.20893, mean energy: -254.53331, varE: 22.46704\n",
      "step: 240, loss: -1.71637, mean energy: -253.89131, varE: 27.26787\n",
      "step: 250, loss: -1.05644, mean energy: -253.23429, varE: 36.70337\n",
      "step: 260, loss: -1.66513, mean energy: -255.60507, varE: 28.86776\n",
      "step: 270, loss: -1.90599, mean energy: -254.88162, varE: 25.46982\n",
      "step: 280, loss: 1.14825, mean energy: -253.26720, varE: 35.69405\n",
      "step: 290, loss: -0.26308, mean energy: -256.13083, varE: 31.44426\n",
      "step: 300, loss: 2.24217, mean energy: -255.18453, varE: 35.92743\n",
      "step: 310, loss: 1.72977, mean energy: -253.90996, varE: 27.12511\n",
      "step: 320, loss: -1.30740, mean energy: -254.13900, varE: 26.27100\n",
      "step: 330, loss: -1.07830, mean energy: -254.40070, varE: 22.05000\n",
      "Best model saved at epoch 337 with best E=-256.03718, varE=21.03119\n",
      "step: 340, loss: 1.86488, mean energy: -254.22546, varE: 28.90793\n",
      "step: 350, loss: -2.12018, mean energy: -254.40645, varE: 18.59581\n",
      "Training took 31.85 hours\n"
     ]
    }
   ],
   "source": [
    "#DMRG results:-256.55347963709767\n",
    "t0 = time.time()\n",
    "RNNEnergy, varRNNEnergy = run_2DTFIM_hyp(numsteps = 351, Nx = nx, Ny = ny,\n",
    "                                     Bx = 3, cell = 'HypGRU', num_units = 50, numsamples = 50, \n",
    "                                    lr1=1e-2, lr2 =1e-2, var_tol =25.0, seed = 111)\n",
    "t1 = time.time()\n",
    "print(f'Training took {np.round((t1-t0)/3600,3)} hours')"
   ]
  }
 ],
 "metadata": {
  "kernelspec": {
   "display_name": "Python 3 (ipykernel)",
   "language": "python",
   "name": "python3"
  },
  "language_info": {
   "codemirror_mode": {
    "name": "ipython",
    "version": 3
   },
   "file_extension": ".py",
   "mimetype": "text/x-python",
   "name": "python",
   "nbconvert_exporter": "python",
   "pygments_lexer": "ipython3",
   "version": "3.12.7"
  }
 },
 "nbformat": 4,
 "nbformat_minor": 5
}
