{
 "cells": [
  {
   "cell_type": "markdown",
   "id": "3a1ca926",
   "metadata": {},
   "source": [
    "# 1D Heisenberg J1J2J3 model: DMRG\n",
    "\n",
    "In this notebook, we use DMRG to calculate the ground state energies of the 1D Heisenberg J1J2J3 model with N=30 spins, J1 = 1.0, (J2, J3) = (0.0, 0.5), (0.2, 0.2), (0.2, 0.5), (0.5, 0.2)"
   ]
  },
  {
   "cell_type": "code",
   "execution_count": 1,
   "id": "e18ca852",
   "metadata": {},
   "outputs": [],
   "source": [
    "from tenpy.models.spins import SpinModel\n",
    "from tenpy.networks.mps import MPS\n",
    "from tenpy.algorithms import dmrg\n",
    "from tenpy.models.lattice import Chain\n",
    "from tenpy.networks.site import SpinHalfSite\n",
    "from tenpy.models.model import CouplingMPOModel\n",
    "\n",
    "import warnings\n",
    "warnings.filterwarnings(\"ignore\")"
   ]
  },
  {
   "cell_type": "markdown",
   "id": "6dd10dfd",
   "metadata": {},
   "source": [
    "https://tenpy.readthedocs.io/en/latest/reference/tenpy.models.model.CouplingMPOModel.html"
   ]
  },
  {
   "cell_type": "code",
   "execution_count": 2,
   "id": "1c7479ea",
   "metadata": {},
   "outputs": [],
   "source": [
    "def define_model_params(N,j1,j2, j3, bc_MPSS, bc_xx):\n",
    "    #bc_xx is either 'open' or 'periodic'\n",
    "    #bc_MPSS is either 'finite' or 'infinite'\n",
    "    model_params = {\n",
    "                'conserve': None,\n",
    "                'Lx': N,\n",
    "                'J1': j1,\n",
    "                'J2': j2,\n",
    "                'J3': j3,\n",
    "                'bc_MPS': bc_MPSS, \n",
    "                'bc_x': bc_xx, \n",
    "                }\n",
    "    return model_params"
   ]
  },
  {
   "cell_type": "code",
   "execution_count": 3,
   "id": "1fefb9cf",
   "metadata": {},
   "outputs": [],
   "source": [
    "class MyModel(CouplingMPOModel):     \n",
    "    def init_sites(self, model_params):\n",
    "        site = SpinHalfSite(conserve='None')\n",
    "        return site\n",
    "    \n",
    "    def init_lattice(self, model_params):\n",
    "        Lx =  model_params.get('Lx',10)\n",
    "        bc_x = model_params.get('bc_x','open')\n",
    "        bc_MPS = model_params.get('bc_MPS', 'finite')\n",
    "        lattice = Chain(Lx, site=self.init_sites(model_params), bc_MPS=bc_MPS)\n",
    "        return lattice\n",
    "    def init_terms(self, model_params):\n",
    "        J1 = model_params.get('J1', 1.)\n",
    "        J2 = model_params.get('J2', 0.2)\n",
    "        J3 = model_params.get('J3', 0.2)\n",
    "        for u1, u2, dx in self.lat.pairs['nearest_neighbors']:\n",
    "            self.add_coupling(J1, u1, 'Sz', u2, 'Sz', dx)\n",
    "            self.add_coupling(J1, u1, 'Sy', u2, 'Sy', dx)\n",
    "            self.add_coupling(J1, u1, 'Sx', u2, 'Sx', dx)\n",
    "        for u1, u2, dx in self.lat.pairs['next_nearest_neighbors']:\n",
    "            self.add_coupling(J2, u1, 'Sz', u2, 'Sz', dx)\n",
    "            self.add_coupling(J2, u1, 'Sy', u2, 'Sy', dx)\n",
    "            self.add_coupling(J2, u1, 'Sx', u2, 'Sx', dx)\n",
    "        for u1, u2, dx in self.lat.pairs['next_next_nearest_neighbors']:\n",
    "            self.add_coupling(J3, u1, 'Sz', u2, 'Sz', dx)\n",
    "            self.add_coupling(J3, u1, 'Sy', u2, 'Sy', dx)\n",
    "            self.add_coupling(J3, u1, 'Sx', u2, 'Sx', dx)\n"
   ]
  },
  {
   "cell_type": "code",
   "execution_count": 4,
   "id": "0091988d",
   "metadata": {},
   "outputs": [],
   "source": [
    "dmrg_params = {\n",
    "    'mixer': True,  \n",
    "    'max_E_err': 1.e-10,\n",
    "    'trunc_params': {\n",
    "        'chi_max': 100,\n",
    "        'svd_min': 1.e-10,\n",
    "    },\n",
    "    'verbose': True,\n",
    "}\n"
   ]
  },
  {
   "cell_type": "code",
   "execution_count": 5,
   "id": "ff88ccb9",
   "metadata": {},
   "outputs": [],
   "source": [
    "#test_model = MyModel(model_params)\n",
    "#test_model.init_lattice(model_params)\n",
    "#test_model.lat.pairs['nearest_neighbors']"
   ]
  },
  {
   "cell_type": "code",
   "execution_count": 5,
   "id": "5f47f6b2",
   "metadata": {},
   "outputs": [],
   "source": [
    "def run_dmrg(N, j1, j2, j3, bc_MPSS, bc_xx):\n",
    "    model_params = define_model_params(N, j1, j2, j3, bc_MPSS, bc_xx)\n",
    "    M = MyModel(model_params)\n",
    "    lattice = M.init_lattice(model_params)\n",
    "    initial_state = ['up'] * N # initial state\n",
    "    psi = MPS.from_product_state(lattice.mps_sites(), initial_state, bc=lattice.bc_MPS)\n",
    "\n",
    "    eng = dmrg.TwoSiteDMRGEngine(psi, M, dmrg_params)\n",
    "    E,psi = eng.run() # the main work; modifies psi in place\n",
    "    return E, psi"
   ]
  },
  {
   "cell_type": "markdown",
   "id": "5af04e09-3382-4597-a37d-9a7f1b81e1dc",
   "metadata": {},
   "source": [
    "# N= 30"
   ]
  },
  {
   "cell_type": "code",
   "execution_count": 6,
   "id": "cc1c7db1-dec5-48d2-9e7c-717eb7deff80",
   "metadata": {},
   "outputs": [
    {
     "name": "stdout",
     "output_type": "stream",
     "text": [
      "ground state energy =  -15.890276367036542\n"
     ]
    }
   ],
   "source": [
    "E30, psi30 = run_dmrg(30,1.,0.0, 0.5, 'finite', 'open')\n",
    "print(\"ground state energy = \", E30)"
   ]
  },
  {
   "cell_type": "code",
   "execution_count": 7,
   "id": "7a6624a2-6bd0-476c-8982-b285d0148d75",
   "metadata": {},
   "outputs": [
    {
     "name": "stdout",
     "output_type": "stream",
     "text": [
      "ground state energy =  -12.943044354682026\n"
     ]
    }
   ],
   "source": [
    "E30, psi30 = run_dmrg(30,1.,0.2, 0.2, 'finite', 'open')\n",
    "print(\"ground state energy = \", E30)"
   ]
  },
  {
   "cell_type": "code",
   "execution_count": 10,
   "id": "01893b1a-42d6-474e-bfd6-f73d81e04bfa",
   "metadata": {},
   "outputs": [
    {
     "name": "stdout",
     "output_type": "stream",
     "text": [
      "ground state energy =  -14.640825798271765\n"
     ]
    }
   ],
   "source": [
    "E30, psi30 = run_dmrg(30,1.,0.2, 0.5, 'finite', 'open')\n",
    "print(\"ground state energy = \", E30)"
   ]
  },
  {
   "cell_type": "code",
   "execution_count": 8,
   "id": "4d7ce716-af46-40ac-97ef-401852662038",
   "metadata": {},
   "outputs": [
    {
     "name": "stdout",
     "output_type": "stream",
     "text": [
      "ground state energy =  -11.528738924487726\n"
     ]
    }
   ],
   "source": [
    "E30, psi30 = run_dmrg(30,1.,0.5, 0.2, 'finite', 'open')\n",
    "print(\"ground state energy = \", E30)"
   ]
  },
  {
   "cell_type": "code",
   "execution_count": 12,
   "id": "9260cc01-859d-4aab-aa23-57d73f476478",
   "metadata": {},
   "outputs": [
    {
     "name": "stdout",
     "output_type": "stream",
     "text": [
      "ground state energy =  -12.910087313000062\n"
     ]
    }
   ],
   "source": [
    "E30, psi30 = run_dmrg(30,1.,0.25, 0.25, 'finite', 'open')\n",
    "print(\"ground state energy = \", E30)"
   ]
  }
 ],
 "metadata": {
  "kernelspec": {
   "display_name": "Python 3 (ipykernel)",
   "language": "python",
   "name": "python3"
  },
  "language_info": {
   "codemirror_mode": {
    "name": "ipython",
    "version": 3
   },
   "file_extension": ".py",
   "mimetype": "text/x-python",
   "name": "python",
   "nbconvert_exporter": "python",
   "pygments_lexer": "ipython3",
   "version": "3.12.7"
  }
 },
 "nbformat": 4,
 "nbformat_minor": 5
}
