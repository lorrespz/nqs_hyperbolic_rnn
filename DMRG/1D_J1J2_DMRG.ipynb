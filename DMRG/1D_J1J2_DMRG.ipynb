{
 "cells": [
  {
   "cell_type": "markdown",
   "id": "3a1ca926",
   "metadata": {},
   "source": [
    "# 1D Heisenberg J1J2 model: DMRG\n",
    "\n",
    "In this notebook, we use DMRG to calculate the ground state energies of the 1D Heisenberg J1J2 model with N=50 and N=100 spins, with J1 = 1.0 and J2 = 0.0, 0.2, 0.5, 0.8. \n",
    "\n",
    "Some useful links:\n",
    "- https://en.wikipedia.org/wiki/J1_J2_model\n",
    "- https://en.wikipedia.org/wiki/Quantum_Heisenberg_model\n",
    "- https://en.wikipedia.org/wiki/Density_matrix_renormalization_group#Example:_Quantum_Heisenberg_model\n",
    "- https://tenpy.readthedocs.io/en/latest/reference/tenpy.models.html\n",
    "- https://tenpy.readthedocs.io/en/latest/intro/model.html\n",
    "- https://tenpy.johannes-hauschild.de/viewtopic.php?t=446"
   ]
  },
  {
   "cell_type": "code",
   "execution_count": 2,
   "id": "4c32d5d2-b55d-42cd-8784-e79f0380ae36",
   "metadata": {},
   "outputs": [],
   "source": [
    "import warnings\n",
    "warnings.filterwarnings('ignore')"
   ]
  },
  {
   "cell_type": "code",
   "execution_count": 3,
   "id": "e18ca852",
   "metadata": {},
   "outputs": [],
   "source": [
    "from tenpy.models.spins import SpinModel\n",
    "from tenpy.networks.mps import MPS\n",
    "from tenpy.algorithms import dmrg\n",
    "from tenpy.models.lattice import Chain\n",
    "from tenpy.networks.site import SpinHalfSite\n",
    "from tenpy.models.model import CouplingMPOModel"
   ]
  },
  {
   "cell_type": "markdown",
   "id": "6dd10dfd",
   "metadata": {},
   "source": [
    "https://tenpy.readthedocs.io/en/latest/reference/tenpy.models.model.CouplingMPOModel.html"
   ]
  },
  {
   "cell_type": "code",
   "execution_count": 4,
   "id": "1c7479ea",
   "metadata": {},
   "outputs": [],
   "source": [
    "def define_model_params(N,j1,j2, bc_MPSS, bc_xx):\n",
    "    #bc_xx is either 'open' or 'periodic'\n",
    "    #bc_MPSS is either 'finite' or 'infinite'\n",
    "    model_params = {\n",
    "                'conserve': None,\n",
    "                'Lx': N,\n",
    "                'J1': j1,\n",
    "                'J2': j2,\n",
    "                'bc_MPS': bc_MPSS, \n",
    "                'bc_x': bc_xx, \n",
    "                }\n",
    "    return model_params"
   ]
  },
  {
   "cell_type": "code",
   "execution_count": 5,
   "id": "1fefb9cf",
   "metadata": {},
   "outputs": [],
   "source": [
    "class MyModel(CouplingMPOModel):     \n",
    "    def init_sites(self, model_params):\n",
    "        site = SpinHalfSite(conserve='None')\n",
    "        return site\n",
    "    \n",
    "    def init_lattice(self, model_params):\n",
    "        Lx =  model_params.get('Lx',10)\n",
    "        bc_x = model_params.get('bc_x','open')\n",
    "        bc_MPS = model_params.get('bc_MPS', 'finite')\n",
    "        lattice = Chain(Lx, site=self.init_sites(model_params), bc_MPS=bc_MPS)\n",
    "        return lattice\n",
    "    def init_terms(self, model_params):\n",
    "        J1 = model_params.get('J1', 1.)\n",
    "        J2 = model_params.get('J2', 0.2)\n",
    "        for u1, u2, dx in self.lat.pairs['nearest_neighbors']:\n",
    "            self.add_coupling(J1, u1, 'Sz', u2, 'Sz', dx)\n",
    "            self.add_coupling(J1, u1, 'Sy', u2, 'Sy', dx)\n",
    "            self.add_coupling(J1, u1, 'Sx', u2, 'Sx', dx)\n",
    "        for u1, u2, dx in self.lat.pairs['next_nearest_neighbors']:\n",
    "            self.add_coupling(J2, u1, 'Sz', u2, 'Sz', dx)\n",
    "            self.add_coupling(J2, u1, 'Sy', u2, 'Sy', dx)\n",
    "            self.add_coupling(J2, u1, 'Sx', u2, 'Sx', dx)\n"
   ]
  },
  {
   "cell_type": "code",
   "execution_count": 6,
   "id": "0091988d",
   "metadata": {},
   "outputs": [],
   "source": [
    "dmrg_params = {\n",
    "    'mixer': True,  \n",
    "    'max_E_err': 1.e-10,\n",
    "    'trunc_params': {\n",
    "        'chi_max': 100,\n",
    "        'svd_min': 1.e-10,\n",
    "    },\n",
    "    'verbose': True,\n",
    "}\n"
   ]
  },
  {
   "cell_type": "code",
   "execution_count": 5,
   "id": "ff88ccb9",
   "metadata": {},
   "outputs": [],
   "source": [
    "#test_model = MyModel(model_params)\n",
    "#test_model.init_lattice(model_params)\n",
    "#test_model.lat.pairs['nearest_neighbors']"
   ]
  },
  {
   "cell_type": "code",
   "execution_count": 7,
   "id": "5f47f6b2",
   "metadata": {},
   "outputs": [],
   "source": [
    "def run_dmrg(N, j1, j2, bc_MPSS, bc_xx):\n",
    "    model_params = define_model_params(N, j1, j2, bc_MPSS, bc_xx)\n",
    "    M = MyModel(model_params)\n",
    "    lattice = M.init_lattice(model_params)\n",
    "    initial_state = ['up'] * N # initial state\n",
    "    psi = MPS.from_product_state(lattice.mps_sites(), initial_state, bc=lattice.bc_MPS)\n",
    "\n",
    "    eng = dmrg.TwoSiteDMRGEngine(psi, M, dmrg_params)\n",
    "    E,psi = eng.run() # the main work; modifies psi in place\n",
    "    return E, psi"
   ]
  },
  {
   "cell_type": "markdown",
   "id": "e49cbf8e",
   "metadata": {},
   "source": [
    "# N=50"
   ]
  },
  {
   "cell_type": "code",
   "execution_count": 8,
   "id": "fc6d7fb7",
   "metadata": {},
   "outputs": [
    {
     "name": "stdout",
     "output_type": "stream",
     "text": [
      "ground state energy =  -21.972110281116198\n"
     ]
    }
   ],
   "source": [
    "E50, psi50 = run_dmrg(50,1.,0.0, 'finite', 'open')\n",
    "print(\"ground state energy = \", E50)"
   ]
  },
  {
   "cell_type": "code",
   "execution_count": 9,
   "id": "c9f9867f",
   "metadata": {},
   "outputs": [
    {
     "name": "stdout",
     "output_type": "stream",
     "text": [
      "ground state energy =  -20.314982335144908\n"
     ]
    }
   ],
   "source": [
    "E50, psi50 = run_dmrg(50,1.,0.2, 'finite', 'open')\n",
    "print(\"ground state energy = \", E50)"
   ]
  },
  {
   "cell_type": "code",
   "execution_count": 10,
   "id": "1297ea40",
   "metadata": {},
   "outputs": [
    {
     "name": "stdout",
     "output_type": "stream",
     "text": [
      "ground state energy =  -18.75000000000001\n"
     ]
    }
   ],
   "source": [
    "E50, psi50 = run_dmrg(50,1.,0.5, 'finite', 'open')\n",
    "print(\"ground state energy = \", E50)"
   ]
  },
  {
   "cell_type": "code",
   "execution_count": 11,
   "id": "e6654d4b",
   "metadata": {},
   "outputs": [
    {
     "name": "stdout",
     "output_type": "stream",
     "text": [
      "ground state energy =  -20.98414964797433\n"
     ]
    }
   ],
   "source": [
    "E50, psi50 = run_dmrg(50,1.,0.8, 'finite', 'open')\n",
    "print(\"ground state energy = \", E50)"
   ]
  },
  {
   "cell_type": "markdown",
   "id": "28a18e38",
   "metadata": {},
   "source": [
    "## N=100"
   ]
  },
  {
   "cell_type": "code",
   "execution_count": 12,
   "id": "630b15fd",
   "metadata": {},
   "outputs": [
    {
     "name": "stdout",
     "output_type": "stream",
     "text": [
      "ground state energy =  -40.73881904063248\n"
     ]
    }
   ],
   "source": [
    "E100, psi100 = run_dmrg(100,1.,0.2, 'finite', 'open')\n",
    "print(\"ground state energy = \", E100)"
   ]
  },
  {
   "cell_type": "code",
   "execution_count": 13,
   "id": "f0f090cc",
   "metadata": {},
   "outputs": [
    {
     "name": "stdout",
     "output_type": "stream",
     "text": [
      "ground state energy =  -37.50000000000013\n"
     ]
    }
   ],
   "source": [
    "E100b, psi100b = run_dmrg(100,1.,0.5, 'finite', 'open')\n",
    "print(\"ground state energy = \", E100b)"
   ]
  },
  {
   "cell_type": "code",
   "execution_count": 14,
   "id": "eecf86e6",
   "metadata": {},
   "outputs": [
    {
     "name": "stdout",
     "output_type": "stream",
     "text": [
      "ground state energy =  -44.12773986967251\n"
     ]
    }
   ],
   "source": [
    "E100c, psi100c = run_dmrg(100,1.,0., 'finite', 'open')\n",
    "print(\"ground state energy = \", E100c)"
   ]
  },
  {
   "cell_type": "code",
   "execution_count": 15,
   "id": "480000aa",
   "metadata": {},
   "outputs": [
    {
     "name": "stdout",
     "output_type": "stream",
     "text": [
      "ground state energy =  -42.07006297371643\n"
     ]
    }
   ],
   "source": [
    "E100d, psi100d = run_dmrg(100,1.,0.8, 'finite', 'open')\n",
    "print(\"ground state energy = \", E100d)"
   ]
  }
 ],
 "metadata": {
  "kernelspec": {
   "display_name": "Python 3 (ipykernel)",
   "language": "python",
   "name": "python3"
  },
  "language_info": {
   "codemirror_mode": {
    "name": "ipython",
    "version": 3
   },
   "file_extension": ".py",
   "mimetype": "text/x-python",
   "name": "python",
   "nbconvert_exporter": "python",
   "pygments_lexer": "ipython3",
   "version": "3.12.7"
  }
 },
 "nbformat": 4,
 "nbformat_minor": 5
}
