{
 "cells": [
  {
   "cell_type": "markdown",
   "id": "6143a770",
   "metadata": {},
   "source": [
    "# 2D TFIM DMRG\n",
    "\n",
    "`pip install physics-tenpy`\n",
    "\n",
    "https://tenpy.readthedocs.io/en/latest/reference/tenpy.models.tf_ising.TFIModel.html\n",
    "\n",
    "https://tenpy.readthedocs.io/en/latest/intro/model.html\n",
    "\n",
    "DMRG\n",
    "https://tenpy.readthedocs.io/en/latest/reference/tenpy.algorithms.dmrg.html\n",
    "\n",
    "https://tenpy.readthedocs.io/en/latest/reference/tenpy.algorithms.dmrg.TwoSiteDMRGEngine.html#tenpy.algorithms.dmrg.TwoSiteDMRGEngine"
   ]
  },
  {
   "cell_type": "code",
   "execution_count": 2,
   "id": "5481478e",
   "metadata": {},
   "outputs": [],
   "source": [
    "#pip install physics-tenpy\n",
    "import tenpy\n",
    "from tenpy.models.tf_ising import TFIModel\n",
    "from tenpy.algorithms.dmrg import TwoSiteDMRGEngine\n",
    "from tenpy.models.lattice import Square\n",
    "from tenpy.networks.mps import MPS\n",
    "import warnings\n",
    "warnings.filterwarnings('ignore')"
   ]
  },
  {
   "cell_type": "code",
   "execution_count": 3,
   "id": "d897b10e",
   "metadata": {},
   "outputs": [],
   "source": [
    "import numpy as np\n",
    "import scipy\n",
    "import matplotlib.pyplot as plt\n",
    "np.set_printoptions(precision=5, suppress=True, linewidth=120)"
   ]
  },
  {
   "cell_type": "code",
   "execution_count": 4,
   "id": "8fa8b1f7",
   "metadata": {},
   "outputs": [],
   "source": [
    "dmrg_params = {\n",
    "    'mixer': True,\n",
    "    'trunc_params': {'chi_max': 100,\n",
    "                     'svd_min': 1.e-8},\n",
    "    'max_E_err': 1.e-8,\n",
    "    'max_S_err': 1.e-7,\n",
    "    'N_sweeps_check': 4,\n",
    "    'max_sweeps':24,\n",
    "    'verbose': True,\n",
    "}\n",
    "\n",
    "def define_model_params(Lx, Ly, J, g):\n",
    "    #bc_xx is either 'open' or 'periodic'\n",
    "    #bc_MPSS is either 'finite' or 'infinite'\n",
    "    model_params = {\n",
    "        'lattice': Square,\n",
    "        'Lx': Lx, 'Ly': Ly, # Lx,Ly is set below\n",
    "        'J': J , 'g': g,  # critical\n",
    "        'bc_MPS': \"finite\",\n",
    "         'bc_x': 'open', 'bc_y': 'open',\n",
    "        'conserve': None,\n",
    "        'verbose': True,\n",
    "}\n",
    "    return model_params\n",
    "\n"
   ]
  },
  {
   "cell_type": "code",
   "execution_count": 5,
   "id": "fce32764",
   "metadata": {},
   "outputs": [],
   "source": [
    "def run_DMRG(Lx, Ly, J, g):\n",
    "    print(\"=\"*80)\n",
    "    model_params = define_model_params(Lx, Ly, J, g)\n",
    "    M = TFIModel(model_params)\n",
    "    #psi = MPS.from_product_state(M.lat.mps_sites(), p_state=[['up']], bc=M.lat.bc_MPS)\n",
    "    psi = MPS.from_lat_product_state(M.lat, p_state = [[['up']]])\n",
    "    eng = TwoSiteDMRGEngine(psi, M, dmrg_params)\n",
    "    E0, psi = eng.run()\n",
    "\n",
    "    print(f\"after first DMRG run: E= {E0:.10f}\")\n",
    "    print(\"max chi: \", max(psi.chi))\n",
    "\n",
    "    return {'psi': psi,\n",
    "            'model': M,\n",
    "            'E0': E0}\n",
    "    print(\"=\"*80)"
   ]
  },
  {
   "cell_type": "markdown",
   "id": "f45d4543",
   "metadata": {},
   "source": [
    "# Ly = 1: 1D model"
   ]
  },
  {
   "cell_type": "code",
   "execution_count": 12,
   "id": "1ece1fbc",
   "metadata": {},
   "outputs": [
    {
     "name": "stdout",
     "output_type": "stream",
     "text": [
      "================================================================================\n",
      "after first DMRG run: E= -25.1077971116\n",
      "max chi:  23\n"
     ]
    },
    {
     "data": {
      "text/plain": [
       "{'psi': <tenpy.networks.mps.MPS at 0x1554d1310>,\n",
       " 'model': <tenpy.models.tf_ising.TFIModel at 0x1555b4550>,\n",
       " 'E0': -25.107797111623793}"
      ]
     },
     "execution_count": 12,
     "metadata": {},
     "output_type": "execute_result"
    }
   ],
   "source": [
    "#Ly = 1: 1D model\n",
    "run_DMRG(Lx=20, Ly=1, J=1, g=1)"
   ]
  },
  {
   "cell_type": "markdown",
   "id": "e957084e",
   "metadata": {},
   "source": [
    "# 2D model: Ly >1"
   ]
  },
  {
   "cell_type": "code",
   "execution_count": 11,
   "id": "eebeb770",
   "metadata": {},
   "outputs": [
    {
     "name": "stdout",
     "output_type": "stream",
     "text": [
      "================================================================================\n",
      "after first DMRG run: E= -50.1866238828\n",
      "max chi:  100\n"
     ]
    },
    {
     "data": {
      "text/plain": [
       "{'psi': <tenpy.networks.mps.MPS at 0x1554d25d0>,\n",
       " 'model': <tenpy.models.tf_ising.TFIModel at 0x155455c10>,\n",
       " 'E0': -50.18662388277746}"
      ]
     },
     "execution_count": 11,
     "metadata": {},
     "output_type": "execute_result"
    }
   ],
   "source": [
    "run_DMRG(Lx = 4, Ly = 4, J = 1, g=3)"
   ]
  },
  {
   "cell_type": "code",
   "execution_count": 9,
   "id": "d4eeac01",
   "metadata": {},
   "outputs": [
    {
     "name": "stdout",
     "output_type": "stream",
     "text": [
      "================================================================================\n",
      "after first DMRG run: E= -78.6856768498\n",
      "max chi:  100\n"
     ]
    },
    {
     "data": {
      "text/plain": [
       "{'psi': <tenpy.networks.mps.MPS at 0x155509dd0>,\n",
       " 'model': <tenpy.models.tf_ising.TFIModel at 0x155258f90>,\n",
       " 'E0': -78.68567684975105}"
      ]
     },
     "execution_count": 9,
     "metadata": {},
     "output_type": "execute_result"
    }
   ],
   "source": [
    "run_DMRG(Lx = 5, Ly = 5, J = 1, g=3)"
   ]
  },
  {
   "cell_type": "code",
   "execution_count": 10,
   "id": "1f0eff56-40b5-46f6-b0fb-34d8cc0c1ad4",
   "metadata": {},
   "outputs": [
    {
     "name": "stdout",
     "output_type": "stream",
     "text": [
      "================================================================================\n",
      "after first DMRG run: E= -154.8463098969\n",
      "max chi:  100\n"
     ]
    },
    {
     "data": {
      "text/plain": [
       "{'psi': <tenpy.networks.mps.MPS at 0x1554c7650>,\n",
       " 'model': <tenpy.models.tf_ising.TFIModel at 0x1553aab10>,\n",
       " 'E0': -154.846309896851}"
      ]
     },
     "execution_count": 10,
     "metadata": {},
     "output_type": "execute_result"
    }
   ],
   "source": [
    "run_DMRG(Lx = 7, Ly = 7, J = 1, g=3)"
   ]
  },
  {
   "cell_type": "code",
   "execution_count": 6,
   "id": "372a8639",
   "metadata": {},
   "outputs": [
    {
     "name": "stdout",
     "output_type": "stream",
     "text": [
      "================================================================================\n",
      "after first DMRG run: E= -202.5077381262\n",
      "max chi:  100\n"
     ]
    },
    {
     "data": {
      "text/plain": [
       "{'psi': <tenpy.networks.mps.MPS at 0x1554b2350>,\n",
       " 'model': <tenpy.models.tf_ising.TFIModel at 0x1289b3e10>,\n",
       " 'E0': -202.5077381261612}"
      ]
     },
     "execution_count": 6,
     "metadata": {},
     "output_type": "execute_result"
    }
   ],
   "source": [
    "run_DMRG(Lx = 8, Ly = 8, J = 1, g=3)"
   ]
  },
  {
   "cell_type": "code",
   "execution_count": 7,
   "id": "4abc2e1d",
   "metadata": {},
   "outputs": [
    {
     "name": "stdout",
     "output_type": "stream",
     "text": [
      "================================================================================\n",
      "after first DMRG run: E= -256.5534797820\n",
      "max chi:  100\n"
     ]
    },
    {
     "data": {
      "text/plain": [
       "{'psi': <tenpy.networks.mps.MPS at 0x1554ce990>,\n",
       " 'model': <tenpy.models.tf_ising.TFIModel at 0x155413b10>,\n",
       " 'E0': -256.55347978195874}"
      ]
     },
     "execution_count": 7,
     "metadata": {},
     "output_type": "execute_result"
    }
   ],
   "source": [
    "run_DMRG(Lx = 9, Ly = 9, J = 1, g=3)"
   ]
  },
  {
   "cell_type": "code",
   "execution_count": 8,
   "id": "c476258b-104c-4eba-bf4c-8de9e014f38b",
   "metadata": {},
   "outputs": [
    {
     "name": "stdout",
     "output_type": "stream",
     "text": [
      "================================================================================\n",
      "after first DMRG run: E= -316.9770476258\n",
      "max chi:  100\n"
     ]
    },
    {
     "data": {
      "text/plain": [
       "{'psi': <tenpy.networks.mps.MPS at 0x15d6cec90>,\n",
       " 'model': <tenpy.models.tf_ising.TFIModel at 0x1119834d0>,\n",
       " 'E0': -316.97704762578974}"
      ]
     },
     "execution_count": 8,
     "metadata": {},
     "output_type": "execute_result"
    }
   ],
   "source": [
    "run_DMRG(Lx = 10, Ly = 10, J = 1, g=3)"
   ]
  }
 ],
 "metadata": {
  "kernelspec": {
   "display_name": "Python 3 (ipykernel)",
   "language": "python",
   "name": "python3"
  },
  "language_info": {
   "codemirror_mode": {
    "name": "ipython",
    "version": 3
   },
   "file_extension": ".py",
   "mimetype": "text/x-python",
   "name": "python",
   "nbconvert_exporter": "python",
   "pygments_lexer": "ipython3",
   "version": "3.11.5"
  }
 },
 "nbformat": 4,
 "nbformat_minor": 5
}
