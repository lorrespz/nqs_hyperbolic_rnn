{
 "cells": [
  {
   "cell_type": "code",
   "execution_count": 1,
   "id": "2178653c",
   "metadata": {},
   "outputs": [
    {
     "name": "stderr",
     "output_type": "stream",
     "text": [
      "2025-03-26 17:12:59.840432: I tensorflow/core/platform/cpu_feature_guard.cc:210] This TensorFlow binary is optimized to use available CPU instructions in performance-critical operations.\n",
      "To enable the following instructions: AVX2 FMA, in other operations, rebuild TensorFlow with the appropriate compiler flags.\n"
     ]
    },
    {
     "name": "stdout",
     "output_type": "stream",
     "text": [
      "Num GPUs Available:  0\n"
     ]
    }
   ],
   "source": [
    "import sys\n",
    "sys.path.append('../utility')\n",
    "from hyprnn_train_loop_tfim import *"
   ]
  },
  {
   "cell_type": "code",
   "execution_count": 2,
   "id": "33a3515e",
   "metadata": {},
   "outputs": [],
   "source": [
    "N=20\n",
    "nunits = 50\n",
    "nsamples = 50\n",
    "B_x = 1\n",
    "Jz = np.ones(N)\n",
    "E_20 = -25.1078"
   ]
  },
  {
   "cell_type": "markdown",
   "id": "f3017b75-a2d1-4942-b4fa-fca1642c4bb8",
   "metadata": {},
   "source": [
    "# EuclRNN"
   ]
  },
  {
   "cell_type": "code",
   "execution_count": 3,
   "id": "9b3966cb-66c8-4e16-8c2e-7cec9a964184",
   "metadata": {},
   "outputs": [
    {
     "data": {
      "text/plain": [
       "<hyprnn_wf.rnn_eucl_wf at 0x13f7ed760>"
      ]
     },
     "execution_count": 3,
     "metadata": {},
     "output_type": "execute_result"
    }
   ],
   "source": [
    "wf_euclrnn = rnn_eucl_wf(systemsize = N, cell_type = 'EuclRNN', units = nunits)\n",
    "wf_euclrnn"
   ]
  },
  {
   "cell_type": "code",
   "execution_count": 4,
   "id": "7e8e30a8-407a-4f21-9a31-f42c2a746fce",
   "metadata": {},
   "outputs": [
    {
     "name": "stdout",
     "output_type": "stream",
     "text": [
      "step: 0, loss: 2.07923, mean energy: -19.02656, varE: 17.45846\n",
      "step: 10, loss: -0.44208, mean energy: -24.92258, varE: 0.48588\n",
      "step: 20, loss: 1.89246, mean energy: -24.48925, varE: 0.92267\n",
      "step: 30, loss: -0.09412, mean energy: -25.15255, varE: 0.42347\n",
      "step: 40, loss: 0.63334, mean energy: -24.98696, varE: 0.26652\n",
      "step: 50, loss: 0.01086, mean energy: -25.01541, varE: 0.11832\n",
      "step: 60, loss: 0.00176, mean energy: -25.13164, varE: 0.14376\n",
      "step: 70, loss: 0.06277, mean energy: -25.11955, varE: 0.11041\n",
      "Best model saved at epoch 78 with best E=-25.05730, varE=0.05980\n",
      "step: 80, loss: 0.07900, mean energy: -25.01500, varE: 0.09596\n",
      "step: 90, loss: 0.31742, mean energy: -25.06802, varE: 0.13398\n",
      "step: 100, loss: -0.33998, mean energy: -25.06682, varE: 0.11767\n",
      "Best model saved at epoch 105 with best E=-25.08421, varE=0.05644\n",
      "step: 110, loss: -0.08082, mean energy: -25.02085, varE: 0.06121\n",
      "step: 120, loss: 0.23116, mean energy: -25.07377, varE: 0.09705\n",
      "duration 0.094 hours\n"
     ]
    }
   ],
   "source": [
    "t1 =time.time()\n",
    "\n",
    "meanE, varE = run_1DTFIM(numsteps=121, wf = wf_euclrnn,  systemsize=N, num_units=nunits, var_tol=0.06, Bx = 1, \n",
    "                numsamples = 50, learningrate=1e-2, seed = 111, fname = 'results')\n",
    "t2 =time.time()\n",
    "t = t2-t1\n",
    "print(f'duration {np.round(t/3600,3)} hours')"
   ]
  },
  {
   "cell_type": "markdown",
   "id": "27468892",
   "metadata": {},
   "source": [
    "# EuclGRU"
   ]
  },
  {
   "cell_type": "code",
   "execution_count": 5,
   "id": "6462eb28-a529-4730-83f5-b776d925bbfd",
   "metadata": {},
   "outputs": [
    {
     "data": {
      "text/plain": [
       "<hyprnn_wf.rnn_eucl_wf at 0x13e6a9160>"
      ]
     },
     "execution_count": 5,
     "metadata": {},
     "output_type": "execute_result"
    }
   ],
   "source": [
    "wf_euclgru = rnn_eucl_wf(systemsize = N, cell_type = 'EuclGRU', units = nunits)\n",
    "wf_euclgru"
   ]
  },
  {
   "cell_type": "code",
   "execution_count": 6,
   "id": "76d0b832",
   "metadata": {},
   "outputs": [
    {
     "name": "stdout",
     "output_type": "stream",
     "text": [
      "step: 0, loss: -0.76128, mean energy: -21.62618, varE: 11.02577\n",
      "step: 10, loss: 0.40330, mean energy: -24.90289, varE: 0.42040\n",
      "step: 20, loss: 0.93090, mean energy: -24.99109, varE: 0.50338\n",
      "step: 30, loss: -0.18806, mean energy: -25.05401, varE: 0.13398\n",
      "step: 40, loss: -0.26090, mean energy: -25.03662, varE: 0.20812\n",
      "step: 50, loss: 0.13992, mean energy: -25.05030, varE: 0.12944\n",
      "step: 60, loss: 0.00553, mean energy: -25.05012, varE: 0.12254\n",
      "step: 70, loss: 0.01687, mean energy: -25.08190, varE: 0.16285\n",
      "Best model saved at epoch 80 with best E=-25.07225, varE=0.05924\n",
      "step: 80, loss: -0.04150, mean energy: -25.07225, varE: 0.05924\n",
      "step: 90, loss: -0.13350, mean energy: -25.11706, varE: 0.10002\n",
      "step: 100, loss: 0.15866, mean energy: -25.16468, varE: 0.08835\n",
      "Best model saved at epoch 102 with best E=-25.08945, varE=0.04561\n",
      "step: 110, loss: 0.36474, mean energy: -25.07406, varE: 0.09615\n",
      "Best model saved at epoch 112 with best E=-25.09403, varE=0.05324\n",
      "Best model saved at epoch 117 with best E=-25.10665, varE=0.05915\n",
      "step: 120, loss: 0.38085, mean energy: -25.10977, varE: 0.07219\n",
      "duration 0.165 hours\n"
     ]
    }
   ],
   "source": [
    "t1 =time.time()\n",
    "\n",
    "meanE, varE = run_1DTFIM(numsteps=121, wf = wf_euclgru,  systemsize=N, num_units=nunits, var_tol=0.06, Bx = 1, \n",
    "                numsamples = 50, learningrate=1e-2, seed = 111, fname = 'results')\n",
    "t2 =time.time()\n",
    "t = t2-t1\n",
    "print(f'duration {np.round(t/3600,3)} hours')"
   ]
  },
  {
   "cell_type": "markdown",
   "id": "1833577d",
   "metadata": {},
   "source": [
    "# HypRNN"
   ]
  },
  {
   "cell_type": "code",
   "execution_count": 9,
   "id": "63420359-3396-44e4-a47d-03c666fcf63f",
   "metadata": {},
   "outputs": [
    {
     "data": {
      "text/plain": [
       "<hyprnn_wf.rnn_hyp_wf at 0x13f7af0b0>"
      ]
     },
     "execution_count": 9,
     "metadata": {},
     "output_type": "execute_result"
    }
   ],
   "source": [
    "wf_hyprnn= rnn_hyp_wf(systemsize = N, cell_type = 'HypRNN', bias_geo = 'hyp', hyp_non_lin = 'id', units = nunits)\n",
    "wf_hyprnn"
   ]
  },
  {
   "cell_type": "code",
   "execution_count": 10,
   "id": "d89ba162-7d93-471b-9295-9f8a24be8e2f",
   "metadata": {},
   "outputs": [
    {
     "name": "stdout",
     "output_type": "stream",
     "text": [
      "step: 0, loss: 1.03503, mean energy: -19.11380, varE: 16.20884\n",
      "step: 10, loss: 0.84340, mean energy: -22.49711, varE: 9.54280\n",
      "step: 20, loss: 2.03308, mean energy: -22.47602, varE: 5.33189\n",
      "step: 30, loss: 2.70940, mean energy: -24.05215, varE: 3.16824\n",
      "step: 40, loss: -1.50591, mean energy: -23.50456, varE: 3.06913\n",
      "step: 50, loss: -2.31113, mean energy: -24.25024, varE: 2.27978\n",
      "step: 60, loss: -0.35072, mean energy: -23.90916, varE: 0.86198\n",
      "step: 70, loss: -1.10466, mean energy: -24.03321, varE: 2.69562\n",
      "step: 80, loss: -1.04048, mean energy: -24.29003, varE: 1.60558\n",
      "step: 90, loss: -0.76555, mean energy: -23.97166, varE: 2.12452\n",
      "step: 100, loss: 0.38398, mean energy: -24.37205, varE: 1.16194\n",
      "step: 110, loss: -0.24202, mean energy: -24.35192, varE: 1.03780\n",
      "step: 120, loss: 0.70656, mean energy: -24.70806, varE: 2.55934\n",
      "duration 0.486 hours\n"
     ]
    }
   ],
   "source": [
    "t1 =time.time()\n",
    "\n",
    "meanE, varE = run_1DTFIM_hypvars(numsteps=121, wf=wf_hyprnn, systemsize=N, num_units=nunits, var_tol=0.06, Bx = 1, \n",
    "                numsamples = 50, lr1=1e-2, lr2 =1e-2, seed = 111, fname = 'results')\n",
    "t2 =time.time()\n",
    "t = t2-t1\n",
    "print(f'duration {np.round(t/3600,3)} hours')"
   ]
  },
  {
   "cell_type": "markdown",
   "id": "127ec7a5",
   "metadata": {},
   "source": [
    "# HypGRU"
   ]
  },
  {
   "cell_type": "code",
   "execution_count": 7,
   "id": "8b25b6e7-addf-4e3e-9b98-89776098ffc3",
   "metadata": {},
   "outputs": [
    {
     "data": {
      "text/plain": [
       "<hyprnn_wf.rnn_hyp_wf at 0x141eb6cc0>"
      ]
     },
     "execution_count": 7,
     "metadata": {},
     "output_type": "execute_result"
    }
   ],
   "source": [
    "wf_hypgru= rnn_hyp_wf(systemsize = N, cell_type = 'HypGRU', bias_geo = 'hyp', hyp_non_lin = 'id', units = nunits)\n",
    "wf_hypgru"
   ]
  },
  {
   "cell_type": "code",
   "execution_count": 8,
   "id": "e5dd0bdc",
   "metadata": {},
   "outputs": [
    {
     "name": "stdout",
     "output_type": "stream",
     "text": [
      "step: 0, loss: 0.13091, mean energy: -20.46409, varE: 11.47606\n",
      "step: 10, loss: -0.89996, mean energy: -24.57876, varE: 1.32611\n",
      "step: 20, loss: 0.66046, mean energy: -24.74596, varE: 1.48014\n",
      "step: 30, loss: 0.48522, mean energy: -25.23326, varE: 0.71023\n",
      "step: 40, loss: 0.04082, mean energy: -24.99709, varE: 0.19988\n",
      "step: 50, loss: 0.12830, mean energy: -25.11792, varE: 0.16034\n",
      "step: 60, loss: 0.10378, mean energy: -25.04302, varE: 0.19121\n",
      "step: 70, loss: -0.17890, mean energy: -25.07549, varE: 0.11101\n",
      "step: 80, loss: 0.02021, mean energy: -25.02922, varE: 0.07668\n",
      "step: 90, loss: -0.05383, mean energy: -25.09455, varE: 0.08014\n",
      "Best model saved at epoch 95 with best E=-25.07218, varE=0.04630\n",
      "step: 100, loss: 0.00700, mean energy: -25.06701, varE: 0.04840\n",
      "Best model saved at epoch 102 with best E=-25.08736, varE=0.04489\n",
      "Best model saved at epoch 107 with best E=-25.10630, varE=0.05524\n",
      "step: 110, loss: -0.22439, mean energy: -25.12307, varE: 0.06719\n",
      "Best model saved at epoch 112 with best E=-25.12015, varE=0.05363\n",
      "step: 120, loss: -0.06974, mean energy: -25.13197, varE: 0.07846\n",
      "duration 1.664 hours\n"
     ]
    }
   ],
   "source": [
    "t1 =time.time()\n",
    "\n",
    "meanE, varE = run_1DTFIM_hypvars(numsteps=121, wf = wf_hypgru, systemsize=N, num_units=nunits, var_tol=0.06, Bx = 1, \n",
    "                numsamples = 50, lr1=1e-2, lr2 =1e-2, seed = 111, fname = 'results')\n",
    "\n",
    "t2 =time.time()\n",
    "t = t2-t1\n",
    "print(f'duration {np.round(t/3600,3)} hours')"
   ]
  }
 ],
 "metadata": {
  "kernelspec": {
   "display_name": "Python 3 (ipykernel)",
   "language": "python",
   "name": "python3"
  },
  "language_info": {
   "codemirror_mode": {
    "name": "ipython",
    "version": 3
   },
   "file_extension": ".py",
   "mimetype": "text/x-python",
   "name": "python",
   "nbconvert_exporter": "python",
   "pygments_lexer": "ipython3",
   "version": "3.9.12"
  }
 },
 "nbformat": 4,
 "nbformat_minor": 5
}
