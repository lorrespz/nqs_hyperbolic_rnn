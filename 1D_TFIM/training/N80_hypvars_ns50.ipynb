{
 "cells": [
  {
   "cell_type": "code",
   "execution_count": 1,
   "id": "2178653c",
   "metadata": {},
   "outputs": [
    {
     "name": "stderr",
     "output_type": "stream",
     "text": [
      "2025-04-01 20:08:01.094745: I tensorflow/core/platform/cpu_feature_guard.cc:210] This TensorFlow binary is optimized to use available CPU instructions in performance-critical operations.\n",
      "To enable the following instructions: AVX2 FMA, in other operations, rebuild TensorFlow with the appropriate compiler flags.\n"
     ]
    },
    {
     "name": "stdout",
     "output_type": "stream",
     "text": [
      "Num GPUs Available:  0\n"
     ]
    }
   ],
   "source": [
    "import sys\n",
    "sys.path.append('../utility')\n",
    "from hyprnn_train_loop_tfim import *"
   ]
  },
  {
   "cell_type": "code",
   "execution_count": 2,
   "id": "33a3515e",
   "metadata": {},
   "outputs": [],
   "source": [
    "N=80\n",
    "nunits = 50\n",
    "nsamples = 50\n",
    "B_x = 1\n",
    "Jz = np.ones(N)\n",
    "E_e = -101.49740945239212"
   ]
  },
  {
   "cell_type": "markdown",
   "id": "f3017b75-a2d1-4942-b4fa-fca1642c4bb8",
   "metadata": {},
   "source": [
    "# EuclRNN"
   ]
  },
  {
   "cell_type": "code",
   "execution_count": 3,
   "id": "9b3966cb-66c8-4e16-8c2e-7cec9a964184",
   "metadata": {},
   "outputs": [
    {
     "data": {
      "text/plain": [
       "<hyprnn_wf.rnn_eucl_wf at 0x140c5e2a0>"
      ]
     },
     "execution_count": 3,
     "metadata": {},
     "output_type": "execute_result"
    }
   ],
   "source": [
    "wf_euclrnn = rnn_eucl_wf(systemsize = N, cell_type = 'EuclRNN', units = nunits)\n",
    "wf_euclrnn"
   ]
  },
  {
   "cell_type": "code",
   "execution_count": 4,
   "id": "7e8e30a8-407a-4f21-9a31-f42c2a746fce",
   "metadata": {},
   "outputs": [
    {
     "name": "stdout",
     "output_type": "stream",
     "text": [
      "step: 0, loss: 5.38153, mean energy: -74.58386, varE: 72.12144\n",
      "step: 10, loss: -0.11020, mean energy: -100.77593, varE: 2.71989\n",
      "step: 20, loss: -2.82979, mean energy: -100.48365, varE: 1.74403\n",
      "step: 30, loss: -2.23053, mean energy: -101.17063, varE: 0.63311\n",
      "step: 40, loss: 0.80138, mean energy: -101.35113, varE: 0.59250\n",
      "step: 50, loss: 0.14350, mean energy: -101.25090, varE: 0.22023\n",
      "step: 60, loss: -0.86986, mean energy: -101.32787, varE: 0.21942\n",
      "step: 70, loss: 0.63787, mean energy: -101.32048, varE: 0.25581\n",
      "Best model saved at epoch 79 with best E=-101.38264, varE=0.18467\n",
      "step: 80, loss: -0.14930, mean energy: -101.38613, varE: 0.29964\n",
      "step: 90, loss: 1.35422, mean energy: -101.28392, varE: 0.34814\n",
      "step: 100, loss: -0.71833, mean energy: -101.33192, varE: 0.40240\n",
      "step: 110, loss: -0.63479, mean energy: -101.28988, varE: 0.47687\n",
      "step: 120, loss: 0.48735, mean energy: -101.26576, varE: 0.35537\n",
      "duration 0.981 hours\n"
     ]
    }
   ],
   "source": [
    "t1 =time.time()\n",
    "\n",
    "meanE, varE = run_1DTFIM(numsteps=121, wf = wf_euclrnn,  systemsize=N, num_units=nunits, var_tol=0.2, Bx = 1, \n",
    "                numsamples = nsamples, learningrate=1e-2, seed = 111, fname = 'results')\n",
    "t2 =time.time()\n",
    "t = t2-t1\n",
    "print(f'duration {np.round(t/3600,3)} hours')"
   ]
  },
  {
   "cell_type": "markdown",
   "id": "27468892",
   "metadata": {},
   "source": [
    "# EuclGRU"
   ]
  },
  {
   "cell_type": "code",
   "execution_count": 5,
   "id": "6462eb28-a529-4730-83f5-b776d925bbfd",
   "metadata": {},
   "outputs": [
    {
     "data": {
      "text/plain": [
       "<hyprnn_wf.rnn_eucl_wf at 0x141157f80>"
      ]
     },
     "execution_count": 5,
     "metadata": {},
     "output_type": "execute_result"
    }
   ],
   "source": [
    "wf_euclgru = rnn_eucl_wf(systemsize = N, cell_type = 'EuclGRU', units = nunits)\n",
    "wf_euclgru"
   ]
  },
  {
   "cell_type": "code",
   "execution_count": 6,
   "id": "76d0b832",
   "metadata": {},
   "outputs": [
    {
     "name": "stdout",
     "output_type": "stream",
     "text": [
      "step: 0, loss: -4.81748, mean energy: -84.93015, varE: 80.96116\n",
      "step: 10, loss: 0.27138, mean energy: -100.98359, varE: 1.33246\n",
      "step: 20, loss: -1.27047, mean energy: -101.24108, varE: 0.59417\n",
      "step: 30, loss: -0.79013, mean energy: -101.21056, varE: 1.12225\n",
      "step: 40, loss: -0.71100, mean energy: -101.26234, varE: 0.40547\n",
      "step: 50, loss: -1.74215, mean energy: -101.21878, varE: 0.60179\n",
      "step: 60, loss: -0.49105, mean energy: -101.18477, varE: 0.29754\n",
      "step: 70, loss: -0.00547, mean energy: -101.40155, varE: 0.51562\n",
      "step: 80, loss: 1.24526, mean energy: -101.28110, varE: 0.57455\n",
      "Best model saved at epoch 90 with best E=-101.46405, varE=0.16334\n",
      "step: 90, loss: 0.34739, mean energy: -101.46405, varE: 0.16334\n",
      "Best model saved at epoch 98 with best E=-101.47360, varE=0.19643\n",
      "step: 100, loss: -1.77695, mean energy: -101.37357, varE: 0.19928\n",
      "step: 110, loss: -1.19168, mean energy: -101.51964, varE: 0.24795\n",
      "Best model saved at epoch 120 with best E=-101.52667, varE=0.13303\n",
      "step: 120, loss: -0.08339, mean energy: -101.52667, varE: 0.13303\n",
      "duration 1.959 hours\n"
     ]
    }
   ],
   "source": [
    "t1 =time.time()\n",
    "\n",
    "meanE, varE = run_1DTFIM(numsteps=121, wf = wf_euclgru,  systemsize=N, num_units=nunits, var_tol=0.2, Bx = 1, \n",
    "                numsamples = nsamples, learningrate=1e-2, seed = 111, fname = 'results')\n",
    "t2 =time.time()\n",
    "t = t2-t1\n",
    "print(f'duration {np.round(t/3600,3)} hours')"
   ]
  },
  {
   "cell_type": "markdown",
   "id": "1833577d",
   "metadata": {},
   "source": [
    "# HypRNN"
   ]
  },
  {
   "cell_type": "code",
   "execution_count": 5,
   "id": "63420359-3396-44e4-a47d-03c666fcf63f",
   "metadata": {},
   "outputs": [
    {
     "data": {
      "text/plain": [
       "<hyprnn_wf.rnn_hyp_wf at 0x7ff49e591640>"
      ]
     },
     "execution_count": 5,
     "metadata": {},
     "output_type": "execute_result"
    }
   ],
   "source": [
    "wf_hyprnn= rnn_hyp_wf(systemsize = N, cell_type = 'HypRNN', bias_geo = 'hyp', hyp_non_lin = 'id', units = nunits)\n",
    "wf_hyprnn"
   ]
  },
  {
   "cell_type": "code",
   "execution_count": 6,
   "id": "d89ba162-7d93-471b-9295-9f8a24be8e2f",
   "metadata": {},
   "outputs": [
    {
     "name": "stdout",
     "output_type": "stream",
     "text": [
      "step: 0, loss: 40.51537, mean energy: -58.36551, varE: 186.58139\n",
      "step: 10, loss: -9.62523, mean energy: -91.46985, varE: 34.27907\n",
      "step: 20, loss: 16.79918, mean energy: -94.05318, varE: 17.98626\n",
      "step: 30, loss: -4.72614, mean energy: -97.62211, varE: 12.97334\n",
      "step: 40, loss: -0.03200, mean energy: -98.76414, varE: 5.74202\n",
      "step: 50, loss: 6.04936, mean energy: -98.61371, varE: 7.66688\n",
      "step: 60, loss: -8.72530, mean energy: -98.17060, varE: 10.55120\n",
      "step: 70, loss: 0.25117, mean energy: -99.03716, varE: 3.87349\n",
      "step: 80, loss: 0.58971, mean energy: -98.62063, varE: 2.78750\n",
      "step: 90, loss: -9.53134, mean energy: -98.72416, varE: 6.66686\n",
      "step: 100, loss: -4.15235, mean energy: -98.65337, varE: 6.34504\n",
      "step: 110, loss: 5.29280, mean energy: -99.42072, varE: 9.93522\n",
      "step: 120, loss: 7.93058, mean energy: -98.74007, varE: 4.93078\n",
      "duration 2.932 hours\n"
     ]
    }
   ],
   "source": [
    "t1 =time.time()\n",
    "\n",
    "meanE, varE = run_1DTFIM_hypvars(numsteps=121, wf=wf_hyprnn, systemsize=N, num_units=nunits, var_tol=0.2, Bx = 1, \n",
    "                numsamples = nsamples, lr1=1e-2, lr2 =1e-2, seed = 111, fname = 'results')\n",
    "t2 =time.time()\n",
    "t = t2-t1\n",
    "print(f'duration {np.round(t/3600,3)} hours')"
   ]
  },
  {
   "cell_type": "markdown",
   "id": "127ec7a5",
   "metadata": {},
   "source": [
    "# HypGRU"
   ]
  },
  {
   "cell_type": "code",
   "execution_count": null,
   "id": "95c19213",
   "metadata": {},
   "outputs": [
    {
     "name": "stdout",
     "output_type": "stream",
     "text": [
      "N80_HypGRU_50_hyp_id\n",
      "step: 0, loss: -3.40886, mean energy: -81.53736, varE: 74.12720\n",
      "step: 10, loss: 1.58724, mean energy: -100.11239, varE: 9.23257\n",
      "step: 20, loss: 2.53747, mean energy: -101.27483, varE: 1.98269\n",
      "step: 30, loss: -3.28237, mean energy: -101.23598, varE: 1.69634\n",
      "step: 40, loss: -0.47757, mean energy: -101.18186, varE: 1.33191\n",
      "step: 50, loss: 0.28545, mean energy: -101.37995, varE: 0.51498\n",
      "step: 60, loss: -0.44656, mean energy: -101.24561, varE: 0.28905\n",
      "Best model saved at epoch 66 with best E=-101.39496, varE=0.22352\n",
      "Best model saved at epoch 69 with best E=-101.49521, varE=0.21401\n",
      "step: 70, loss: 0.71684, mean energy: -101.48850, varE: 0.55305\n"
     ]
    }
   ],
   "source": [
    "wf_hypgru= rnn_hyp_wf(systemsize = N, cell_type = 'HypGRU', bias_geo = 'hyp', hyp_non_lin = 'id', units = nunits)\n",
    "print(wf_hypgru.name)\n",
    "\n",
    "t1 =time.time()\n",
    "\n",
    "meanE, varE = run_1DTFIM_hypvars(numsteps=121, wf = wf_hypgru, systemsize=N, num_units=nunits, var_tol=0.25, Bx = 1, \n",
    "                numsamples = nsamples, lr1=1e-2, lr2 =1e-2, seed = 111, fname = 'results2')\n",
    "\n",
    "t2 =time.time()\n",
    "t = t2-t1\n",
    "print(f'duration {np.round(t/3600,3)} hours')"
   ]
  },
  {
   "cell_type": "code",
   "execution_count": 4,
   "id": "fc33bd0e",
   "metadata": {},
   "outputs": [
    {
     "name": "stdout",
     "output_type": "stream",
     "text": [
      "N80_HypGRU_50_hyp_id\n",
      "step: 0, loss: -3.40886, mean energy: -81.53736, varE: 74.12720\n",
      "step: 10, loss: 1.58724, mean energy: -100.11239, varE: 9.23257\n",
      "step: 20, loss: 2.53747, mean energy: -101.27483, varE: 1.98269\n",
      "Best model saved at epoch 25 with best E=-101.10293, varE=0.90879\n",
      "step: 30, loss: -3.28237, mean energy: -101.23598, varE: 1.69634\n",
      "Best model saved at epoch 32 with best E=-101.24137, varE=0.88714\n",
      "Best model saved at epoch 33 with best E=-101.28244, varE=0.78242\n",
      "Best model saved at epoch 34 with best E=-101.32691, varE=0.91592\n",
      "step: 40, loss: -0.47757, mean energy: -101.18186, varE: 1.33191\n",
      "Best model saved at epoch 44 with best E=-101.46509, varE=0.71158\n",
      "step: 50, loss: 0.28545, mean energy: -101.37995, varE: 0.51498\n",
      "Best model saved at epoch 55 with best E=-101.51801, varE=0.35697\n",
      "step: 60, loss: -0.44656, mean energy: -101.24561, varE: 0.28905\n",
      "Best model saved at epoch 65 with best E=-101.55011, varE=0.43560\n",
      "step: 70, loss: 0.71684, mean energy: -101.48850, varE: 0.55305\n",
      "step: 80, loss: -0.25229, mean energy: -101.32791, varE: 0.27558\n",
      "step: 90, loss: -0.19797, mean energy: -101.49068, varE: 0.30127\n",
      "step: 100, loss: 0.50183, mean energy: -101.35432, varE: 0.25662\n",
      "step: 110, loss: 0.35876, mean energy: -101.32087, varE: 0.26256\n",
      "step: 120, loss: -0.13597, mean energy: -101.36557, varE: 0.19772\n",
      "duration 14.891 hours\n"
     ]
    }
   ],
   "source": [
    "wf_hypgru= rnn_hyp_wf(systemsize = N, cell_type = 'HypGRU', bias_geo = 'hyp', hyp_non_lin = 'id', units = nunits)\n",
    "print(wf_hypgru.name)\n",
    "\n",
    "t1 =time.time()\n",
    "\n",
    "meanE, varE = run_1DTFIM_hypvars(numsteps=121, wf = wf_hypgru, systemsize=N, num_units=nunits, var_tol=1.0, Bx = 1, \n",
    "                numsamples = nsamples, lr1=1e-2, lr2 =1e-2, seed = 111, fname = 'results')\n",
    "\n",
    "t2 =time.time()\n",
    "t = t2-t1\n",
    "print(f'duration {np.round(t/3600,3)} hours')"
   ]
  },
  {
   "cell_type": "code",
   "execution_count": 4,
   "id": "e5dd0bdc",
   "metadata": {},
   "outputs": [
    {
     "name": "stdout",
     "output_type": "stream",
     "text": [
      "step: 0, loss: 3.34149, mean energy: -74.49982, varE: 111.76629\n",
      "step: 10, loss: -11.35761, mean energy: -91.71171, varE: 36.11623\n",
      "step: 20, loss: -4.55391, mean energy: -99.11520, varE: 11.86575\n",
      "step: 30, loss: 8.52758, mean energy: -98.56459, varE: 11.33390\n",
      "step: 40, loss: 10.16897, mean energy: -99.51884, varE: 9.57871\n",
      "step: 50, loss: 0.37637, mean energy: -99.93941, varE: 7.51555\n",
      "step: 60, loss: -5.18458, mean energy: -99.90494, varE: 6.64199\n",
      "step: 70, loss: -3.08526, mean energy: -99.70520, varE: 6.71753\n",
      "step: 80, loss: -3.36438, mean energy: -99.83000, varE: 10.21081\n",
      "step: 90, loss: -2.58774, mean energy: -100.60719, varE: 5.94658\n",
      "step: 100, loss: -4.75180, mean energy: -100.16422, varE: 6.76943\n",
      "step: 110, loss: -0.61551, mean energy: -100.17000, varE: 7.06236\n",
      "step: 120, loss: -0.63350, mean energy: -100.64450, varE: 4.98406\n",
      "duration 10.864 hours\n"
     ]
    }
   ],
   "source": [
    "t1 =time.time()\n",
    "\n",
    "meanE, varE = run_1DTFIM_hypvars(numsteps=121, wf = wf_hypgru, systemsize=N, num_units=nunits, var_tol=0.5, Bx = 1, \n",
    "                numsamples = nsamples, lr1=1e-2, lr2 =1e-2, seed = 111, fname = 'results')\n",
    "\n",
    "t2 =time.time()\n",
    "t = t2-t1\n",
    "print(f'duration {np.round(t/3600,3)} hours')"
   ]
  }
 ],
 "metadata": {
  "kernelspec": {
   "display_name": "Python 3 (ipykernel)",
   "language": "python",
   "name": "python3"
  },
  "language_info": {
   "codemirror_mode": {
    "name": "ipython",
    "version": 3
   },
   "file_extension": ".py",
   "mimetype": "text/x-python",
   "name": "python",
   "nbconvert_exporter": "python",
   "pygments_lexer": "ipython3",
   "version": "3.9.12"
  }
 },
 "nbformat": 4,
 "nbformat_minor": 5
}
