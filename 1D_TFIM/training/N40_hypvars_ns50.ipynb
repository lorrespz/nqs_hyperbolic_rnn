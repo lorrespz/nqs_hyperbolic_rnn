{
 "cells": [
  {
   "cell_type": "code",
   "execution_count": 1,
   "id": "2178653c",
   "metadata": {},
   "outputs": [
    {
     "name": "stderr",
     "output_type": "stream",
     "text": [
      "2025-03-26 17:41:22.103693: I tensorflow/core/platform/cpu_feature_guard.cc:210] This TensorFlow binary is optimized to use available CPU instructions in performance-critical operations.\n",
      "To enable the following instructions: AVX2 FMA, in other operations, rebuild TensorFlow with the appropriate compiler flags.\n"
     ]
    },
    {
     "name": "stdout",
     "output_type": "stream",
     "text": [
      "Num GPUs Available:  0\n"
     ]
    }
   ],
   "source": [
    "import sys\n",
    "sys.path.append('../utility')\n",
    "from hyprnn_train_loop_tfim import *"
   ]
  },
  {
   "cell_type": "code",
   "execution_count": 2,
   "id": "33a3515e",
   "metadata": {},
   "outputs": [],
   "source": [
    "N=40\n",
    "nunits = 50\n",
    "Jz = np.ones(N)\n",
    "B_x = 1\n",
    "nsamples = 50\n",
    "E_exact = -50.5694337844"
   ]
  },
  {
   "cell_type": "markdown",
   "id": "f3017b75-a2d1-4942-b4fa-fca1642c4bb8",
   "metadata": {},
   "source": [
    "# EuclRNN"
   ]
  },
  {
   "cell_type": "code",
   "execution_count": 3,
   "id": "9b3966cb-66c8-4e16-8c2e-7cec9a964184",
   "metadata": {},
   "outputs": [
    {
     "data": {
      "text/plain": [
       "<hyprnn_wf.rnn_eucl_wf at 0x135bfa390>"
      ]
     },
     "execution_count": 3,
     "metadata": {},
     "output_type": "execute_result"
    }
   ],
   "source": [
    "wf_euclrnn = rnn_eucl_wf(systemsize = N, cell_type = 'EuclRNN', units = nunits)\n",
    "wf_euclrnn"
   ]
  },
  {
   "cell_type": "code",
   "execution_count": 4,
   "id": "7e8e30a8-407a-4f21-9a31-f42c2a746fce",
   "metadata": {},
   "outputs": [
    {
     "name": "stdout",
     "output_type": "stream",
     "text": [
      "step: 0, loss: 3.35018, mean energy: -37.14047, varE: 31.31507\n",
      "step: 10, loss: -2.21145, mean energy: -49.98452, varE: 1.35674\n",
      "step: 20, loss: 2.61801, mean energy: -50.08860, varE: 1.54472\n",
      "step: 30, loss: -0.36747, mean energy: -50.42988, varE: 0.76623\n",
      "step: 40, loss: -0.52200, mean energy: -50.36492, varE: 0.54579\n",
      "step: 50, loss: 0.66420, mean energy: -50.35343, varE: 0.47124\n",
      "step: 60, loss: 1.20615, mean energy: -50.35725, varE: 0.58862\n",
      "Best model saved at epoch 63 with best E=-50.45271, varE=0.21949\n",
      "Best model saved at epoch 65 with best E=-50.47950, varE=0.20719\n",
      "Best model saved at epoch 66 with best E=-50.53044, varE=0.19433\n",
      "Best model saved at epoch 67 with best E=-50.59784, varE=0.23152\n",
      "step: 70, loss: 0.42892, mean energy: -50.50534, varE: 0.25171\n",
      "Best model saved at epoch 71 with best E=-50.59879, varE=0.14345\n",
      "step: 80, loss: -0.31256, mean energy: -50.51294, varE: 0.20405\n",
      "step: 90, loss: 0.41050, mean energy: -50.30444, varE: 0.14987\n",
      "step: 100, loss: -0.35021, mean energy: -50.50208, varE: 0.10898\n",
      "step: 110, loss: -0.62638, mean energy: -50.46169, varE: 0.20534\n",
      "step: 120, loss: 1.03524, mean energy: -50.43666, varE: 0.19339\n",
      "duration 0.276 hours\n"
     ]
    }
   ],
   "source": [
    "t1 =time.time()\n",
    "\n",
    "meanE, varE = run_1DTFIM(numsteps=121, wf = wf_euclrnn,  systemsize=N, num_units=nunits, var_tol=0.25, Bx = 1, \n",
    "                numsamples = nsamples, learningrate=1e-2, seed = 111, fname = 'results')\n",
    "t2 =time.time()\n",
    "t = t2-t1\n",
    "print(f'duration {np.round(t/3600,3)} hours')"
   ]
  },
  {
   "cell_type": "markdown",
   "id": "27468892",
   "metadata": {},
   "source": [
    "# EuclGRU"
   ]
  },
  {
   "cell_type": "code",
   "execution_count": 5,
   "id": "6462eb28-a529-4730-83f5-b776d925bbfd",
   "metadata": {},
   "outputs": [
    {
     "data": {
      "text/plain": [
       "<hyprnn_wf.rnn_eucl_wf at 0x140f0fe00>"
      ]
     },
     "execution_count": 5,
     "metadata": {},
     "output_type": "execute_result"
    }
   ],
   "source": [
    "wf_euclgru = rnn_eucl_wf(systemsize = N, cell_type = 'EuclGRU', units = nunits)\n",
    "wf_euclgru"
   ]
  },
  {
   "cell_type": "code",
   "execution_count": 6,
   "id": "76d0b832",
   "metadata": {},
   "outputs": [
    {
     "name": "stdout",
     "output_type": "stream",
     "text": [
      "step: 0, loss: -1.65906, mean energy: -43.10743, varE: 27.91693\n",
      "step: 10, loss: 2.52550, mean energy: -50.22347, varE: 1.20001\n",
      "step: 20, loss: -1.08225, mean energy: -50.35499, varE: 0.31440\n",
      "step: 30, loss: 1.32051, mean energy: -50.48706, varE: 0.56172\n",
      "Best model saved at epoch 35 with best E=-50.49537, varE=0.23770\n",
      "Best model saved at epoch 36 with best E=-50.50602, varE=0.21363\n",
      "Best model saved at epoch 38 with best E=-50.59111, varE=0.13433\n",
      "step: 40, loss: -0.58526, mean energy: -50.57057, varE: 0.23724\n",
      "step: 50, loss: 0.06558, mean energy: -50.54978, varE: 0.24713\n",
      "step: 60, loss: -0.06291, mean energy: -50.47399, varE: 0.27435\n",
      "step: 70, loss: 0.54552, mean energy: -50.51102, varE: 0.35683\n",
      "step: 80, loss: -0.87042, mean energy: -50.52373, varE: 0.25139\n",
      "step: 90, loss: 0.24735, mean energy: -50.45417, varE: 0.24136\n",
      "Best model saved at epoch 92 with best E=-50.59366, varE=0.24350\n",
      "step: 100, loss: -0.93945, mean energy: -50.49321, varE: 0.14842\n",
      "Best model saved at epoch 102 with best E=-50.68524, varE=0.13734\n",
      "step: 110, loss: -0.60439, mean energy: -50.52609, varE: 0.14279\n",
      "step: 120, loss: 0.12320, mean energy: -50.53958, varE: 0.06309\n",
      "duration 0.498 hours\n"
     ]
    }
   ],
   "source": [
    "t1 =time.time()\n",
    "\n",
    "meanE, varE = run_1DTFIM(numsteps=121, wf = wf_euclgru,  systemsize=N, num_units=nunits, var_tol=0.25, Bx = 1, \n",
    "                numsamples = nsamples, learningrate=1e-2, seed = 111, fname = 'results')\n",
    "t2 =time.time()\n",
    "t = t2-t1\n",
    "print(f'duration {np.round(t/3600,3)} hours')"
   ]
  },
  {
   "cell_type": "markdown",
   "id": "1833577d",
   "metadata": {},
   "source": [
    "# HypRNN"
   ]
  },
  {
   "cell_type": "code",
   "execution_count": 9,
   "id": "63420359-3396-44e4-a47d-03c666fcf63f",
   "metadata": {},
   "outputs": [
    {
     "data": {
      "text/plain": [
       "<hyprnn_wf.rnn_hyp_wf at 0x140eca840>"
      ]
     },
     "execution_count": 9,
     "metadata": {},
     "output_type": "execute_result"
    }
   ],
   "source": [
    "wf_hyprnn= rnn_hyp_wf(systemsize = N, cell_type = 'HypRNN', bias_geo = 'hyp', hyp_non_lin = 'id', units = nunits)\n",
    "wf_hyprnn"
   ]
  },
  {
   "cell_type": "code",
   "execution_count": 10,
   "id": "d89ba162-7d93-471b-9295-9f8a24be8e2f",
   "metadata": {},
   "outputs": [
    {
     "name": "stdout",
     "output_type": "stream",
     "text": [
      "step: 0, loss: 7.77640, mean energy: -33.69547, varE: 63.81860\n",
      "step: 10, loss: 1.95788, mean energy: -42.96255, varE: 12.54237\n",
      "step: 20, loss: 10.26513, mean energy: -40.35817, varE: 18.19487\n",
      "step: 30, loss: 1.38931, mean energy: -42.04093, varE: 27.71956\n",
      "step: 40, loss: 1.20909, mean energy: -42.22767, varE: 11.34023\n",
      "step: 50, loss: 1.93180, mean energy: -41.91993, varE: 13.76121\n",
      "step: 60, loss: 0.32065, mean energy: -45.07049, varE: 16.78183\n",
      "step: 70, loss: -0.51292, mean energy: -44.77997, varE: 11.46778\n",
      "step: 80, loss: -1.34003, mean energy: -45.47361, varE: 16.60551\n",
      "step: 90, loss: 5.14730, mean energy: -46.69031, varE: 18.73204\n",
      "step: 100, loss: -0.33202, mean energy: -46.04386, varE: 9.77653\n",
      "step: 110, loss: -0.90844, mean energy: -49.20761, varE: 4.99642\n",
      "step: 120, loss: 3.06498, mean energy: -48.64130, varE: 1.82050\n",
      "duration 1.289 hours\n"
     ]
    }
   ],
   "source": [
    "t1 =time.time()\n",
    "\n",
    "meanE, varE = run_1DTFIM_hypvars(numsteps=121, wf=wf_hyprnn, systemsize=N, num_units=nunits, var_tol=0.25, Bx = 1, \n",
    "                numsamples = nsamples, lr1=1e-2, lr2 =1e-2, seed = 111, fname = 'results')\n",
    "t2 =time.time()\n",
    "t = t2-t1\n",
    "print(f'duration {np.round(t/3600,3)} hours')"
   ]
  },
  {
   "cell_type": "markdown",
   "id": "127ec7a5",
   "metadata": {},
   "source": [
    "# HypGRU"
   ]
  },
  {
   "cell_type": "code",
   "execution_count": 7,
   "id": "8b25b6e7-addf-4e3e-9b98-89776098ffc3",
   "metadata": {},
   "outputs": [
    {
     "data": {
      "text/plain": [
       "<hyprnn_wf.rnn_hyp_wf at 0x1372993a0>"
      ]
     },
     "execution_count": 7,
     "metadata": {},
     "output_type": "execute_result"
    }
   ],
   "source": [
    "wf_hypgru= rnn_hyp_wf(systemsize = N, cell_type = 'HypGRU', bias_geo = 'hyp', hyp_non_lin = 'id', units = nunits)\n",
    "wf_hypgru"
   ]
  },
  {
   "cell_type": "code",
   "execution_count": 8,
   "id": "e5dd0bdc",
   "metadata": {},
   "outputs": [
    {
     "name": "stdout",
     "output_type": "stream",
     "text": [
      "step: 0, loss: 0.00576, mean energy: -40.75139, varE: 24.57652\n",
      "step: 10, loss: -0.87640, mean energy: -50.23547, varE: 3.96912\n",
      "step: 20, loss: 0.05612, mean energy: -50.16468, varE: 2.28360\n",
      "step: 30, loss: 1.67119, mean energy: -50.20317, varE: 1.93416\n",
      "step: 40, loss: 0.64856, mean energy: -50.17716, varE: 0.61190\n",
      "step: 50, loss: -0.66599, mean energy: -50.52475, varE: 0.67312\n",
      "step: 60, loss: -0.66760, mean energy: -50.42638, varE: 0.31082\n",
      "Best model saved at epoch 63 with best E=-50.45532, varE=0.24845\n",
      "Best model saved at epoch 68 with best E=-50.46725, varE=0.24203\n",
      "Best model saved at epoch 69 with best E=-50.48078, varE=0.16013\n",
      "step: 70, loss: 0.11561, mean energy: -50.56662, varE: 0.30525\n",
      "Best model saved at epoch 71 with best E=-50.58537, varE=0.23277\n",
      "Best model saved at epoch 72 with best E=-50.60614, varE=0.19583\n",
      "step: 80, loss: -0.35233, mean energy: -50.45088, varE: 0.12279\n",
      "step: 90, loss: 0.27767, mean energy: -50.48018, varE: 0.15772\n",
      "step: 100, loss: 0.35387, mean energy: -50.57668, varE: 0.22708\n",
      "Best model saved at epoch 108 with best E=-50.64497, varE=0.22076\n",
      "step: 110, loss: 0.07449, mean energy: -50.54661, varE: 0.18016\n",
      "step: 120, loss: 0.18740, mean energy: -50.63897, varE: 0.14989\n",
      "duration 6.578 hours\n"
     ]
    }
   ],
   "source": [
    "t1 =time.time()\n",
    "\n",
    "meanE, varE = run_1DTFIM_hypvars(numsteps=121, wf = wf_hypgru, systemsize=N, num_units=nunits, var_tol=0.25, Bx = 1, \n",
    "                numsamples = nsamples, lr1=1e-2, lr2 =1e-2, seed = 111, fname = 'results')\n",
    "\n",
    "t2 =time.time()\n",
    "t = t2-t1\n",
    "print(f'duration {np.round(t/3600,3)} hours')"
   ]
  }
 ],
 "metadata": {
  "kernelspec": {
   "display_name": "Python 3 (ipykernel)",
   "language": "python",
   "name": "python3"
  },
  "language_info": {
   "codemirror_mode": {
    "name": "ipython",
    "version": 3
   },
   "file_extension": ".py",
   "mimetype": "text/x-python",
   "name": "python",
   "nbconvert_exporter": "python",
   "pygments_lexer": "ipython3",
   "version": "3.9.12"
  }
 },
 "nbformat": 4,
 "nbformat_minor": 5
}
