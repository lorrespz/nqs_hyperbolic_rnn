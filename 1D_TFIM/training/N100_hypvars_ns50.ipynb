{
 "cells": [
  {
   "cell_type": "code",
   "execution_count": 1,
   "id": "2178653c",
   "metadata": {},
   "outputs": [
    {
     "name": "stderr",
     "output_type": "stream",
     "text": [
      "2025-03-27 22:57:33.561144: I tensorflow/core/platform/cpu_feature_guard.cc:210] This TensorFlow binary is optimized to use available CPU instructions in performance-critical operations.\n",
      "To enable the following instructions: AVX2 FMA, in other operations, rebuild TensorFlow with the appropriate compiler flags.\n"
     ]
    },
    {
     "name": "stdout",
     "output_type": "stream",
     "text": [
      "Num GPUs Available:  0\n"
     ]
    }
   ],
   "source": [
    "import sys\n",
    "sys.path.append('../utility')\n",
    "from hyprnn_train_loop_tfim import *"
   ]
  },
  {
   "cell_type": "code",
   "execution_count": 2,
   "id": "33a3515e",
   "metadata": {},
   "outputs": [],
   "source": [
    "N=100\n",
    "nunits = 50\n",
    "nsamples = 50\n",
    "B_x = 1\n",
    "Jz = np.ones(N)\n",
    "E_e = -126.96188"
   ]
  },
  {
   "cell_type": "markdown",
   "id": "f3017b75-a2d1-4942-b4fa-fca1642c4bb8",
   "metadata": {},
   "source": [
    "# EuclRNN"
   ]
  },
  {
   "cell_type": "code",
   "execution_count": 3,
   "id": "9b3966cb-66c8-4e16-8c2e-7cec9a964184",
   "metadata": {},
   "outputs": [
    {
     "data": {
      "text/plain": [
       "<hyprnn_wf.rnn_eucl_wf at 0x7f91aa6796d0>"
      ]
     },
     "execution_count": 3,
     "metadata": {},
     "output_type": "execute_result"
    }
   ],
   "source": [
    "wf_euclrnn = rnn_eucl_wf(systemsize = N, cell_type = 'EuclRNN', units = nunits)\n",
    "wf_euclrnn"
   ]
  },
  {
   "cell_type": "code",
   "execution_count": 4,
   "id": "7e8e30a8-407a-4f21-9a31-f42c2a746fce",
   "metadata": {},
   "outputs": [
    {
     "name": "stdout",
     "output_type": "stream",
     "text": [
      "step: 0, loss: 9.05415, mean energy: -92.41672, varE: 86.54960\n",
      "step: 10, loss: 2.00805, mean energy: -126.00297, varE: 1.45903\n",
      "step: 20, loss: -10.44903, mean energy: -125.02422, varE: 5.31202\n",
      "step: 30, loss: -3.85840, mean energy: -126.18355, varE: 1.14490\n",
      "step: 40, loss: -3.41721, mean energy: -126.43574, varE: 0.76084\n",
      "Best model saved at epoch 43 with best E=-126.84224, varE=0.45266\n",
      "step: 50, loss: -1.59788, mean energy: -126.56236, varE: 0.64354\n",
      "step: 60, loss: -0.33756, mean energy: -126.67185, varE: 0.34795\n",
      "step: 70, loss: -0.45893, mean energy: -126.76467, varE: 0.59166\n",
      "Best model saved at epoch 76 with best E=-126.90599, varE=0.28732\n",
      "step: 80, loss: 3.84592, mean energy: -126.63775, varE: 0.62838\n",
      "step: 90, loss: 3.39288, mean energy: -126.79947, varE: 1.47121\n",
      "step: 100, loss: -0.58656, mean energy: -126.74571, varE: 0.43430\n",
      "step: 110, loss: -0.46507, mean energy: -126.78590, varE: 0.36145\n",
      "Best model saved at epoch 117 with best E=-126.95068, varE=0.37441\n",
      "Best model saved at epoch 120 with best E=-126.95362, varE=0.37724\n",
      "step: 120, loss: -1.89697, mean energy: -126.95362, varE: 0.37724\n",
      "duration 0.951 hours\n"
     ]
    }
   ],
   "source": [
    "t1 =time.time()\n",
    "\n",
    "meanE, varE = run_1DTFIM(numsteps=121, wf = wf_euclrnn,  systemsize=N, num_units=nunits, var_tol=0.5, Bx = 1, \n",
    "                numsamples = nsamples, learningrate=1e-2, seed = 111, fname = 'results')\n",
    "t2 =time.time()\n",
    "t = t2-t1\n",
    "print(f'duration {np.round(t/3600,3)} hours')"
   ]
  },
  {
   "cell_type": "markdown",
   "id": "27468892",
   "metadata": {},
   "source": [
    "# EuclGRU"
   ]
  },
  {
   "cell_type": "code",
   "execution_count": 5,
   "id": "6462eb28-a529-4730-83f5-b776d925bbfd",
   "metadata": {},
   "outputs": [
    {
     "data": {
      "text/plain": [
       "<hyprnn_wf.rnn_eucl_wf at 0x7fc275ee6f40>"
      ]
     },
     "execution_count": 5,
     "metadata": {},
     "output_type": "execute_result"
    }
   ],
   "source": [
    "wf_euclgru = rnn_eucl_wf(systemsize = N, cell_type = 'EuclGRU', units = nunits)\n",
    "wf_euclgru"
   ]
  },
  {
   "cell_type": "code",
   "execution_count": 6,
   "id": "76d0b832",
   "metadata": {},
   "outputs": [
    {
     "name": "stdout",
     "output_type": "stream",
     "text": [
      "step: 0, loss: -4.38456, mean energy: -106.04472, varE: 83.29437\n",
      "step: 10, loss: -0.67098, mean energy: -126.44403, varE: 0.61742\n",
      "step: 20, loss: 1.05349, mean energy: -126.71248, varE: 0.74744\n",
      "step: 30, loss: 0.28758, mean energy: -126.53832, varE: 0.76790\n",
      "step: 40, loss: -0.61771, mean energy: -126.74898, varE: 0.47350\n",
      "step: 50, loss: 0.67110, mean energy: -127.15255, varE: 0.40865\n",
      "step: 60, loss: -0.59968, mean energy: -126.80209, varE: 0.29964\n",
      "Best model saved at epoch 65 with best E=-126.91485, varE=0.22870\n",
      "step: 70, loss: -1.70995, mean energy: -126.82552, varE: 0.23450\n",
      "step: 80, loss: -1.13041, mean energy: -126.84396, varE: 0.23202\n",
      "Best model saved at epoch 84 with best E=-126.91761, varE=0.22289\n",
      "step: 90, loss: -2.07512, mean energy: -126.71970, varE: 0.35948\n",
      "Best model saved at epoch 98 with best E=-126.93272, varE=0.19603\n",
      "step: 100, loss: 0.06204, mean energy: -126.90167, varE: 0.16317\n",
      "step: 110, loss: 0.44993, mean energy: -126.88267, varE: 0.25474\n",
      "Best model saved at epoch 120 with best E=-126.95212, varE=0.14205\n",
      "step: 120, loss: 0.25686, mean energy: -126.95212, varE: 0.14205\n",
      "duration 1.459 hours\n"
     ]
    }
   ],
   "source": [
    "t1 =time.time()\n",
    "\n",
    "meanE, varE = run_1DTFIM(numsteps=121, wf = wf_euclgru,  systemsize=N, num_units=nunits, var_tol=0.25, Bx = 1, \n",
    "                numsamples = nsamples, learningrate=1e-2, seed = 111, fname = 'results')\n",
    "t2 =time.time()\n",
    "t = t2-t1\n",
    "print(f'duration {np.round(t/3600,3)} hours')"
   ]
  },
  {
   "cell_type": "markdown",
   "id": "1833577d",
   "metadata": {},
   "source": [
    "# HypRNN"
   ]
  },
  {
   "cell_type": "code",
   "execution_count": 7,
   "id": "63420359-3396-44e4-a47d-03c666fcf63f",
   "metadata": {},
   "outputs": [
    {
     "data": {
      "text/plain": [
       "<hyprnn_wf.rnn_hyp_wf at 0x7fc23c5bd550>"
      ]
     },
     "execution_count": 7,
     "metadata": {},
     "output_type": "execute_result"
    }
   ],
   "source": [
    "wf_hyprnn= rnn_hyp_wf(systemsize = N, cell_type = 'HypRNN', bias_geo = 'hyp', hyp_non_lin = 'id', units = nunits)\n",
    "wf_hyprnn"
   ]
  },
  {
   "cell_type": "code",
   "execution_count": 8,
   "id": "d89ba162-7d93-471b-9295-9f8a24be8e2f",
   "metadata": {},
   "outputs": [
    {
     "name": "stdout",
     "output_type": "stream",
     "text": [
      "step: 0, loss: 36.93462, mean energy: -73.46658, varE: 171.66395\n",
      "step: 10, loss: 19.30362, mean energy: -118.89098, varE: 19.59104\n",
      "step: 20, loss: 8.41881, mean energy: -123.36890, varE: 6.66750\n",
      "step: 30, loss: 4.83903, mean energy: -125.24877, varE: 16.46004\n",
      "step: 40, loss: 7.52935, mean energy: -123.58607, varE: 8.46079\n",
      "step: 50, loss: 1.15502, mean energy: -124.69350, varE: 5.82666\n",
      "step: 60, loss: -4.83264, mean energy: -124.02343, varE: 8.37580\n",
      "step: 70, loss: -2.99493, mean energy: -124.57543, varE: 9.07859\n",
      "step: 80, loss: -2.35308, mean energy: -123.92528, varE: 5.21024\n",
      "step: 90, loss: -0.61864, mean energy: -123.64395, varE: 6.86073\n",
      "step: 100, loss: 6.02290, mean energy: -124.19539, varE: 5.29895\n",
      "step: 110, loss: 8.55985, mean energy: -123.69056, varE: 5.73918\n",
      "step: 120, loss: -0.02327, mean energy: -123.78325, varE: 3.31988\n",
      "duration 6.853 hours\n"
     ]
    }
   ],
   "source": [
    "t1 =time.time()\n",
    "\n",
    "meanE, varE = run_1DTFIM_hypvars(numsteps=121, wf=wf_hyprnn, systemsize=N, num_units=nunits, var_tol=0.25, Bx = 1, \n",
    "                numsamples = nsamples, lr1=1e-2, lr2 =1e-2, seed = 111, fname = 'results')\n",
    "t2 =time.time()\n",
    "t = t2-t1\n",
    "print(f'duration {np.round(t/3600,3)} hours')"
   ]
  },
  {
   "cell_type": "markdown",
   "id": "127ec7a5",
   "metadata": {},
   "source": [
    "# HypGRU"
   ]
  },
  {
   "cell_type": "code",
   "execution_count": 9,
   "id": "8b25b6e7-addf-4e3e-9b98-89776098ffc3",
   "metadata": {},
   "outputs": [
    {
     "data": {
      "text/plain": [
       "<hyprnn_wf.rnn_hyp_wf at 0x7fc0c7cc1a30>"
      ]
     },
     "execution_count": 9,
     "metadata": {},
     "output_type": "execute_result"
    }
   ],
   "source": [
    "wf_hypgru= rnn_hyp_wf(systemsize = N, cell_type = 'HypGRU', bias_geo = 'hyp', hyp_non_lin = 'id', units = nunits)\n",
    "wf_hypgru"
   ]
  },
  {
   "cell_type": "code",
   "execution_count": 10,
   "id": "e5dd0bdc",
   "metadata": {},
   "outputs": [
    {
     "name": "stdout",
     "output_type": "stream",
     "text": [
      "step: 0, loss: -3.59733, mean energy: -102.06742, varE: 83.63378\n",
      "step: 10, loss: -4.50383, mean energy: -125.81354, varE: 5.08284\n",
      "step: 20, loss: -6.84365, mean energy: -125.73623, varE: 6.20868\n",
      "step: 30, loss: 3.73712, mean energy: -126.30217, varE: 2.83554\n",
      "step: 40, loss: 3.35744, mean energy: -126.77738, varE: 2.36774\n",
      "step: 50, loss: -1.57336, mean energy: -126.31623, varE: 1.61551\n",
      "step: 60, loss: 0.12456, mean energy: -126.53437, varE: 0.43110\n",
      "step: 70, loss: 0.92667, mean energy: -127.01460, varE: 0.44640\n",
      "Best model saved at epoch 74 with best E=-126.93548, varE=0.19123\n",
      "step: 80, loss: -0.33149, mean energy: -126.88755, varE: 0.20972\n",
      "Best model saved at epoch 90 with best E=-126.93744, varE=0.18983\n",
      "step: 90, loss: -0.86114, mean energy: -126.93744, varE: 0.18983\n",
      "Best model saved at epoch 99 with best E=-126.94594, varE=0.24628\n",
      "step: 100, loss: 0.64133, mean energy: -126.87255, varE: 0.23041\n",
      "Best model saved at epoch 107 with best E=-126.95617, varE=0.22786\n",
      "step: 110, loss: -0.96638, mean energy: -126.91045, varE: 0.27488\n",
      "Best model saved at epoch 114 with best E=-126.97384, varE=0.18346\n",
      "step: 120, loss: -0.86766, mean energy: -126.87754, varE: 0.26401\n",
      "duration 19.476 hours\n"
     ]
    }
   ],
   "source": [
    "t1 =time.time()\n",
    "\n",
    "meanE, varE = run_1DTFIM_hypvars(numsteps=121, wf = wf_hypgru, systemsize=N, num_units=nunits, var_tol=0.25, Bx = 1, \n",
    "                numsamples = nsamples, lr1=1e-2, lr2 =1e-2, seed = 111, fname = 'results')\n",
    "\n",
    "t2 =time.time()\n",
    "t = t2-t1\n",
    "print(f'duration {np.round(t/3600,3)} hours')"
   ]
  }
 ],
 "metadata": {
  "kernelspec": {
   "display_name": "Python 3 (ipykernel)",
   "language": "python",
   "name": "python3"
  },
  "language_info": {
   "codemirror_mode": {
    "name": "ipython",
    "version": 3
   },
   "file_extension": ".py",
   "mimetype": "text/x-python",
   "name": "python",
   "nbconvert_exporter": "python",
   "pygments_lexer": "ipython3",
   "version": "3.9.12"
  }
 },
 "nbformat": 4,
 "nbformat_minor": 5
}
