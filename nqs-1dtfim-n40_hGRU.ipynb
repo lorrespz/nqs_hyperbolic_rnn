{
 "cells": [
  {
   "cell_type": "code",
   "execution_count": 1,
   "id": "4d1c6299",
   "metadata": {
    "_cell_guid": "b1076dfc-b9ad-4769-8c92-a6c4dae69d19",
    "_uuid": "8f2839f25d086af736a60e9eeb907d3b93b6e0e5",
    "execution": {
     "iopub.execute_input": "2024-10-15T05:43:16.788289Z",
     "iopub.status.busy": "2024-10-15T05:43:16.787923Z",
     "iopub.status.idle": "2024-10-15T05:43:16.804298Z",
     "shell.execute_reply": "2024-10-15T05:43:16.803290Z"
    },
    "papermill": {
     "duration": 0.023153,
     "end_time": "2024-10-15T05:43:16.806212",
     "exception": false,
     "start_time": "2024-10-15T05:43:16.783059",
     "status": "completed"
    },
    "tags": []
   },
   "outputs": [
    {
     "name": "stdout",
     "output_type": "stream",
     "text": [
      "/kaggle/input/nqs-rnn/rnn_impl_tf2.py\n",
      "/kaggle/input/nqs-rnn/nqs_TrainingLoop_hyp_tf2.py\n",
      "/kaggle/input/nqs-rnn/util_v2.py\n",
      "/kaggle/input/nqs-rnn/nqs_RNNwavefunction_hyp.py\n"
     ]
    }
   ],
   "source": [
    "import numpy as np \n",
    "import matplotlib.pyplot as plt\n",
    "\n",
    "import os\n",
    "for dirname, _, filenames in os.walk('/kaggle/input'):\n",
    "    for filename in filenames:\n",
    "        print(os.path.join(dirname, filename))\n"
   ]
  },
  {
   "cell_type": "code",
   "execution_count": 2,
   "id": "9e8a43d4",
   "metadata": {
    "execution": {
     "iopub.execute_input": "2024-10-15T05:43:16.813816Z",
     "iopub.status.busy": "2024-10-15T05:43:16.813544Z",
     "iopub.status.idle": "2024-10-15T05:43:29.778073Z",
     "shell.execute_reply": "2024-10-15T05:43:29.777299Z"
    },
    "papermill": {
     "duration": 12.970885,
     "end_time": "2024-10-15T05:43:29.780565",
     "exception": false,
     "start_time": "2024-10-15T05:43:16.809680",
     "status": "completed"
    },
    "tags": []
   },
   "outputs": [],
   "source": [
    "#https://www.kaggle.com/discussions/product-feedback/91185\n",
    "import sys\n",
    "sys.path.insert(1,'/kaggle/input/nqs-rnn/')\n",
    "from nqs_TrainingLoop_hyp_tf2 import *"
   ]
  },
  {
   "cell_type": "code",
   "execution_count": 3,
   "id": "3c385aa9",
   "metadata": {
    "execution": {
     "iopub.execute_input": "2024-10-15T05:43:29.788826Z",
     "iopub.status.busy": "2024-10-15T05:43:29.788284Z",
     "iopub.status.idle": "2024-10-15T05:43:30.008241Z",
     "shell.execute_reply": "2024-10-15T05:43:30.007233Z"
    },
    "papermill": {
     "duration": 0.226088,
     "end_time": "2024-10-15T05:43:30.010341",
     "exception": false,
     "start_time": "2024-10-15T05:43:29.784253",
     "status": "completed"
    },
    "tags": []
   },
   "outputs": [
    {
     "name": "stdout",
     "output_type": "stream",
     "text": [
      "Num GPUs Available:  1\n"
     ]
    }
   ],
   "source": [
    "print(\"Num GPUs Available: \", len(tf.config.list_physical_devices('GPU')))"
   ]
  },
  {
   "cell_type": "code",
   "execution_count": 4,
   "id": "a6992836",
   "metadata": {
    "execution": {
     "iopub.execute_input": "2024-10-15T05:43:30.018703Z",
     "iopub.status.busy": "2024-10-15T05:43:30.017906Z",
     "iopub.status.idle": "2024-10-15T05:43:30.022434Z",
     "shell.execute_reply": "2024-10-15T05:43:30.021657Z"
    },
    "papermill": {
     "duration": 0.010616,
     "end_time": "2024-10-15T05:43:30.024348",
     "exception": false,
     "start_time": "2024-10-15T05:43:30.013732",
     "status": "completed"
    },
    "tags": []
   },
   "outputs": [],
   "source": [
    "N=40\n",
    "numunits = 50\n",
    "Jz = np.ones(N)\n",
    "Bx = 1\n",
    "E_exact = -50.5694337844"
   ]
  },
  {
   "cell_type": "code",
   "execution_count": 5,
   "id": "4c274a0c",
   "metadata": {
    "execution": {
     "iopub.execute_input": "2024-10-15T05:43:30.032046Z",
     "iopub.status.busy": "2024-10-15T05:43:30.031548Z",
     "iopub.status.idle": "2024-10-15T05:43:30.035715Z",
     "shell.execute_reply": "2024-10-15T05:43:30.034914Z"
    },
    "papermill": {
     "duration": 0.010034,
     "end_time": "2024-10-15T05:43:30.037606",
     "exception": false,
     "start_time": "2024-10-15T05:43:30.027572",
     "status": "completed"
    },
    "tags": []
   },
   "outputs": [],
   "source": [
    "if not os.path.exists('/kaggle/working/results'):\n",
    "    os.mkdir('/kaggle/working/results')"
   ]
  },
  {
   "cell_type": "code",
   "execution_count": 6,
   "id": "2057638b",
   "metadata": {
    "execution": {
     "iopub.execute_input": "2024-10-15T05:43:30.045269Z",
     "iopub.status.busy": "2024-10-15T05:43:30.044719Z",
     "iopub.status.idle": "2024-10-15T05:43:30.048413Z",
     "shell.execute_reply": "2024-10-15T05:43:30.047590Z"
    },
    "papermill": {
     "duration": 0.009458,
     "end_time": "2024-10-15T05:43:30.050219",
     "exception": false,
     "start_time": "2024-10-15T05:43:30.040761",
     "status": "completed"
    },
    "tags": []
   },
   "outputs": [],
   "source": [
    "#HypRNN\n",
    "#mE_hrnn, vE_hrnn = run_1DTFIM(numsteps = 200,cell_type = 'HypRNN', systemsize = N, num_units = numunits, \n",
    "#                              Bx = Bx, numsamples = 500, learningrate=1e-2, seed = 111)"
   ]
  },
  {
   "cell_type": "code",
   "execution_count": 7,
   "id": "cce90232",
   "metadata": {
    "execution": {
     "iopub.execute_input": "2024-10-15T05:43:30.057488Z",
     "iopub.status.busy": "2024-10-15T05:43:30.057183Z",
     "iopub.status.idle": "2024-10-15T11:51:46.531312Z",
     "shell.execute_reply": "2024-10-15T11:51:46.530323Z"
    },
    "papermill": {
     "duration": 22096.48047,
     "end_time": "2024-10-15T11:51:46.533881",
     "exception": false,
     "start_time": "2024-10-15T05:43:30.053411",
     "status": "completed"
    },
    "tags": []
   },
   "outputs": [
    {
     "name": "stdout",
     "output_type": "stream",
     "text": [
      "step: 0, loss: -0.060958728564173725, mean energy: -40.754767630317744, varE: 31.912652679571192\n",
      "step: 10, loss: 1.6148556219116585, mean energy: -49.75670362018868, varE: 3.063496135875708\n",
      "step: 20, loss: -2.421616159191103, mean energy: -49.88664016477706, varE: 4.128214883717751\n",
      "step: 30, loss: 2.010287494483805, mean energy: -50.168921418916305, varE: 2.5582775555169106\n",
      "step: 40, loss: 1.0968935537448488, mean energy: -49.94263455406494, varE: 1.00117386270903\n",
      "step: 50, loss: 0.9299781063095907, mean energy: -49.87447116586633, varE: 0.7862141767159112\n",
      "step: 60, loss: 0.08778821696716932, mean energy: -50.15953139261006, varE: 0.8350646837489778\n",
      "step: 70, loss: -0.9350509143407635, mean energy: -50.227059623170845, varE: 0.5037181045480658\n",
      "step: 80, loss: -0.6760319679282247, mean energy: -50.365520881349504, varE: 0.4403484243472331\n",
      "step: 90, loss: -0.540898086403331, mean energy: -50.55078322422335, varE: 0.4204721681772381\n",
      "step: 100, loss: 0.38242869872021856, mean energy: -50.523410123432576, varE: 0.277528939397542\n",
      "step: 110, loss: -0.19805282865024765, mean energy: -50.38510387202288, varE: 0.18906963925567782\n",
      "step: 120, loss: 0.8849855319418793, mean energy: -50.52088927017539, varE: 0.2018210574819073\n",
      "step: 130, loss: -0.586984866207672, mean energy: -50.624411936116694, varE: 0.31863899968164644\n",
      "step: 140, loss: -0.15710066139672563, mean energy: -50.44082858626576, varE: 0.21970612807092976\n",
      "step: 150, loss: -0.37782423913813545, mean energy: -50.41749947516229, varE: 0.19062954054911482\n",
      "step: 160, loss: -0.6950627295217373, mean energy: -50.47840169984929, varE: 0.21181995563634728\n",
      "step: 170, loss: 0.24759650792839238, mean energy: -50.505170974770664, varE: 0.15819423415799325\n",
      "step: 180, loss: 0.08943706111404026, mean energy: -50.47131342870355, varE: 0.0858345896095521\n",
      "step: 190, loss: 0.14031770337385296, mean energy: -50.542234939058396, varE: 0.10609477695771594\n"
     ]
    }
   ],
   "source": [
    "#HypGRU\n",
    "mE_hgru, vE_hgru = run_1DTFIM(numsteps = 200,cell_type = 'HypGRU', systemsize = N, num_units = numunits, Bx = Bx, \n",
    "                numsamples = 50, learningrate=1e-2, seed = 111)"
   ]
  },
  {
   "cell_type": "code",
   "execution_count": 8,
   "id": "813b8a60",
   "metadata": {
    "execution": {
     "iopub.execute_input": "2024-10-15T11:51:46.545224Z",
     "iopub.status.busy": "2024-10-15T11:51:46.544898Z",
     "iopub.status.idle": "2024-10-15T11:51:46.548722Z",
     "shell.execute_reply": "2024-10-15T11:51:46.547871Z"
    },
    "papermill": {
     "duration": 0.011702,
     "end_time": "2024-10-15T11:51:46.550668",
     "exception": false,
     "start_time": "2024-10-15T11:51:46.538966",
     "status": "completed"
    },
    "tags": []
   },
   "outputs": [],
   "source": [
    "#EuclGRU\n",
    "#mE_egru, vE_egru = run_1DTFIM(numsteps = 200,cell_type = 'EuclGRU', systemsize = N, num_units = numunits, Bx = Bx, \n",
    "#               numsamples = 500, learningrate=1e-2, seed = 111)"
   ]
  },
  {
   "cell_type": "code",
   "execution_count": 9,
   "id": "63c15609",
   "metadata": {
    "execution": {
     "iopub.execute_input": "2024-10-15T11:51:46.561177Z",
     "iopub.status.busy": "2024-10-15T11:51:46.560892Z",
     "iopub.status.idle": "2024-10-15T11:51:46.564578Z",
     "shell.execute_reply": "2024-10-15T11:51:46.563755Z"
    },
    "papermill": {
     "duration": 0.011177,
     "end_time": "2024-10-15T11:51:46.566539",
     "exception": false,
     "start_time": "2024-10-15T11:51:46.555362",
     "status": "completed"
    },
    "tags": []
   },
   "outputs": [],
   "source": [
    "#EuclRNN\n",
    "#mE_ernn, vE_ernn = run_1DTFIM(numsteps = 200,cell_type = 'EuclRNN', systemsize = N, num_units = numunits, Bx = Bx, \n",
    "#                numsamples = 500, learningrate=1e-2, seed = 111)"
   ]
  }
 ],
 "metadata": {
  "kaggle": {
   "accelerator": "gpu",
   "dataSources": [
    {
     "datasetId": 5870685,
     "sourceId": 9619225,
     "sourceType": "datasetVersion"
    }
   ],
   "dockerImageVersionId": 30787,
   "isGpuEnabled": true,
   "isInternetEnabled": true,
   "language": "python",
   "sourceType": "notebook"
  },
  "kernelspec": {
   "display_name": "Python 3",
   "language": "python",
   "name": "python3"
  },
  "language_info": {
   "codemirror_mode": {
    "name": "ipython",
    "version": 3
   },
   "file_extension": ".py",
   "mimetype": "text/x-python",
   "name": "python",
   "nbconvert_exporter": "python",
   "pygments_lexer": "ipython3",
   "version": "3.10.14"
  },
  "papermill": {
   "default_parameters": {},
   "duration": 22114.225311,
   "end_time": "2024-10-15T11:51:48.294387",
   "environment_variables": {},
   "exception": null,
   "input_path": "__notebook__.ipynb",
   "output_path": "__notebook__.ipynb",
   "parameters": {},
   "start_time": "2024-10-15T05:43:14.069076",
   "version": "2.6.0"
  }
 },
 "nbformat": 4,
 "nbformat_minor": 5
}
