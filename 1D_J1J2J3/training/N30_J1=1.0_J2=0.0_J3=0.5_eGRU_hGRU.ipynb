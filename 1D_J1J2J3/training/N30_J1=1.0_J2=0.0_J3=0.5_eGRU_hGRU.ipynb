{
 "cells": [
  {
   "cell_type": "markdown",
   "id": "bde2d05a-8126-4f49-8ad0-bb75405ffdfd",
   "metadata": {},
   "source": [
    "# 1D J1J2J3 - (J2 = 0.0, J3 = 0.5)"
   ]
  },
  {
   "cell_type": "code",
   "execution_count": 1,
   "id": "a9abff75",
   "metadata": {
    "scrolled": true
   },
   "outputs": [
    {
     "name": "stderr",
     "output_type": "stream",
     "text": [
      "2025-05-23 17:26:37.501010: I tensorflow/core/platform/cpu_feature_guard.cc:210] This TensorFlow binary is optimized to use available CPU instructions in performance-critical operations.\n",
      "To enable the following instructions: AVX2 FMA, in other operations, rebuild TensorFlow with the appropriate compiler flags.\n"
     ]
    },
    {
     "name": "stdout",
     "output_type": "stream",
     "text": [
      "Num GPUs Available:  0\n"
     ]
    }
   ],
   "source": [
    "import sys\n",
    "sys.path.append('../../utility')\n",
    "from j1j2j3_hyprnn_train_loop import *"
   ]
  },
  {
   "cell_type": "code",
   "execution_count": 2,
   "id": "f4fd866c",
   "metadata": {},
   "outputs": [],
   "source": [
    "E_exact = -15.890276\n",
    "syssize = 30 #30 is divisible by both 2 and 3\n",
    "nssamples = 50\n",
    "J1 = 1.0\n",
    "J2 = 0.0\n",
    "J3 = 0.5\n",
    "var_tol = 1.0"
   ]
  },
  {
   "cell_type": "markdown",
   "id": "1cc2f89e",
   "metadata": {},
   "source": [
    "# EuclGRU"
   ]
  },
  {
   "cell_type": "code",
   "execution_count": 3,
   "id": "7d6ddbdf",
   "metadata": {},
   "outputs": [
    {
     "data": {
      "text/plain": [
       "<j1j2_hyprnn_wf.rnn_eucl_wf at 0x13fed6ba0>"
      ]
     },
     "execution_count": 3,
     "metadata": {},
     "output_type": "execute_result"
    }
   ],
   "source": [
    "cell_type = 'EuclGRU'\n",
    "hidden_units = 50\n",
    "wf_egru = rnn_eucl_wf(syssize, cell_type, hidden_units)\n",
    "wf_egru"
   ]
  },
  {
   "cell_type": "code",
   "execution_count": 4,
   "id": "51370d5b",
   "metadata": {
    "scrolled": true
   },
   "outputs": [
    {
     "name": "stdout",
     "output_type": "stream",
     "text": [
      "step: 0, loss: -2.02051, mean energy: 9.69336-0.13354j, varE: 1.44351\n",
      "step: 10, loss: 3.05856, mean energy: 0.00334+0.08391j, varE: 6.13151\n",
      "step: 20, loss: 3.31698, mean energy: -1.76565+0.10153j, varE: 5.62831\n",
      "step: 30, loss: -0.28548, mean energy: -3.49048+0.05628j, varE: 7.80632\n",
      "step: 40, loss: -6.20322, mean energy: -7.20633-0.03938j, varE: 8.60391\n",
      "Best model saved at epoch 46 with best E=-10.79427+0.10222j, varE=1.41455\n",
      "Best model saved at epoch 47 with best E=-10.88883+0.16480j, varE=0.97839\n",
      "Best model saved at epoch 50 with best E=-11.16493-0.13062j, varE=0.68446\n",
      "step: 50, loss: 1.74286, mean energy: -11.16493-0.13062j, varE: 0.68446\n",
      "Best model saved at epoch 53 with best E=-11.22607-0.10306j, varE=0.80112\n",
      "Best model saved at epoch 54 with best E=-11.25219-0.05531j, varE=0.30321\n",
      "Best model saved at epoch 58 with best E=-11.31759+0.01040j, varE=0.00138\n",
      "Best model saved at epoch 59 with best E=-11.35696+0.03953j, varE=0.16466\n",
      "step: 60, loss: 0.02755, mean energy: -11.31629-0.02009j, varE: 0.00207\n",
      "Best model saved at epoch 66 with best E=-11.37730+0.04007j, varE=0.22026\n",
      "step: 70, loss: 0.00009, mean energy: -11.31658+0.01009j, varE: 0.00006\n",
      "Best model saved at epoch 73 with best E=-11.39799-0.05484j, varE=0.30274\n",
      "step: 80, loss: 0.33645, mean energy: -11.35722-0.02581j, varE: 0.12777\n",
      "Best model saved at epoch 81 with best E=-11.40477-0.04560j, varE=0.24867\n",
      "step: 90, loss: -0.72468, mean energy: -11.16231-0.01364j, varE: 1.05988\n",
      "step: 100, loss: 0.01426, mean energy: -11.28934-0.01860j, varE: 0.00259\n",
      "step: 110, loss: -0.14901, mean energy: -11.24435-0.08497j, varE: 0.32729\n",
      "step: 120, loss: -0.07760, mean energy: -11.33893+0.03352j, varE: 0.16080\n",
      "step: 130, loss: -0.16971, mean energy: -11.07535-0.11952j, varE: 2.25677\n",
      "step: 140, loss: 0.00159, mean energy: -11.30747-0.01119j, varE: 0.00061\n",
      "step: 150, loss: 0.16345, mean energy: -11.35225+0.00186j, varE: 0.09471\n",
      "step: 160, loss: 0.12516, mean energy: -11.35771+0.01602j, varE: 0.13783\n",
      "Best model saved at epoch 168 with best E=-11.45332-0.09230j, varE=1.38463\n",
      "step: 170, loss: 0.04414, mean energy: -11.34885+0.00498j, varE: 0.07284\n",
      "step: 180, loss: -0.00064, mean energy: -11.30967-0.03735j, varE: 0.00102\n",
      "step: 190, loss: 0.08537, mean energy: -11.39047+0.01849j, varE: 0.15775\n",
      "step: 200, loss: 0.00020, mean energy: -11.32417-0.00378j, varE: 0.00005\n",
      "step: 210, loss: 0.12723, mean energy: -11.14188-0.16838j, varE: 2.59366\n",
      "Best model saved at epoch 216 with best E=-11.46325+0.00652j, varE=1.48616\n",
      "step: 220, loss: 0.13543, mean energy: -11.33789-0.03334j, varE: 0.06408\n",
      "step: 230, loss: 0.00530, mean energy: -11.31816+0.04031j, varE: 0.00054\n",
      "step: 240, loss: 0.22470, mean energy: -11.32650+0.01833j, varE: 0.03653\n",
      "step: 250, loss: 0.22591, mean energy: -11.32590-0.03553j, varE: 0.05024\n",
      "Best model saved at epoch 255 with best E=-11.47924-0.13249j, varE=1.11249\n",
      "step: 260, loss: -0.10589, mean energy: -11.34176+0.01538j, varE: 0.04680\n",
      "step: 270, loss: 0.00033, mean energy: -11.33582-0.00981j, varE: 0.00003\n",
      "step: 280, loss: 0.11031, mean energy: -11.37053+0.00358j, varE: 0.04640\n",
      "Total time taken: 2.302\n"
     ]
    }
   ],
   "source": [
    "nsteps = 281\n",
    "start = time.time()\n",
    "\n",
    "mE, vE = run_J1J2J3(wf=wf_egru, numsteps=nsteps, systemsize=syssize, var_tol=2.0, J1_  = J1, \n",
    "                   J2_ = J2, J3_ = J3, Marshall_sign = True, \n",
    "                  numsamples = nssamples, learningrate = 1e-2, seed = 111, fname = '../results')\n",
    "finish = time.time()\n",
    "duration = finish-start\n",
    "print(f'Total time taken: {np.round(duration/3600,3)}')"
   ]
  },
  {
   "cell_type": "markdown",
   "id": "a587abf4",
   "metadata": {},
   "source": [
    "# HypGRU"
   ]
  },
  {
   "cell_type": "code",
   "execution_count": 5,
   "id": "38d7e7c3",
   "metadata": {},
   "outputs": [
    {
     "data": {
      "text/plain": [
       "<j1j2_hyprnn_wf.rnn_hyp_wf at 0x140aff530>"
      ]
     },
     "execution_count": 5,
     "metadata": {},
     "output_type": "execute_result"
    }
   ],
   "source": [
    "cell_type = 'HypGRU'\n",
    "hidden_units = 50\n",
    "wf_hgru = rnn_hyp_wf(syssize, cell_type, 'hyp', 'id', hidden_units)\n",
    "wf_hgru"
   ]
  },
  {
   "cell_type": "code",
   "execution_count": 6,
   "id": "d8615c46",
   "metadata": {},
   "outputs": [
    {
     "name": "stdout",
     "output_type": "stream",
     "text": [
      "step: 0, loss: -4.32995, mean energy: 6.67176-0.46989j, varE: 6.85439\n",
      "step: 10, loss: -2.96718, mean energy: -0.88150-0.18656j, varE: 8.04075\n",
      "step: 20, loss: -4.77858, mean energy: -3.79081-0.08421j, varE: 8.01303\n",
      "step: 30, loss: -4.48795, mean energy: -8.11780-0.57333j, varE: 9.16899\n",
      "step: 40, loss: -4.62119, mean energy: -9.19709+0.15541j, varE: 8.77689\n",
      "step: 50, loss: -6.51627, mean energy: -10.83565+0.03807j, varE: 8.60810\n",
      "step: 60, loss: 7.41050, mean energy: -13.11120-0.25829j, varE: 26.72588\n",
      "step: 70, loss: 9.58500, mean energy: -13.31051+0.46903j, varE: 7.33000\n",
      "step: 80, loss: 0.71408, mean energy: -13.35046-0.09138j, varE: 3.45279\n",
      "step: 90, loss: 1.50108, mean energy: -14.20506-0.05959j, varE: 3.15067\n",
      "Best model saved at epoch 93 with best E=-14.52561+0.08516j, varE=1.59714\n",
      "step: 100, loss: 1.34274, mean energy: -14.47256-0.13010j, varE: 3.06629\n",
      "Best model saved at epoch 109 with best E=-15.09258+0.09814j, varE=1.89056\n",
      "step: 110, loss: -5.06539, mean energy: -14.28339-0.08713j, varE: 3.79871\n",
      "step: 120, loss: -3.12880, mean energy: -13.46762-0.07260j, varE: 2.86413\n",
      "step: 130, loss: 0.06126, mean energy: -14.36294-0.09384j, varE: 5.16054\n",
      "step: 140, loss: 8.04933, mean energy: -15.41031+0.10264j, varE: 6.61483\n",
      "Best model saved at epoch 146 with best E=-15.14431-0.00262j, varE=0.86874\n",
      "step: 150, loss: 1.35973, mean energy: -14.64585-0.09067j, varE: 1.68188\n",
      "step: 160, loss: 5.96456, mean energy: -14.64793+0.17900j, varE: 3.40364\n",
      "step: 170, loss: 7.33026, mean energy: -13.93192+0.35840j, varE: 7.94208\n",
      "step: 180, loss: 6.72074, mean energy: -14.24436-0.13904j, varE: 2.19087\n",
      "step: 190, loss: 3.74635, mean energy: -14.02873+0.36857j, varE: 6.29064\n",
      "step: 200, loss: 0.13493, mean energy: -14.14797+0.11648j, varE: 2.14134\n",
      "step: 210, loss: -2.95036, mean energy: -14.43211-0.08792j, varE: 5.29001\n",
      "step: 220, loss: -2.10413, mean energy: -13.47375-0.04754j, varE: 8.66962\n",
      "step: 230, loss: -1.84839, mean energy: -13.68038-0.06246j, varE: 2.13893\n",
      "step: 240, loss: 2.66886, mean energy: -14.52075+0.11715j, varE: 4.40676\n",
      "step: 250, loss: -5.67633, mean energy: -14.41722+0.00644j, varE: 2.52211\n",
      "step: 260, loss: -0.35981, mean energy: -15.11502-0.02242j, varE: 0.95268\n",
      "step: 270, loss: 0.78973, mean energy: -14.95297-0.02085j, varE: 1.43524\n",
      "Best model saved at epoch 279 with best E=-15.15565+0.13966j, varE=1.69040\n",
      "step: 280, loss: 0.91259, mean energy: -15.10252+0.02943j, varE: 0.37208\n",
      "Total time taken: 20.042\n"
     ]
    }
   ],
   "source": [
    "nsteps=281\n",
    "start = time.time()\n",
    "mE, vE = run_J1J2J3_hypvars(wf=wf_hgru, numsteps=nsteps, systemsize=syssize, var_tol=2.0,\n",
    "                          J1_ = J1, J2_ = J2, J3_ = J3, Marshall_sign = True, \n",
    "                           numsamples = nssamples,  lr1=1e-2, lr2=1e-2, seed = 111, fname = '../results')\n",
    "finish = time.time()\n",
    "duration = finish-start\n",
    "print(f'Total time taken: {np.round(duration/3600,3)}')"
   ]
  }
 ],
 "metadata": {
  "kernelspec": {
   "display_name": "Python 3 (ipykernel)",
   "language": "python",
   "name": "python3"
  },
  "language_info": {
   "codemirror_mode": {
    "name": "ipython",
    "version": 3
   },
   "file_extension": ".py",
   "mimetype": "text/x-python",
   "name": "python",
   "nbconvert_exporter": "python",
   "pygments_lexer": "ipython3",
   "version": "3.12.7"
  }
 },
 "nbformat": 4,
 "nbformat_minor": 5
}
