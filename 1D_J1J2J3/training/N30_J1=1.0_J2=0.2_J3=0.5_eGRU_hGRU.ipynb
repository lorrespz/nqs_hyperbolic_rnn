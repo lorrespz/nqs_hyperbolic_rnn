{
 "cells": [
  {
   "cell_type": "markdown",
   "id": "7ce1d01a-1271-42ca-a234-6c4a7309d056",
   "metadata": {},
   "source": [
    "# 1D J1J2J3 - (J2 = 0.2, J3 = 0.5)"
   ]
  },
  {
   "cell_type": "code",
   "execution_count": 1,
   "id": "a9abff75",
   "metadata": {
    "scrolled": true
   },
   "outputs": [
    {
     "name": "stderr",
     "output_type": "stream",
     "text": [
      "2025-05-22 13:18:08.198610: I tensorflow/core/platform/cpu_feature_guard.cc:210] This TensorFlow binary is optimized to use available CPU instructions in performance-critical operations.\n",
      "To enable the following instructions: AVX2 FMA, in other operations, rebuild TensorFlow with the appropriate compiler flags.\n"
     ]
    },
    {
     "name": "stdout",
     "output_type": "stream",
     "text": [
      "Num GPUs Available:  0\n"
     ]
    }
   ],
   "source": [
    "import sys\n",
    "sys.path.append('../../utility')\n",
    "from j1j2j3_hyprnn_train_loop import *"
   ]
  },
  {
   "cell_type": "code",
   "execution_count": 3,
   "id": "f4fd866c",
   "metadata": {},
   "outputs": [],
   "source": [
    "E_exact = -14.640825798\n",
    "syssize = 30 #30 is divisible by both 2 and 3\n",
    "nssamples = 50\n",
    "J1 = 1.0\n",
    "J2 = 0.2\n",
    "J3 = 0.5\n",
    "var_tol = 1.0"
   ]
  },
  {
   "cell_type": "markdown",
   "id": "1cc2f89e",
   "metadata": {},
   "source": [
    "# EuclGRU"
   ]
  },
  {
   "cell_type": "code",
   "execution_count": 4,
   "id": "7d6ddbdf",
   "metadata": {},
   "outputs": [
    {
     "data": {
      "text/plain": [
       "<j1j2_hyprnn_wf.rnn_eucl_wf at 0x7fd297e2a400>"
      ]
     },
     "execution_count": 4,
     "metadata": {},
     "output_type": "execute_result"
    }
   ],
   "source": [
    "cell_type = 'EuclGRU'\n",
    "hidden_units = 50\n",
    "wf_egru = rnn_eucl_wf(syssize, cell_type, hidden_units)\n",
    "wf_egru"
   ]
  },
  {
   "cell_type": "code",
   "execution_count": 5,
   "id": "51370d5b",
   "metadata": {
    "scrolled": true
   },
   "outputs": [
    {
     "name": "stdout",
     "output_type": "stream",
     "text": [
      "step: 0, loss: -2.35158, mean energy: 10.95142-0.12163j, varE: 1.93443\n",
      "step: 10, loss: 3.34920, mean energy: -0.71873+0.14785j, varE: 10.76491\n",
      "step: 20, loss: 3.97474, mean energy: -2.54386+0.02976j, varE: 5.54438\n",
      "step: 30, loss: -5.86503, mean energy: -3.51448-0.42863j, varE: 7.64345\n",
      "step: 40, loss: 7.42936, mean energy: -6.78337+0.12662j, varE: 9.77871\n",
      "step: 50, loss: 7.36242, mean energy: -9.18619-0.20248j, varE: 10.88332\n",
      "Best model saved at epoch 60 with best E=-9.25279+0.02504j, varE=2.99603\n",
      "step: 60, loss: -2.86110, mean energy: -9.25279+0.02504j, varE: 2.99603\n",
      "Best model saved at epoch 63 with best E=-9.83437+0.00505j, varE=0.79473\n",
      "Best model saved at epoch 65 with best E=-10.04118+0.00479j, varE=1.96052\n",
      "step: 70, loss: -2.27479, mean energy: -9.54938-0.10811j, varE: 2.12251\n",
      "step: 80, loss: -1.68909, mean energy: -9.42752-0.25201j, varE: 6.75135\n",
      "step: 90, loss: 0.48286, mean energy: -9.61398-0.04825j, varE: 1.21914\n",
      "step: 100, loss: -0.59922, mean energy: -9.68683+0.14253j, varE: 0.95132\n",
      "step: 110, loss: -0.27106, mean energy: -9.86479+0.11260j, varE: 1.66390\n",
      "step: 120, loss: -1.69376, mean energy: -9.80136-0.39330j, varE: 10.17285\n",
      "Best model saved at epoch 126 with best E=-10.07423+0.07052j, varE=2.86033\n",
      "step: 130, loss: -0.17138, mean energy: -9.94245+0.16881j, varE: 0.40889\n",
      "step: 140, loss: -1.25023, mean energy: -9.30971+0.04082j, varE: 0.88781\n",
      "step: 150, loss: -1.04186, mean energy: -9.55196+0.02190j, varE: 0.94432\n",
      "step: 160, loss: -0.00573, mean energy: -9.73467+0.02070j, varE: 0.00148\n",
      "step: 170, loss: 0.00884, mean energy: -9.73905+0.03110j, varE: 0.00087\n",
      "step: 180, loss: -0.51017, mean energy: -9.67990-0.01484j, varE: 0.12482\n",
      "step: 190, loss: 0.04310, mean energy: -9.72320+0.02408j, varE: 0.00093\n",
      "step: 200, loss: 0.03589, mean energy: -9.75336+0.02204j, varE: 0.00060\n",
      "step: 210, loss: 0.02439, mean energy: -9.76405+0.02968j, varE: 0.00026\n",
      "step: 220, loss: -0.00530, mean energy: -9.76322+0.02198j, varE: 0.00008\n",
      "step: 230, loss: -0.00893, mean energy: -9.78002-0.00275j, varE: 0.00007\n",
      "step: 240, loss: 0.01215, mean energy: -9.78192-0.00997j, varE: 0.00009\n",
      "step: 250, loss: 0.01083, mean energy: -9.78719-0.00546j, varE: 0.00008\n",
      "step: 260, loss: 0.00808, mean energy: -9.78951-0.00717j, varE: 0.00006\n",
      "step: 270, loss: 0.00748, mean energy: -9.78940-0.00905j, varE: 0.00006\n",
      "step: 280, loss: -0.00023, mean energy: -9.78940-0.00984j, varE: 0.00001\n",
      "Total time taken: 1.493\n"
     ]
    }
   ],
   "source": [
    "nsteps = 281\n",
    "start = time.time()\n",
    "\n",
    "mE, vE = run_J1J2J3(wf=wf_egru, numsteps=nsteps, systemsize=syssize, var_tol=3.0, J1_  = J1, \n",
    "                   J2_ = J2, J3_ = J3, Marshall_sign = True, \n",
    "                  numsamples = nssamples, learningrate = 1e-2, seed = 111, fname = '../results')\n",
    "finish = time.time()\n",
    "duration = finish-start\n",
    "print(f'Total time taken: {np.round(duration/3600,3)}')"
   ]
  },
  {
   "cell_type": "markdown",
   "id": "a587abf4",
   "metadata": {},
   "source": [
    "# HypGRU"
   ]
  },
  {
   "cell_type": "code",
   "execution_count": 6,
   "id": "38d7e7c3",
   "metadata": {},
   "outputs": [
    {
     "data": {
      "text/plain": [
       "<j1j2_hyprnn_wf.rnn_hyp_wf at 0x7fd297e2a3d0>"
      ]
     },
     "execution_count": 6,
     "metadata": {},
     "output_type": "execute_result"
    }
   ],
   "source": [
    "cell_type = 'HypGRU'\n",
    "hidden_units = 50\n",
    "wf_hgru = rnn_hyp_wf(syssize, cell_type, 'hyp', 'id', hidden_units)\n",
    "wf_hgru"
   ]
  },
  {
   "cell_type": "code",
   "execution_count": 7,
   "id": "d8615c46",
   "metadata": {},
   "outputs": [
    {
     "name": "stdout",
     "output_type": "stream",
     "text": [
      "step: 0, loss: -4.84372, mean energy: 7.63448-0.52020j, varE: 7.76986\n",
      "step: 10, loss: -3.76506, mean energy: -2.17134+0.03198j, varE: 6.03258\n",
      "step: 20, loss: 0.72345, mean energy: -3.26363+0.41261j, varE: 5.20440\n",
      "step: 30, loss: -3.48018, mean energy: -6.24321-0.18110j, varE: 8.22158\n",
      "step: 40, loss: -7.93093, mean energy: -8.12269+0.17195j, varE: 11.27261\n",
      "step: 50, loss: -4.18301, mean energy: -10.52880+0.04793j, varE: 5.36608\n",
      "step: 60, loss: 1.41857, mean energy: -11.31213+0.13205j, varE: 4.07743\n",
      "step: 70, loss: 1.38642, mean energy: -11.62743-0.18233j, varE: 2.77986\n",
      "Best model saved at epoch 76 with best E=-11.93902+0.05306j, varE=1.39123\n",
      "step: 80, loss: -3.72921, mean energy: -11.90269-0.01004j, varE: 2.29670\n",
      "Best model saved at epoch 84 with best E=-12.21216-0.29298j, varE=1.74458\n",
      "Best model saved at epoch 85 with best E=-12.40838+0.02119j, varE=1.38847\n",
      "step: 90, loss: -3.17034, mean energy: -12.23428+0.13224j, varE: 1.86283\n",
      "step: 100, loss: -0.63613, mean energy: -12.32237-0.04714j, varE: 1.12893\n",
      "Best model saved at epoch 104 with best E=-12.48457-0.07706j, varE=1.41476\n",
      "Best model saved at epoch 109 with best E=-12.62810-0.05314j, varE=1.36572\n",
      "step: 110, loss: -0.90809, mean energy: -12.43820+0.02643j, varE: 0.77777\n",
      "Best model saved at epoch 119 with best E=-12.66218-0.00706j, varE=0.40857\n",
      "step: 120, loss: -1.44758, mean energy: -12.19717-0.03070j, varE: 2.92775\n",
      "step: 130, loss: 0.82844, mean energy: -12.10435+0.25535j, varE: 5.83747\n",
      "step: 140, loss: 2.64807, mean energy: -12.13115-0.13173j, varE: 1.84649\n",
      "step: 150, loss: -4.51420, mean energy: -12.07154-0.12217j, varE: 1.80955\n",
      "step: 160, loss: 0.52610, mean energy: -12.59638+0.06264j, varE: 1.49425\n",
      "step: 170, loss: -0.46005, mean energy: -12.61375+0.01952j, varE: 1.23281\n",
      "Best model saved at epoch 174 with best E=-12.73951+0.02505j, varE=1.03440\n",
      "Best model saved at epoch 177 with best E=-12.74574+0.07247j, varE=0.57655\n",
      "step: 180, loss: -2.98320, mean energy: -12.61111-0.11192j, varE: 4.67492\n",
      "Best model saved at epoch 185 with best E=-12.79146+0.02200j, varE=1.08073\n",
      "Best model saved at epoch 186 with best E=-12.84355-0.00560j, varE=1.19144\n",
      "step: 190, loss: 0.24560, mean energy: -12.73493-0.06129j, varE: 0.43432\n",
      "step: 200, loss: -0.49825, mean energy: -12.65734+0.06994j, varE: 0.52439\n",
      "Best model saved at epoch 208 with best E=-12.88073+0.09479j, varE=0.80408\n",
      "step: 210, loss: 0.83216, mean energy: -12.67398+0.01773j, varE: 2.02834\n",
      "step: 220, loss: -1.32507, mean energy: -12.61878-0.05093j, varE: 1.33827\n",
      "step: 230, loss: -0.93948, mean energy: -12.86667+0.02798j, varE: 0.54402\n",
      "step: 240, loss: -1.00586, mean energy: -12.77362-0.03778j, varE: 0.55385\n",
      "step: 250, loss: -4.36089, mean energy: -12.32609+0.09517j, varE: 4.14153\n",
      "step: 260, loss: 0.73635, mean energy: -12.75027+0.08289j, varE: 0.22594\n",
      "Best model saved at epoch 261 with best E=-12.90182+0.06805j, varE=0.45322\n",
      "step: 270, loss: 0.67351, mean energy: -12.74201+0.01079j, varE: 0.41380\n",
      "step: 280, loss: 4.81422, mean energy: -12.75043+0.16710j, varE: 1.35887\n",
      "Total time taken: 8.085\n"
     ]
    }
   ],
   "source": [
    "nsteps=281\n",
    "start = time.time()\n",
    "mE, vE = run_J1J2J3_hypvars(wf=wf_hgru, numsteps=nsteps, systemsize=syssize, var_tol=2.0,\n",
    "                          J1_ = J1, J2_ = J2, J3_ = J3, Marshall_sign = True, \n",
    "                           numsamples = nssamples,  lr1=1e-2, lr2=1e-2, seed = 111, fname = '../results')\n",
    "finish = time.time()\n",
    "duration = finish-start\n",
    "print(f'Total time taken: {np.round(duration/3600,3)}')"
   ]
  }
 ],
 "metadata": {
  "kernelspec": {
   "display_name": "Python 3 (ipykernel)",
   "language": "python",
   "name": "python3"
  },
  "language_info": {
   "codemirror_mode": {
    "name": "ipython",
    "version": 3
   },
   "file_extension": ".py",
   "mimetype": "text/x-python",
   "name": "python",
   "nbconvert_exporter": "python",
   "pygments_lexer": "ipython3",
   "version": "3.12.7"
  }
 },
 "nbformat": 4,
 "nbformat_minor": 5
}
